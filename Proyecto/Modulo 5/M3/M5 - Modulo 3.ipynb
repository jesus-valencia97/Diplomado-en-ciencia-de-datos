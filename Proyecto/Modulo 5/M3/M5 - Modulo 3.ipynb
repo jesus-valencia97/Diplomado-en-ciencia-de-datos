{
 "cells": [
  {
   "cell_type": "markdown",
   "id": "c2b10b0f",
   "metadata": {},
   "source": [
    "# Introducción"
   ]
  },
  {
   "cell_type": "code",
   "execution_count": 1,
   "id": "a14391b4",
   "metadata": {},
   "outputs": [
    {
     "data": {
      "text/html": [
       "        <script type=\"text/javascript\">\n",
       "        window.PlotlyConfig = {MathJaxConfig: 'local'};\n",
       "        if (window.MathJax) {MathJax.Hub.Config({SVG: {font: \"STIX-Web\"}});}\n",
       "        if (typeof require !== 'undefined') {\n",
       "        require.undef(\"plotly\");\n",
       "        requirejs.config({\n",
       "            paths: {\n",
       "                'plotly': ['https://cdn.plot.ly/plotly-2.8.3.min']\n",
       "            }\n",
       "        });\n",
       "        require(['plotly'], function(Plotly) {\n",
       "            window._Plotly = Plotly;\n",
       "        });\n",
       "        }\n",
       "        </script>\n",
       "        "
      ]
     },
     "metadata": {},
     "output_type": "display_data"
    },
    {
     "data": {
      "text/html": [
       "        <script type=\"text/javascript\">\n",
       "        window.PlotlyConfig = {MathJaxConfig: 'local'};\n",
       "        if (window.MathJax) {MathJax.Hub.Config({SVG: {font: \"STIX-Web\"}});}\n",
       "        if (typeof require !== 'undefined') {\n",
       "        require.undef(\"plotly\");\n",
       "        requirejs.config({\n",
       "            paths: {\n",
       "                'plotly': ['https://cdn.plot.ly/plotly-2.8.3.min']\n",
       "            }\n",
       "        });\n",
       "        require(['plotly'], function(Plotly) {\n",
       "            window._Plotly = Plotly;\n",
       "        });\n",
       "        }\n",
       "        </script>\n",
       "        "
      ]
     },
     "metadata": {},
     "output_type": "display_data"
    }
   ],
   "source": [
    "#Misc\n",
    "import os\n",
    "import pickle\n",
    "import importlib\n",
    "\n",
    "#Data\n",
    "import pandas as pd\n",
    "import numpy as np\n",
    "\n",
    "\n",
    "# Visualización\n",
    "import cufflinks as cf\n",
    "import matplotlib.ticker as tkr\n",
    "import matplotlib.pyplot as plt\n",
    "import seaborn as sns\n",
    "\n",
    "# Opciones\n",
    "plt.style.use('seaborn-white')\n",
    "pd.set_option('display.max_columns', 500)\n",
    "pd.set_option('display.max_rows', 100)\n",
    "cf.set_config_file(theme='white',dimensions=(650,450))\n",
    "cf.go_offline()"
   ]
  },
  {
   "cell_type": "code",
   "execution_count": 2,
   "id": "7e9ae556",
   "metadata": {},
   "outputs": [],
   "source": [
    "from sklearn.preprocessing import MinMaxScaler\n",
    "from sklearn.decomposition import PCA\n",
    "from sklearn.manifold import MDS\n",
    "from sklearn.cluster import AgglomerativeClustering\n",
    "from sklearn.cluster import KMeans\n",
    "from sklearn.mixture import GaussianMixture\n",
    "from sklearn.cluster import DBSCAN\n",
    "\n",
    "from scipy.stats import kruskal\n",
    "from statsmodels.stats.multicomp import pairwise_tukeyhsd"
   ]
  },
  {
   "cell_type": "code",
   "execution_count": 3,
   "id": "f29edf38",
   "metadata": {},
   "outputs": [
    {
     "data": {
      "text/plain": [
       "<module 'SupervisedUtils' from 'c:\\\\Users\\\\JesúsAdolfoValenciaM\\\\Diplomado-en-ciencia-de-datos\\\\Proyecto\\\\Modulo 5\\\\M3\\\\../../Datasets\\\\SupervisedUtils.py'>"
      ]
     },
     "execution_count": 3,
     "metadata": {},
     "output_type": "execute_result"
    }
   ],
   "source": [
    "# Scripts personales\n",
    "sys.path.insert(1, '../../Datasets/')\n",
    "\n",
    "# String\n",
    "import StringUtils \n",
    "importlib.reload(StringUtils)\n",
    "\n",
    "import PlotUtils \n",
    "importlib.reload(PlotUtils)\n",
    "\n",
    "import SupervisedUtils \n",
    "importlib.reload(SupervisedUtils)"
   ]
  },
  {
   "cell_type": "code",
   "execution_count": 4,
   "id": "b54bd392",
   "metadata": {},
   "outputs": [],
   "source": [
    "def get_random_string(length):\n",
    "    # choose from all lowercase letter\n",
    "    letters = string.ascii_lowercase\n",
    "    result_str = ''.join(random.choice(letters) for i in range(length))\n",
    "    result_str = 'trybase_' + result_str\n",
    "    return result_str\n",
    "\n",
    "def plot_method(df,var1,var2,tad,method,title=None):\n",
    "    fig = px.scatter(x=df[var1],y=df[var2],color=tad[method].astype(str), symbol=tad[method].astype(str))\n",
    "    fig.update_traces(marker=dict(size=5,\n",
    "                                  line=dict(width=0.2,\n",
    "                                            color='white')),\n",
    "                      selector=dict(mode='markers'))\n",
    "    if title:\n",
    "        fig.update_layout(height=500, width=750,title=title)\n",
    "        fig.show()\n",
    "    else:\n",
    "        fig.update_layout(height=500, width=750)\n",
    "        fig.show()\n",
    "    \n",
    "    \n",
    "\n",
    "def plot_method_all(method,tad,title=None):\n",
    "    n_colors = len(set(tad[method]))\n",
    "\n",
    "    fig1 = px.scatter(x=X_PCA['C1'],y=X_PCA['C2'],color=tad[method].astype(str), symbol=tad[method].astype(str))\n",
    "    fig2 = px.scatter(x=X_PCA['C1'],y=X_PCA['C3'],color=tad[method].astype(str), symbol=tad[method].astype(str))\n",
    "    fig3 = px.scatter(x=X_PCA['C1'],y=X_PCA['C4'],color=tad[method].astype(str), symbol=tad[method].astype(str))\n",
    "    fig4 = px.scatter(x=X_PCA['C2'],y=X_PCA['C3'],color=tad[method].astype(str), symbol=tad[method].astype(str))\n",
    "    fig5 = px.scatter(x=X_PCA['C2'],y=X_PCA['C4'],color=tad[method].astype(str), symbol=tad[method].astype(str))\n",
    "    fig6 = px.scatter(x=X_PCA['C3'],y=X_PCA['C4'],color=tad[method].astype(str), symbol=tad[method].astype(str))\n",
    "\n",
    "\n",
    "    fig11 = px.scatter(x=X_MDS['V1'],y=X_MDS['V2'],color=tad[method].astype(str), symbol=tad[method].astype(str))\n",
    "    fig22 = px.scatter(x=X_MDS['V1'],y=X_MDS['V3'],color=tad[method].astype(str), symbol=tad[method].astype(str))\n",
    "    fig33 = px.scatter(x=X_MDS['V1'],y=X_MDS['V4'],color=tad[method].astype(str), symbol=tad[method].astype(str))\n",
    "    fig44 = px.scatter(x=X_MDS['V2'],y=X_MDS['V3'],color=tad[method].astype(str), symbol=tad[method].astype(str))\n",
    "    fig55 = px.scatter(x=X_MDS['V2'],y=X_MDS['V4'],color=tad[method].astype(str), symbol=tad[method].astype(str))\n",
    "    fig66 = px.scatter(x=X_MDS['V3'],y=X_MDS['V4'],color=tad[method].astype(str), symbol=tad[method].astype(str))\n",
    "\n",
    "\n",
    "    fig = make_subplots(rows=3, cols=4,subplot_titles=(\"PCA\", \"MDS\",\"PCA\", \"MDS\"))\n",
    "\n",
    "    for i in range(n_colors):\n",
    "        fig.add_trace(fig1['data'][i], row=1, col=1)\n",
    "        fig.add_trace(fig11['data'][i], row=1, col=2)\n",
    "\n",
    "        fig.add_trace(fig2['data'][i], row=2, col=1)\n",
    "        fig.add_trace(fig22['data'][i], row=2, col=2)\n",
    "\n",
    "        fig.add_trace(fig3['data'][i], row=3, col=1)\n",
    "        fig.add_trace(fig33['data'][i], row=3, col=2)\n",
    "\n",
    "        fig.add_trace(fig4['data'][i], row=1, col=3)\n",
    "        fig.add_trace(fig44['data'][i], row=1, col=4)\n",
    "\n",
    "        fig.add_trace(fig5['data'][i], row=2, col=3)\n",
    "        fig.add_trace(fig55['data'][i], row=2, col=4)\n",
    "\n",
    "        fig.add_trace(fig6['data'][i], row=3, col=3)\n",
    "        fig.add_trace(fig66['data'][i], row=3, col=4)\n",
    "\n",
    "\n",
    "    names = set()\n",
    "    fig.for_each_trace(\n",
    "        lambda trace:\n",
    "            trace.update(showlegend=False)\n",
    "            if (trace.name in names) else names.add(trace.name))\n",
    "\n",
    "    fig['layout']['xaxis']['title']=\"C1\"\n",
    "    fig['layout']['yaxis']['title']='C2'\n",
    "    fig['layout']['xaxis2']['title']=\"V1\"\n",
    "    fig['layout']['yaxis2']['title']='V2'\n",
    "\n",
    "    fig['layout']['xaxis3']['title']=\"C2\"\n",
    "    fig['layout']['yaxis3']['title']='C3'\n",
    "    fig['layout']['xaxis4']['title']=\"V2\"\n",
    "    fig['layout']['yaxis4']['title']='V3'\n",
    "\n",
    "    fig['layout']['xaxis5']['title']=\"C1\"\n",
    "    fig['layout']['yaxis5']['title']='C3'\n",
    "    fig['layout']['xaxis6']['title']=\"V1\"\n",
    "    fig['layout']['yaxis6']['title']='V3'\n",
    "\n",
    "    fig['layout']['xaxis7']['title']=\"C2\"\n",
    "    fig['layout']['yaxis7']['title']='C4'\n",
    "    fig['layout']['xaxis8']['title']=\"V2\"\n",
    "    fig['layout']['yaxis8']['title']='V4'\n",
    "\n",
    "    fig['layout']['xaxis9']['title']=\"C1\"\n",
    "    fig['layout']['yaxis9']['title']='C4'\n",
    "    fig['layout']['xaxis10']['title']=\"V1\"\n",
    "    fig['layout']['yaxis10']['title']='V4'\n",
    "\n",
    "    fig['layout']['xaxis11']['title']=\"C3\"\n",
    "    fig['layout']['yaxis11']['title']='C4'\n",
    "    fig['layout']['xaxis12']['title']=\"V3\"\n",
    "    fig['layout']['yaxis12']['title']='V4'\n",
    "\n",
    "\n",
    "\n",
    "\n",
    "\n",
    "    fig.update_traces(marker=dict(size=5,\n",
    "                                  line=dict(width=0.2,\n",
    "                                            color='white')),\n",
    "                      selector=dict(mode='markers'))\n",
    "    \n",
    "    if title:\n",
    "        fig.update_layout(height=1000, width=1250, title_text=title)\n",
    "    else:\n",
    "        fig.update_layout(height=1000, width=1250, title_text= method+ \": \" + str(n_colors) + \" Clusters\")\n",
    "    fig.show()\n",
    "    \n",
    "def inertia(df, min_, max_):\n",
    "    \n",
    "    x = [i for i in range(min_, max_)]\n",
    "    inertia_ = []\n",
    "    \n",
    "    for ki in x:\n",
    "        km = KMeans(n_clusters=ki)\n",
    "        km.fit(df)\n",
    "        inertia_.append(km.inertia_)\n",
    "        \n",
    "    sns.lineplot(\n",
    "        x=x, y=inertia_,\n",
    "        marker=\"o\"\n",
    "    )\n",
    "    \n",
    "def pruebas_hipotesis(df1, df2, col_list):\n",
    "    p_values = []\n",
    "    dec = []\n",
    "    for col in col_list:\n",
    "        stat, p_value = kruskal(df1[col], df2[col])\n",
    "        p_values.append(p_value)\n",
    "        if p_value <= 0.05:\n",
    "            decision = 'Distribución diferente'\n",
    "        else:\n",
    "            decision = 'Distribución parecida'\n",
    "        dec.append(decision)\n",
    "    return pd.DataFrame(data = {'variables': col_list, 'p_value': p_values, 'decision': dec})"
   ]
  },
  {
   "cell_type": "markdown",
   "id": "0b69774b",
   "metadata": {
    "tags": [],
    "toc-hr-collapsed": true
   },
   "source": [
    "# Bases de datos"
   ]
  },
  {
   "cell_type": "markdown",
   "id": "fe249237",
   "metadata": {
    "tags": [],
    "toc-hr-collapsed": true
   },
   "source": [
    "## Base módulo 1"
   ]
  },
  {
   "cell_type": "code",
   "execution_count": 5,
   "id": "71032884",
   "metadata": {},
   "outputs": [
    {
     "data": {
      "text/html": [
       "<div>\n",
       "<style scoped>\n",
       "    .dataframe tbody tr th:only-of-type {\n",
       "        vertical-align: middle;\n",
       "    }\n",
       "\n",
       "    .dataframe tbody tr th {\n",
       "        vertical-align: top;\n",
       "    }\n",
       "\n",
       "    .dataframe thead th {\n",
       "        text-align: right;\n",
       "    }\n",
       "</style>\n",
       "<table border=\"1\" class=\"dataframe\">\n",
       "  <thead>\n",
       "    <tr style=\"text-align: right;\">\n",
       "      <th></th>\n",
       "      <th>id</th>\n",
       "      <th>genres</th>\n",
       "      <th>original_language</th>\n",
       "      <th>overview</th>\n",
       "      <th>popularity</th>\n",
       "      <th>year</th>\n",
       "      <th>month</th>\n",
       "      <th>day</th>\n",
       "      <th>budget</th>\n",
       "      <th>revenue</th>\n",
       "      <th>runtime</th>\n",
       "      <th>status</th>\n",
       "      <th>tagline</th>\n",
       "      <th>vote_average</th>\n",
       "      <th>vote_count</th>\n",
       "      <th>keywords</th>\n",
       "      <th>poster_path</th>\n",
       "      <th>backdrop_path</th>\n",
       "    </tr>\n",
       "  </thead>\n",
       "  <tbody>\n",
       "    <tr>\n",
       "      <th>0</th>\n",
       "      <td>610150</td>\n",
       "      <td>Animation-Science Fiction-Action</td>\n",
       "      <td>ja</td>\n",
       "      <td>The Red Ribbon Army an evil organization that ...</td>\n",
       "      <td>7294.015</td>\n",
       "      <td>2022.0</td>\n",
       "      <td>6.0</td>\n",
       "      <td>11.0</td>\n",
       "      <td>0.0</td>\n",
       "      <td>68759433.0</td>\n",
       "      <td>99.0</td>\n",
       "      <td>Released</td>\n",
       "      <td>A super awakening and calamity is born.</td>\n",
       "      <td>7.330</td>\n",
       "      <td>253.0</td>\n",
       "      <td>android-sequel-attack-based on manga-fighting-...</td>\n",
       "      <td>/rugyJdeoJm7cSJL1q4jBpTNbxyU.jpg</td>\n",
       "      <td>/ugS5FVfCI3RV0ZwZtBV3HAV75OX.jpg</td>\n",
       "    </tr>\n",
       "    <tr>\n",
       "      <th>1</th>\n",
       "      <td>616037</td>\n",
       "      <td>Action-Adventure-Fantasy</td>\n",
       "      <td>en</td>\n",
       "      <td>After his retirement is interrupted by Gorr th...</td>\n",
       "      <td>5207.555</td>\n",
       "      <td>2022.0</td>\n",
       "      <td>7.0</td>\n",
       "      <td>6.0</td>\n",
       "      <td>250000000.0</td>\n",
       "      <td>746900000.0</td>\n",
       "      <td>119.0</td>\n",
       "      <td>Released</td>\n",
       "      <td>The one is not the only.</td>\n",
       "      <td>6.766</td>\n",
       "      <td>2167.0</td>\n",
       "      <td>ex-girlfriend-hero-greek mythology-sequel-supe...</td>\n",
       "      <td>/pIkRyD18kl4FhoCNQuWxWu5cBLM.jpg</td>\n",
       "      <td>/vvObT0eIWGlArLQx3K5wZ0uT812.jpg</td>\n",
       "    </tr>\n",
       "  </tbody>\n",
       "</table>\n",
       "</div>"
      ],
      "text/plain": [
       "       id                            genres original_language  \\\n",
       "0  610150  Animation-Science Fiction-Action                ja   \n",
       "1  616037          Action-Adventure-Fantasy                en   \n",
       "\n",
       "                                            overview  popularity    year  \\\n",
       "0  The Red Ribbon Army an evil organization that ...    7294.015  2022.0   \n",
       "1  After his retirement is interrupted by Gorr th...    5207.555  2022.0   \n",
       "\n",
       "   month   day       budget      revenue  runtime    status  \\\n",
       "0    6.0  11.0          0.0   68759433.0     99.0  Released   \n",
       "1    7.0   6.0  250000000.0  746900000.0    119.0  Released   \n",
       "\n",
       "                                   tagline  vote_average  vote_count  \\\n",
       "0  A super awakening and calamity is born.         7.330       253.0   \n",
       "1                 The one is not the only.         6.766      2167.0   \n",
       "\n",
       "                                            keywords  \\\n",
       "0  android-sequel-attack-based on manga-fighting-...   \n",
       "1  ex-girlfriend-hero-greek mythology-sequel-supe...   \n",
       "\n",
       "                        poster_path                     backdrop_path  \n",
       "0  /rugyJdeoJm7cSJL1q4jBpTNbxyU.jpg  /ugS5FVfCI3RV0ZwZtBV3HAV75OX.jpg  \n",
       "1  /pIkRyD18kl4FhoCNQuWxWu5cBLM.jpg  /vvObT0eIWGlArLQx3K5wZ0uT812.jpg  "
      ]
     },
     "execution_count": 5,
     "metadata": {},
     "output_type": "execute_result"
    }
   ],
   "source": [
    "TMDb = pd.read_feather('../M1/DBM1')\n",
    "TMDb.head(2)"
   ]
  },
  {
   "cell_type": "markdown",
   "id": "d8240059",
   "metadata": {
    "tags": []
   },
   "source": [
    "## Base de puntuaciones por usuarios de MovieLens"
   ]
  },
  {
   "cell_type": "code",
   "execution_count": 6,
   "id": "1e05d37a",
   "metadata": {},
   "outputs": [],
   "source": [
    "# ratings = pd.read_feather('../../Datasets/MovieLens/ratings')\n",
    "# ratings['rating']=ratings['rating']*2\n",
    "# ratings.head(2)\n",
    "# ratings.to_feather('ratings',compression='zstd')"
   ]
  },
  {
   "cell_type": "code",
   "execution_count": 7,
   "id": "ae4c7074",
   "metadata": {},
   "outputs": [
    {
     "data": {
      "text/html": [
       "<div>\n",
       "<style scoped>\n",
       "    .dataframe tbody tr th:only-of-type {\n",
       "        vertical-align: middle;\n",
       "    }\n",
       "\n",
       "    .dataframe tbody tr th {\n",
       "        vertical-align: top;\n",
       "    }\n",
       "\n",
       "    .dataframe thead th {\n",
       "        text-align: right;\n",
       "    }\n",
       "</style>\n",
       "<table border=\"1\" class=\"dataframe\">\n",
       "  <thead>\n",
       "    <tr style=\"text-align: right;\">\n",
       "      <th></th>\n",
       "      <th>userId</th>\n",
       "      <th>movieId</th>\n",
       "      <th>rating</th>\n",
       "      <th>timestamp</th>\n",
       "    </tr>\n",
       "  </thead>\n",
       "  <tbody>\n",
       "    <tr>\n",
       "      <th>0</th>\n",
       "      <td>1</td>\n",
       "      <td>296</td>\n",
       "      <td>10.0</td>\n",
       "      <td>1147880044</td>\n",
       "    </tr>\n",
       "    <tr>\n",
       "      <th>1</th>\n",
       "      <td>1</td>\n",
       "      <td>306</td>\n",
       "      <td>7.0</td>\n",
       "      <td>1147868817</td>\n",
       "    </tr>\n",
       "  </tbody>\n",
       "</table>\n",
       "</div>"
      ],
      "text/plain": [
       "   userId  movieId  rating   timestamp\n",
       "0       1      296    10.0  1147880044\n",
       "1       1      306     7.0  1147868817"
      ]
     },
     "execution_count": 7,
     "metadata": {},
     "output_type": "execute_result"
    }
   ],
   "source": [
    "ratings = pd.read_feather('../../Datasets/MovieLens/ratings')\n",
    "ratings.head(2)"
   ]
  },
  {
   "cell_type": "code",
   "execution_count": 8,
   "id": "3e8a674f",
   "metadata": {},
   "outputs": [],
   "source": [
    "ratings.drop(columns=['timestamp'],inplace=True)\n",
    "ratings.columns = ['userId','id','rating']"
   ]
  },
  {
   "cell_type": "code",
   "execution_count": 9,
   "id": "67bd684c",
   "metadata": {},
   "outputs": [
    {
     "data": {
      "text/plain": [
       "(25000095, 3)"
      ]
     },
     "execution_count": 9,
     "metadata": {},
     "output_type": "execute_result"
    }
   ],
   "source": [
    "ratings.shape"
   ]
  },
  {
   "cell_type": "code",
   "execution_count": 10,
   "id": "c7427a60",
   "metadata": {},
   "outputs": [],
   "source": [
    "ratings = ratings.sample(frac=0.05,random_state=12345)"
   ]
  },
  {
   "cell_type": "markdown",
   "id": "a908514e",
   "metadata": {
    "tags": []
   },
   "source": [
    "### Analisis exploratorio "
   ]
  },
  {
   "cell_type": "code",
   "execution_count": 11,
   "id": "4408fba6",
   "metadata": {},
   "outputs": [
    {
     "name": "stdout",
     "output_type": "stream",
     "text": [
      "Hay un total de 148024 usuarios\n"
     ]
    }
   ],
   "source": [
    "print(f'Hay un total de {len(ratings[\"userId\"].value_counts())} usuarios')"
   ]
  },
  {
   "cell_type": "code",
   "execution_count": 12,
   "id": "b1384b26",
   "metadata": {},
   "outputs": [
    {
     "name": "stdout",
     "output_type": "stream",
     "text": [
      "Hay un total de 25210 peliculas calificadas\n"
     ]
    }
   ],
   "source": [
    "print(f'Hay un total de {len(ratings[\"id\"].value_counts())} peliculas calificadas')"
   ]
  },
  {
   "cell_type": "code",
   "execution_count": 13,
   "id": "4b2fa035",
   "metadata": {},
   "outputs": [
    {
     "data": {
      "image/png": "[encoded data removed]",
      "text/plain": [
       "<Figure size 864x576 with 2 Axes>"
      ]
     },
     "metadata": {},
     "output_type": "display_data"
    }
   ],
   "source": [
    "PlotUtils.hist_box(ratings,'rating',ctitle = 'Distribución de las calificaciones de los usuarios')"
   ]
  },
  {
   "cell_type": "markdown",
   "id": "ca2b41ff",
   "metadata": {},
   "source": [
    "# Preprocesamiento de datos"
   ]
  },
  {
   "cell_type": "markdown",
   "id": "8b03cc1c",
   "metadata": {},
   "source": [
    "## Generación de características"
   ]
  },
  {
   "cell_type": "markdown",
   "id": "6328bdca",
   "metadata": {},
   "source": [
    "## Base de películas"
   ]
  },
  {
   "cell_type": "code",
   "execution_count": 14,
   "id": "238d991d",
   "metadata": {},
   "outputs": [
    {
     "data": {
      "text/html": [
       "<div>\n",
       "<style scoped>\n",
       "    .dataframe tbody tr th:only-of-type {\n",
       "        vertical-align: middle;\n",
       "    }\n",
       "\n",
       "    .dataframe tbody tr th {\n",
       "        vertical-align: top;\n",
       "    }\n",
       "\n",
       "    .dataframe thead th {\n",
       "        text-align: right;\n",
       "    }\n",
       "</style>\n",
       "<table border=\"1\" class=\"dataframe\">\n",
       "  <thead>\n",
       "    <tr style=\"text-align: right;\">\n",
       "      <th></th>\n",
       "      <th>id</th>\n",
       "      <th>genres</th>\n",
       "      <th>original_language</th>\n",
       "      <th>overview</th>\n",
       "      <th>popularity</th>\n",
       "      <th>year</th>\n",
       "      <th>month</th>\n",
       "      <th>day</th>\n",
       "      <th>budget</th>\n",
       "      <th>revenue</th>\n",
       "      <th>runtime</th>\n",
       "      <th>status</th>\n",
       "      <th>tagline</th>\n",
       "      <th>vote_average</th>\n",
       "      <th>vote_count</th>\n",
       "      <th>keywords</th>\n",
       "      <th>poster_path</th>\n",
       "      <th>backdrop_path</th>\n",
       "    </tr>\n",
       "  </thead>\n",
       "  <tbody>\n",
       "    <tr>\n",
       "      <th>0</th>\n",
       "      <td>610150</td>\n",
       "      <td>Animation-Science Fiction-Action</td>\n",
       "      <td>ja</td>\n",
       "      <td>The Red Ribbon Army an evil organization that ...</td>\n",
       "      <td>7294.015</td>\n",
       "      <td>2022.0</td>\n",
       "      <td>6.0</td>\n",
       "      <td>11.0</td>\n",
       "      <td>0.0</td>\n",
       "      <td>68759433.0</td>\n",
       "      <td>99.0</td>\n",
       "      <td>Released</td>\n",
       "      <td>A super awakening and calamity is born.</td>\n",
       "      <td>7.330</td>\n",
       "      <td>253.0</td>\n",
       "      <td>android-sequel-attack-based on manga-fighting-...</td>\n",
       "      <td>/rugyJdeoJm7cSJL1q4jBpTNbxyU.jpg</td>\n",
       "      <td>/ugS5FVfCI3RV0ZwZtBV3HAV75OX.jpg</td>\n",
       "    </tr>\n",
       "    <tr>\n",
       "      <th>1</th>\n",
       "      <td>616037</td>\n",
       "      <td>Action-Adventure-Fantasy</td>\n",
       "      <td>en</td>\n",
       "      <td>After his retirement is interrupted by Gorr th...</td>\n",
       "      <td>5207.555</td>\n",
       "      <td>2022.0</td>\n",
       "      <td>7.0</td>\n",
       "      <td>6.0</td>\n",
       "      <td>250000000.0</td>\n",
       "      <td>746900000.0</td>\n",
       "      <td>119.0</td>\n",
       "      <td>Released</td>\n",
       "      <td>The one is not the only.</td>\n",
       "      <td>6.766</td>\n",
       "      <td>2167.0</td>\n",
       "      <td>ex-girlfriend-hero-greek mythology-sequel-supe...</td>\n",
       "      <td>/pIkRyD18kl4FhoCNQuWxWu5cBLM.jpg</td>\n",
       "      <td>/vvObT0eIWGlArLQx3K5wZ0uT812.jpg</td>\n",
       "    </tr>\n",
       "  </tbody>\n",
       "</table>\n",
       "</div>"
      ],
      "text/plain": [
       "       id                            genres original_language  \\\n",
       "0  610150  Animation-Science Fiction-Action                ja   \n",
       "1  616037          Action-Adventure-Fantasy                en   \n",
       "\n",
       "                                            overview  popularity    year  \\\n",
       "0  The Red Ribbon Army an evil organization that ...    7294.015  2022.0   \n",
       "1  After his retirement is interrupted by Gorr th...    5207.555  2022.0   \n",
       "\n",
       "   month   day       budget      revenue  runtime    status  \\\n",
       "0    6.0  11.0          0.0   68759433.0     99.0  Released   \n",
       "1    7.0   6.0  250000000.0  746900000.0    119.0  Released   \n",
       "\n",
       "                                   tagline  vote_average  vote_count  \\\n",
       "0  A super awakening and calamity is born.         7.330       253.0   \n",
       "1                 The one is not the only.         6.766      2167.0   \n",
       "\n",
       "                                            keywords  \\\n",
       "0  android-sequel-attack-based on manga-fighting-...   \n",
       "1  ex-girlfriend-hero-greek mythology-sequel-supe...   \n",
       "\n",
       "                        poster_path                     backdrop_path  \n",
       "0  /rugyJdeoJm7cSJL1q4jBpTNbxyU.jpg  /ugS5FVfCI3RV0ZwZtBV3HAV75OX.jpg  \n",
       "1  /pIkRyD18kl4FhoCNQuWxWu5cBLM.jpg  /vvObT0eIWGlArLQx3K5wZ0uT812.jpg  "
      ]
     },
     "execution_count": 14,
     "metadata": {},
     "output_type": "execute_result"
    }
   ],
   "source": [
    "TMDb.head(2)"
   ]
  },
  {
   "cell_type": "code",
   "execution_count": 15,
   "id": "b389eb77",
   "metadata": {},
   "outputs": [
    {
     "data": {
      "text/html": [
       "<div>\n",
       "<style scoped>\n",
       "    .dataframe tbody tr th:only-of-type {\n",
       "        vertical-align: middle;\n",
       "    }\n",
       "\n",
       "    .dataframe tbody tr th {\n",
       "        vertical-align: top;\n",
       "    }\n",
       "\n",
       "    .dataframe thead th {\n",
       "        text-align: right;\n",
       "    }\n",
       "</style>\n",
       "<table border=\"1\" class=\"dataframe\">\n",
       "  <thead>\n",
       "    <tr style=\"text-align: right;\">\n",
       "      <th></th>\n",
       "      <th>id</th>\n",
       "      <th>genres</th>\n",
       "      <th>original_language</th>\n",
       "      <th>overview</th>\n",
       "      <th>popularity</th>\n",
       "      <th>year</th>\n",
       "      <th>month</th>\n",
       "      <th>day</th>\n",
       "      <th>budget</th>\n",
       "      <th>revenue</th>\n",
       "      <th>runtime</th>\n",
       "      <th>status</th>\n",
       "      <th>tagline</th>\n",
       "      <th>vote_average</th>\n",
       "      <th>vote_count</th>\n",
       "      <th>keywords</th>\n",
       "      <th>poster_path</th>\n",
       "      <th>backdrop_path</th>\n",
       "    </tr>\n",
       "  </thead>\n",
       "  <tbody>\n",
       "    <tr>\n",
       "      <th>0</th>\n",
       "      <td>0</td>\n",
       "      <td>222766</td>\n",
       "      <td>0</td>\n",
       "      <td>122598</td>\n",
       "      <td>0</td>\n",
       "      <td>58800</td>\n",
       "      <td>58800</td>\n",
       "      <td>58800</td>\n",
       "      <td>0</td>\n",
       "      <td>0</td>\n",
       "      <td>39321</td>\n",
       "      <td>0</td>\n",
       "      <td>639575</td>\n",
       "      <td>0</td>\n",
       "      <td>0</td>\n",
       "      <td>533514</td>\n",
       "      <td>201761</td>\n",
       "      <td>523454</td>\n",
       "    </tr>\n",
       "  </tbody>\n",
       "</table>\n",
       "</div>"
      ],
      "text/plain": [
       "   id  genres  original_language  overview  popularity   year  month    day  \\\n",
       "0   0  222766                  0    122598           0  58800  58800  58800   \n",
       "\n",
       "   budget  revenue  runtime  status  tagline  vote_average  vote_count  \\\n",
       "0       0        0    39321       0   639575             0           0   \n",
       "\n",
       "   keywords  poster_path  backdrop_path  \n",
       "0    533514       201761         523454  "
      ]
     },
     "execution_count": 15,
     "metadata": {},
     "output_type": "execute_result"
    }
   ],
   "source": [
    "TMDb.isna().sum().to_frame().T"
   ]
  },
  {
   "cell_type": "code",
   "execution_count": 16,
   "id": "788f5080",
   "metadata": {},
   "outputs": [
    {
     "name": "stdout",
     "output_type": "stream",
     "text": [
      "(527552, 10)\n"
     ]
    },
    {
     "data": {
      "text/html": [
       "<div>\n",
       "<style scoped>\n",
       "    .dataframe tbody tr th:only-of-type {\n",
       "        vertical-align: middle;\n",
       "    }\n",
       "\n",
       "    .dataframe tbody tr th {\n",
       "        vertical-align: top;\n",
       "    }\n",
       "\n",
       "    .dataframe thead th {\n",
       "        text-align: right;\n",
       "    }\n",
       "</style>\n",
       "<table border=\"1\" class=\"dataframe\">\n",
       "  <thead>\n",
       "    <tr style=\"text-align: right;\">\n",
       "      <th></th>\n",
       "      <th>id</th>\n",
       "      <th>genres</th>\n",
       "      <th>original_language</th>\n",
       "      <th>popularity</th>\n",
       "      <th>year</th>\n",
       "      <th>budget</th>\n",
       "      <th>revenue</th>\n",
       "      <th>runtime</th>\n",
       "      <th>vote_average</th>\n",
       "      <th>vote_count</th>\n",
       "    </tr>\n",
       "  </thead>\n",
       "  <tbody>\n",
       "    <tr>\n",
       "      <th>0</th>\n",
       "      <td>610150</td>\n",
       "      <td>Animation-Science Fiction-Action</td>\n",
       "      <td>ja</td>\n",
       "      <td>7294.015</td>\n",
       "      <td>2022.0</td>\n",
       "      <td>0.0</td>\n",
       "      <td>68759433.0</td>\n",
       "      <td>99.0</td>\n",
       "      <td>7.330</td>\n",
       "      <td>253.0</td>\n",
       "    </tr>\n",
       "    <tr>\n",
       "      <th>1</th>\n",
       "      <td>616037</td>\n",
       "      <td>Action-Adventure-Fantasy</td>\n",
       "      <td>en</td>\n",
       "      <td>5207.555</td>\n",
       "      <td>2022.0</td>\n",
       "      <td>250000000.0</td>\n",
       "      <td>746900000.0</td>\n",
       "      <td>119.0</td>\n",
       "      <td>6.766</td>\n",
       "      <td>2167.0</td>\n",
       "    </tr>\n",
       "  </tbody>\n",
       "</table>\n",
       "</div>"
      ],
      "text/plain": [
       "       id                            genres original_language  popularity  \\\n",
       "0  610150  Animation-Science Fiction-Action                ja    7294.015   \n",
       "1  616037          Action-Adventure-Fantasy                en    5207.555   \n",
       "\n",
       "     year       budget      revenue  runtime  vote_average  vote_count  \n",
       "0  2022.0          0.0   68759433.0     99.0         7.330       253.0  \n",
       "1  2022.0  250000000.0  746900000.0    119.0         6.766      2167.0  "
      ]
     },
     "execution_count": 16,
     "metadata": {},
     "output_type": "execute_result"
    }
   ],
   "source": [
    "movies = TMDb.copy()\n",
    "movies.drop(columns=['overview','month','day','status','tagline','keywords','poster_path','backdrop_path'],inplace=True)\n",
    "movies = movies.loc[movies['genres'].isna()==False].reset_index(drop=True)\n",
    "# movies = movies.loc[movies['overview'].isna()==False].reset_index(drop=True)\n",
    "# movies = movies.loc[movies['budget']>0].reset_index(drop=True)\n",
    "# movies = movies.loc[movies['vote_average']>0].reset_index(drop=True)\n",
    "print(movies.shape)\n",
    "movies.head(2)"
   ]
  },
  {
   "cell_type": "code",
   "execution_count": 17,
   "id": "e3e4a0f0",
   "metadata": {},
   "outputs": [
    {
     "data": {
      "text/html": [
       "<div>\n",
       "<style scoped>\n",
       "    .dataframe tbody tr th:only-of-type {\n",
       "        vertical-align: middle;\n",
       "    }\n",
       "\n",
       "    .dataframe tbody tr th {\n",
       "        vertical-align: top;\n",
       "    }\n",
       "\n",
       "    .dataframe thead th {\n",
       "        text-align: right;\n",
       "    }\n",
       "</style>\n",
       "<table border=\"1\" class=\"dataframe\">\n",
       "  <thead>\n",
       "    <tr style=\"text-align: right;\">\n",
       "      <th></th>\n",
       "      <th>id</th>\n",
       "      <th>genres</th>\n",
       "      <th>original_language</th>\n",
       "      <th>popularity</th>\n",
       "      <th>year</th>\n",
       "      <th>budget</th>\n",
       "      <th>revenue</th>\n",
       "      <th>runtime</th>\n",
       "      <th>vote_average</th>\n",
       "      <th>vote_count</th>\n",
       "    </tr>\n",
       "  </thead>\n",
       "  <tbody>\n",
       "    <tr>\n",
       "      <th>0</th>\n",
       "      <td>0</td>\n",
       "      <td>0</td>\n",
       "      <td>0</td>\n",
       "      <td>0</td>\n",
       "      <td>16731</td>\n",
       "      <td>0</td>\n",
       "      <td>0</td>\n",
       "      <td>17781</td>\n",
       "      <td>0</td>\n",
       "      <td>0</td>\n",
       "    </tr>\n",
       "  </tbody>\n",
       "</table>\n",
       "</div>"
      ],
      "text/plain": [
       "   id  genres  original_language  popularity   year  budget  revenue  runtime  \\\n",
       "0   0       0                  0           0  16731       0        0    17781   \n",
       "\n",
       "   vote_average  vote_count  \n",
       "0             0           0  "
      ]
     },
     "execution_count": 17,
     "metadata": {},
     "output_type": "execute_result"
    }
   ],
   "source": [
    "movies.isna().sum().to_frame().T"
   ]
  },
  {
   "cell_type": "code",
   "execution_count": 18,
   "id": "df1e8240",
   "metadata": {},
   "outputs": [],
   "source": [
    "movies = movies.fillna(0)"
   ]
  },
  {
   "cell_type": "code",
   "execution_count": 19,
   "id": "e2d3bd3c",
   "metadata": {},
   "outputs": [
    {
     "data": {
      "text/html": [
       "<div>\n",
       "<style scoped>\n",
       "    .dataframe tbody tr th:only-of-type {\n",
       "        vertical-align: middle;\n",
       "    }\n",
       "\n",
       "    .dataframe tbody tr th {\n",
       "        vertical-align: top;\n",
       "    }\n",
       "\n",
       "    .dataframe thead th {\n",
       "        text-align: right;\n",
       "    }\n",
       "</style>\n",
       "<table border=\"1\" class=\"dataframe\">\n",
       "  <thead>\n",
       "    <tr style=\"text-align: right;\">\n",
       "      <th></th>\n",
       "      <th>id</th>\n",
       "      <th>original_language</th>\n",
       "      <th>popularity</th>\n",
       "      <th>year</th>\n",
       "      <th>budget</th>\n",
       "      <th>revenue</th>\n",
       "      <th>runtime</th>\n",
       "      <th>vote_average</th>\n",
       "      <th>vote_count</th>\n",
       "      <th>genre_Animation</th>\n",
       "      <th>genre_Comedy</th>\n",
       "      <th>genre_Documentary</th>\n",
       "      <th>genre_Drama</th>\n",
       "      <th>genre_OTROS</th>\n",
       "      <th>genre_Romance</th>\n",
       "    </tr>\n",
       "  </thead>\n",
       "  <tbody>\n",
       "    <tr>\n",
       "      <th>0</th>\n",
       "      <td>610150</td>\n",
       "      <td>ja</td>\n",
       "      <td>7294.015</td>\n",
       "      <td>2022.0</td>\n",
       "      <td>0.0</td>\n",
       "      <td>68759433.0</td>\n",
       "      <td>99.0</td>\n",
       "      <td>7.330</td>\n",
       "      <td>253.0</td>\n",
       "      <td>1.0</td>\n",
       "      <td>0.0</td>\n",
       "      <td>0.0</td>\n",
       "      <td>0.0</td>\n",
       "      <td>1.0</td>\n",
       "      <td>0.0</td>\n",
       "    </tr>\n",
       "    <tr>\n",
       "      <th>1</th>\n",
       "      <td>616037</td>\n",
       "      <td>en</td>\n",
       "      <td>5207.555</td>\n",
       "      <td>2022.0</td>\n",
       "      <td>250000000.0</td>\n",
       "      <td>746900000.0</td>\n",
       "      <td>119.0</td>\n",
       "      <td>6.766</td>\n",
       "      <td>2167.0</td>\n",
       "      <td>0.0</td>\n",
       "      <td>0.0</td>\n",
       "      <td>0.0</td>\n",
       "      <td>0.0</td>\n",
       "      <td>1.0</td>\n",
       "      <td>0.0</td>\n",
       "    </tr>\n",
       "  </tbody>\n",
       "</table>\n",
       "</div>"
      ],
      "text/plain": [
       "       id original_language  popularity    year       budget      revenue  \\\n",
       "0  610150                ja    7294.015  2022.0          0.0   68759433.0   \n",
       "1  616037                en    5207.555  2022.0  250000000.0  746900000.0   \n",
       "\n",
       "   runtime  vote_average  vote_count  genre_Animation  genre_Comedy  \\\n",
       "0     99.0         7.330       253.0              1.0           0.0   \n",
       "1    119.0         6.766      2167.0              0.0           0.0   \n",
       "\n",
       "   genre_Documentary  genre_Drama  genre_OTROS  genre_Romance  \n",
       "0                0.0          0.0          1.0            0.0  \n",
       "1                0.0          0.0          1.0            0.0  "
      ]
     },
     "execution_count": 19,
     "metadata": {},
     "output_type": "execute_result"
    }
   ],
   "source": [
    "counts = movies['genres'].str.split('-').explode().value_counts(True)\n",
    "mask = counts>0.05\n",
    "genres_mask = counts[mask].index\n",
    "genresaux = movies['genres'].str.split('-').explode().reset_index()\n",
    "genresaux.loc[~genresaux['genres'].isin(genres_mask),'genres'] = 'OTROS'\n",
    "genresaux = genresaux.reset_index().pivot_table(index='index',columns='genres',values='level_0',aggfunc='count',fill_value=0)\n",
    "genresaux.columns = ['genre_' + col for col in genresaux.columns]\n",
    "genresaux = genresaux/genresaux # <------ ¿Todo con 1?\n",
    "genresaux = genresaux.fillna(0)\n",
    "movies = pd.concat([movies,genresaux],axis=1).drop(columns = ['genres'])\n",
    "movies.head(2)"
   ]
  },
  {
   "cell_type": "code",
   "execution_count": 20,
   "id": "67391183",
   "metadata": {},
   "outputs": [
    {
     "data": {
      "text/html": [
       "<div>\n",
       "<style scoped>\n",
       "    .dataframe tbody tr th:only-of-type {\n",
       "        vertical-align: middle;\n",
       "    }\n",
       "\n",
       "    .dataframe tbody tr th {\n",
       "        vertical-align: top;\n",
       "    }\n",
       "\n",
       "    .dataframe thead th {\n",
       "        text-align: right;\n",
       "    }\n",
       "</style>\n",
       "<table border=\"1\" class=\"dataframe\">\n",
       "  <thead>\n",
       "    <tr style=\"text-align: right;\">\n",
       "      <th></th>\n",
       "      <th>id</th>\n",
       "      <th>popularity</th>\n",
       "      <th>year</th>\n",
       "      <th>budget</th>\n",
       "      <th>revenue</th>\n",
       "      <th>runtime</th>\n",
       "      <th>vote_average</th>\n",
       "      <th>vote_count</th>\n",
       "      <th>genre_Animation</th>\n",
       "      <th>genre_Comedy</th>\n",
       "      <th>genre_Documentary</th>\n",
       "      <th>genre_Drama</th>\n",
       "      <th>genre_OTROS</th>\n",
       "      <th>genre_Romance</th>\n",
       "      <th>original_language_OTROS</th>\n",
       "      <th>original_language_de</th>\n",
       "      <th>original_language_en</th>\n",
       "      <th>original_language_es</th>\n",
       "      <th>original_language_fr</th>\n",
       "    </tr>\n",
       "  </thead>\n",
       "  <tbody>\n",
       "    <tr>\n",
       "      <th>0</th>\n",
       "      <td>610150</td>\n",
       "      <td>7294.015</td>\n",
       "      <td>2022.0</td>\n",
       "      <td>0.0</td>\n",
       "      <td>68759433.0</td>\n",
       "      <td>99.0</td>\n",
       "      <td>7.330</td>\n",
       "      <td>253.0</td>\n",
       "      <td>1.0</td>\n",
       "      <td>0.0</td>\n",
       "      <td>0.0</td>\n",
       "      <td>0.0</td>\n",
       "      <td>1.0</td>\n",
       "      <td>0.0</td>\n",
       "      <td>1</td>\n",
       "      <td>0</td>\n",
       "      <td>0</td>\n",
       "      <td>0</td>\n",
       "      <td>0</td>\n",
       "    </tr>\n",
       "    <tr>\n",
       "      <th>1</th>\n",
       "      <td>616037</td>\n",
       "      <td>5207.555</td>\n",
       "      <td>2022.0</td>\n",
       "      <td>250000000.0</td>\n",
       "      <td>746900000.0</td>\n",
       "      <td>119.0</td>\n",
       "      <td>6.766</td>\n",
       "      <td>2167.0</td>\n",
       "      <td>0.0</td>\n",
       "      <td>0.0</td>\n",
       "      <td>0.0</td>\n",
       "      <td>0.0</td>\n",
       "      <td>1.0</td>\n",
       "      <td>0.0</td>\n",
       "      <td>0</td>\n",
       "      <td>0</td>\n",
       "      <td>1</td>\n",
       "      <td>0</td>\n",
       "      <td>0</td>\n",
       "    </tr>\n",
       "  </tbody>\n",
       "</table>\n",
       "</div>"
      ],
      "text/plain": [
       "       id  popularity    year       budget      revenue  runtime  \\\n",
       "0  610150    7294.015  2022.0          0.0   68759433.0     99.0   \n",
       "1  616037    5207.555  2022.0  250000000.0  746900000.0    119.0   \n",
       "\n",
       "   vote_average  vote_count  genre_Animation  genre_Comedy  genre_Documentary  \\\n",
       "0         7.330       253.0              1.0           0.0                0.0   \n",
       "1         6.766      2167.0              0.0           0.0                0.0   \n",
       "\n",
       "   genre_Drama  genre_OTROS  genre_Romance  original_language_OTROS  \\\n",
       "0          0.0          1.0            0.0                        1   \n",
       "1          0.0          1.0            0.0                        0   \n",
       "\n",
       "   original_language_de  original_language_en  original_language_es  \\\n",
       "0                     0                     0                     0   \n",
       "1                     0                     1                     0   \n",
       "\n",
       "   original_language_fr  \n",
       "0                     0  \n",
       "1                     0  "
      ]
     },
     "execution_count": 20,
     "metadata": {},
     "output_type": "execute_result"
    }
   ],
   "source": [
    "counts = movies['original_language'].value_counts(True)\n",
    "mask = counts>0.05\n",
    "language_mask = counts[mask].index\n",
    "movies.loc[~movies['original_language'].isin(language_mask),'original_language'] = 'OTROS'\n",
    "movies = pd.get_dummies(movies,columns = ['original_language'])\n",
    "movies.head(2)"
   ]
  },
  {
   "cell_type": "code",
   "execution_count": 21,
   "id": "cb893745",
   "metadata": {},
   "outputs": [
    {
     "data": {
      "text/html": [
       "<div>\n",
       "<style scoped>\n",
       "    .dataframe tbody tr th:only-of-type {\n",
       "        vertical-align: middle;\n",
       "    }\n",
       "\n",
       "    .dataframe tbody tr th {\n",
       "        vertical-align: top;\n",
       "    }\n",
       "\n",
       "    .dataframe thead th {\n",
       "        text-align: right;\n",
       "    }\n",
       "</style>\n",
       "<table border=\"1\" class=\"dataframe\">\n",
       "  <thead>\n",
       "    <tr style=\"text-align: right;\">\n",
       "      <th></th>\n",
       "      <th>popularity</th>\n",
       "      <th>year</th>\n",
       "      <th>budget</th>\n",
       "      <th>revenue</th>\n",
       "      <th>runtime</th>\n",
       "      <th>vote_average</th>\n",
       "      <th>vote_count</th>\n",
       "      <th>genre_Animation</th>\n",
       "      <th>genre_Comedy</th>\n",
       "      <th>genre_Documentary</th>\n",
       "      <th>genre_Drama</th>\n",
       "      <th>genre_OTROS</th>\n",
       "      <th>genre_Romance</th>\n",
       "      <th>original_language_OTROS</th>\n",
       "      <th>original_language_de</th>\n",
       "      <th>original_language_en</th>\n",
       "      <th>original_language_es</th>\n",
       "      <th>original_language_fr</th>\n",
       "    </tr>\n",
       "  </thead>\n",
       "  <tbody>\n",
       "    <tr>\n",
       "      <th>0</th>\n",
       "      <td>7294.015</td>\n",
       "      <td>2022.0</td>\n",
       "      <td>0.0</td>\n",
       "      <td>68759433.0</td>\n",
       "      <td>99.0</td>\n",
       "      <td>7.330</td>\n",
       "      <td>253.0</td>\n",
       "      <td>1.0</td>\n",
       "      <td>0.0</td>\n",
       "      <td>0.0</td>\n",
       "      <td>0.0</td>\n",
       "      <td>1.0</td>\n",
       "      <td>0.0</td>\n",
       "      <td>1</td>\n",
       "      <td>0</td>\n",
       "      <td>0</td>\n",
       "      <td>0</td>\n",
       "      <td>0</td>\n",
       "    </tr>\n",
       "    <tr>\n",
       "      <th>1</th>\n",
       "      <td>5207.555</td>\n",
       "      <td>2022.0</td>\n",
       "      <td>250000000.0</td>\n",
       "      <td>746900000.0</td>\n",
       "      <td>119.0</td>\n",
       "      <td>6.766</td>\n",
       "      <td>2167.0</td>\n",
       "      <td>0.0</td>\n",
       "      <td>0.0</td>\n",
       "      <td>0.0</td>\n",
       "      <td>0.0</td>\n",
       "      <td>1.0</td>\n",
       "      <td>0.0</td>\n",
       "      <td>0</td>\n",
       "      <td>0</td>\n",
       "      <td>1</td>\n",
       "      <td>0</td>\n",
       "      <td>0</td>\n",
       "    </tr>\n",
       "  </tbody>\n",
       "</table>\n",
       "</div>"
      ],
      "text/plain": [
       "   popularity    year       budget      revenue  runtime  vote_average  \\\n",
       "0    7294.015  2022.0          0.0   68759433.0     99.0         7.330   \n",
       "1    5207.555  2022.0  250000000.0  746900000.0    119.0         6.766   \n",
       "\n",
       "   vote_count  genre_Animation  genre_Comedy  genre_Documentary  genre_Drama  \\\n",
       "0       253.0              1.0           0.0                0.0          0.0   \n",
       "1      2167.0              0.0           0.0                0.0          0.0   \n",
       "\n",
       "   genre_OTROS  genre_Romance  original_language_OTROS  original_language_de  \\\n",
       "0          1.0            0.0                        1                     0   \n",
       "1          1.0            0.0                        0                     0   \n",
       "\n",
       "   original_language_en  original_language_es  original_language_fr  \n",
       "0                     0                     0                     0  \n",
       "1                     1                     0                     0  "
      ]
     },
     "execution_count": 21,
     "metadata": {},
     "output_type": "execute_result"
    }
   ],
   "source": [
    "movies_id = movies['id']\n",
    "movies = movies.drop(columns=['id'])\n",
    "movies_cols = movies.columns\n",
    "movies.head(2)"
   ]
  },
  {
   "cell_type": "markdown",
   "id": "29189d3d",
   "metadata": {},
   "source": [
    "### Escalamiento "
   ]
  },
  {
   "cell_type": "code",
   "execution_count": 22,
   "id": "170b7cf8",
   "metadata": {},
   "outputs": [
    {
     "data": {
      "text/html": [
       "<div>\n",
       "<style scoped>\n",
       "    .dataframe tbody tr th:only-of-type {\n",
       "        vertical-align: middle;\n",
       "    }\n",
       "\n",
       "    .dataframe tbody tr th {\n",
       "        vertical-align: top;\n",
       "    }\n",
       "\n",
       "    .dataframe thead th {\n",
       "        text-align: right;\n",
       "    }\n",
       "</style>\n",
       "<table border=\"1\" class=\"dataframe\">\n",
       "  <thead>\n",
       "    <tr style=\"text-align: right;\">\n",
       "      <th></th>\n",
       "      <th>popularity</th>\n",
       "      <th>year</th>\n",
       "      <th>budget</th>\n",
       "      <th>revenue</th>\n",
       "      <th>runtime</th>\n",
       "      <th>vote_average</th>\n",
       "      <th>vote_count</th>\n",
       "      <th>genre_Animation</th>\n",
       "      <th>genre_Comedy</th>\n",
       "      <th>genre_Documentary</th>\n",
       "      <th>genre_Drama</th>\n",
       "      <th>genre_OTROS</th>\n",
       "      <th>genre_Romance</th>\n",
       "      <th>original_language_OTROS</th>\n",
       "      <th>original_language_de</th>\n",
       "      <th>original_language_en</th>\n",
       "      <th>original_language_es</th>\n",
       "      <th>original_language_fr</th>\n",
       "      <th>id</th>\n",
       "    </tr>\n",
       "  </thead>\n",
       "  <tbody>\n",
       "    <tr>\n",
       "      <th>0</th>\n",
       "      <td>1.000000</td>\n",
       "      <td>0.997041</td>\n",
       "      <td>0.0000</td>\n",
       "      <td>0.014373</td>\n",
       "      <td>0.001925</td>\n",
       "      <td>0.7330</td>\n",
       "      <td>0.007865</td>\n",
       "      <td>1.0</td>\n",
       "      <td>0.0</td>\n",
       "      <td>0.0</td>\n",
       "      <td>0.0</td>\n",
       "      <td>1.0</td>\n",
       "      <td>0.0</td>\n",
       "      <td>1.0</td>\n",
       "      <td>0.0</td>\n",
       "      <td>0.0</td>\n",
       "      <td>0.0</td>\n",
       "      <td>0.0</td>\n",
       "      <td>610150</td>\n",
       "    </tr>\n",
       "    <tr>\n",
       "      <th>1</th>\n",
       "      <td>0.713926</td>\n",
       "      <td>0.997041</td>\n",
       "      <td>0.3125</td>\n",
       "      <td>0.156132</td>\n",
       "      <td>0.002314</td>\n",
       "      <td>0.6766</td>\n",
       "      <td>0.067363</td>\n",
       "      <td>0.0</td>\n",
       "      <td>0.0</td>\n",
       "      <td>0.0</td>\n",
       "      <td>0.0</td>\n",
       "      <td>1.0</td>\n",
       "      <td>0.0</td>\n",
       "      <td>0.0</td>\n",
       "      <td>0.0</td>\n",
       "      <td>1.0</td>\n",
       "      <td>0.0</td>\n",
       "      <td>0.0</td>\n",
       "      <td>616037</td>\n",
       "    </tr>\n",
       "  </tbody>\n",
       "</table>\n",
       "</div>"
      ],
      "text/plain": [
       "   popularity      year  budget   revenue   runtime  vote_average  vote_count  \\\n",
       "0    1.000000  0.997041  0.0000  0.014373  0.001925        0.7330    0.007865   \n",
       "1    0.713926  0.997041  0.3125  0.156132  0.002314        0.6766    0.067363   \n",
       "\n",
       "   genre_Animation  genre_Comedy  genre_Documentary  genre_Drama  genre_OTROS  \\\n",
       "0              1.0           0.0                0.0          0.0          1.0   \n",
       "1              0.0           0.0                0.0          0.0          1.0   \n",
       "\n",
       "   genre_Romance  original_language_OTROS  original_language_de  \\\n",
       "0            0.0                      1.0                   0.0   \n",
       "1            0.0                      0.0                   0.0   \n",
       "\n",
       "   original_language_en  original_language_es  original_language_fr      id  \n",
       "0                   0.0                   0.0                   0.0  610150  \n",
       "1                   1.0                   0.0                   0.0  616037  "
      ]
     },
     "execution_count": 22,
     "metadata": {},
     "output_type": "execute_result"
    }
   ],
   "source": [
    "sc = MinMaxScaler()\n",
    "movies = sc.fit_transform(movies)\n",
    "movies = pd.DataFrame(movies)\n",
    "movies.columns = movies_cols\n",
    "movies['id'] = movies_id\n",
    "\n",
    "movies.head(2)"
   ]
  },
  {
   "cell_type": "markdown",
   "id": "8a1cc517",
   "metadata": {},
   "source": [
    "## Base de calificaciones"
   ]
  },
  {
   "cell_type": "code",
   "execution_count": 23,
   "id": "6c2c6c70",
   "metadata": {},
   "outputs": [
    {
     "data": {
      "text/html": [
       "<div>\n",
       "<style scoped>\n",
       "    .dataframe tbody tr th:only-of-type {\n",
       "        vertical-align: middle;\n",
       "    }\n",
       "\n",
       "    .dataframe tbody tr th {\n",
       "        vertical-align: top;\n",
       "    }\n",
       "\n",
       "    .dataframe thead th {\n",
       "        text-align: right;\n",
       "    }\n",
       "</style>\n",
       "<table border=\"1\" class=\"dataframe\">\n",
       "  <thead>\n",
       "    <tr style=\"text-align: right;\">\n",
       "      <th></th>\n",
       "      <th>userId</th>\n",
       "      <th>id</th>\n",
       "      <th>rating</th>\n",
       "    </tr>\n",
       "  </thead>\n",
       "  <tbody>\n",
       "    <tr>\n",
       "      <th>1469586</th>\n",
       "      <td>9816</td>\n",
       "      <td>3481</td>\n",
       "      <td>8.0</td>\n",
       "    </tr>\n",
       "    <tr>\n",
       "      <th>16590428</th>\n",
       "      <td>107641</td>\n",
       "      <td>4995</td>\n",
       "      <td>10.0</td>\n",
       "    </tr>\n",
       "  </tbody>\n",
       "</table>\n",
       "</div>"
      ],
      "text/plain": [
       "          userId    id  rating\n",
       "1469586     9816  3481     8.0\n",
       "16590428  107641  4995    10.0"
      ]
     },
     "execution_count": 23,
     "metadata": {},
     "output_type": "execute_result"
    }
   ],
   "source": [
    "ratings.head(2)"
   ]
  },
  {
   "cell_type": "code",
   "execution_count": 24,
   "id": "a0531941",
   "metadata": {},
   "outputs": [
    {
     "data": {
      "text/html": [
       "<div>\n",
       "<style scoped>\n",
       "    .dataframe tbody tr th:only-of-type {\n",
       "        vertical-align: middle;\n",
       "    }\n",
       "\n",
       "    .dataframe tbody tr th {\n",
       "        vertical-align: top;\n",
       "    }\n",
       "\n",
       "    .dataframe thead th {\n",
       "        text-align: right;\n",
       "    }\n",
       "</style>\n",
       "<table border=\"1\" class=\"dataframe\">\n",
       "  <thead>\n",
       "    <tr style=\"text-align: right;\">\n",
       "      <th></th>\n",
       "      <th>userId</th>\n",
       "      <th>id</th>\n",
       "      <th>rating</th>\n",
       "    </tr>\n",
       "  </thead>\n",
       "  <tbody>\n",
       "    <tr>\n",
       "      <th>1469586</th>\n",
       "      <td>9816</td>\n",
       "      <td>3481</td>\n",
       "      <td>0.8</td>\n",
       "    </tr>\n",
       "    <tr>\n",
       "      <th>16590428</th>\n",
       "      <td>107641</td>\n",
       "      <td>4995</td>\n",
       "      <td>1.0</td>\n",
       "    </tr>\n",
       "  </tbody>\n",
       "</table>\n",
       "</div>"
      ],
      "text/plain": [
       "          userId    id  rating\n",
       "1469586     9816  3481     0.8\n",
       "16590428  107641  4995     1.0"
      ]
     },
     "execution_count": 24,
     "metadata": {},
     "output_type": "execute_result"
    }
   ],
   "source": [
    "ratings['rating'] = ratings['rating']/10\n",
    "ratings.head(2)"
   ]
  },
  {
   "cell_type": "markdown",
   "id": "5256963c",
   "metadata": {},
   "source": [
    "## Generación de la TAD"
   ]
  },
  {
   "cell_type": "code",
   "execution_count": 25,
   "id": "1f62db0f",
   "metadata": {},
   "outputs": [
    {
     "data": {
      "text/html": [
       "<div>\n",
       "<style scoped>\n",
       "    .dataframe tbody tr th:only-of-type {\n",
       "        vertical-align: middle;\n",
       "    }\n",
       "\n",
       "    .dataframe tbody tr th {\n",
       "        vertical-align: top;\n",
       "    }\n",
       "\n",
       "    .dataframe thead th {\n",
       "        text-align: right;\n",
       "    }\n",
       "</style>\n",
       "<table border=\"1\" class=\"dataframe\">\n",
       "  <thead>\n",
       "    <tr style=\"text-align: right;\">\n",
       "      <th></th>\n",
       "      <th>userId</th>\n",
       "      <th>id</th>\n",
       "      <th>rating</th>\n",
       "      <th>popularity</th>\n",
       "      <th>year</th>\n",
       "      <th>budget</th>\n",
       "      <th>revenue</th>\n",
       "      <th>runtime</th>\n",
       "      <th>vote_average</th>\n",
       "      <th>vote_count</th>\n",
       "      <th>genre_Animation</th>\n",
       "      <th>genre_Comedy</th>\n",
       "      <th>genre_Documentary</th>\n",
       "      <th>genre_Drama</th>\n",
       "      <th>genre_OTROS</th>\n",
       "      <th>genre_Romance</th>\n",
       "      <th>original_language_OTROS</th>\n",
       "      <th>original_language_de</th>\n",
       "      <th>original_language_en</th>\n",
       "      <th>original_language_es</th>\n",
       "      <th>original_language_fr</th>\n",
       "    </tr>\n",
       "  </thead>\n",
       "  <tbody>\n",
       "    <tr>\n",
       "      <th>0</th>\n",
       "      <td>9816</td>\n",
       "      <td>3481</td>\n",
       "      <td>0.8</td>\n",
       "      <td>0.000627</td>\n",
       "      <td>0.968935</td>\n",
       "      <td>0.0</td>\n",
       "      <td>0.000272</td>\n",
       "      <td>0.001867</td>\n",
       "      <td>0.61</td>\n",
       "      <td>0.000901</td>\n",
       "      <td>0.0</td>\n",
       "      <td>0.0</td>\n",
       "      <td>0.0</td>\n",
       "      <td>0.0</td>\n",
       "      <td>1.0</td>\n",
       "      <td>0.0</td>\n",
       "      <td>0.0</td>\n",
       "      <td>0.0</td>\n",
       "      <td>1.0</td>\n",
       "      <td>0.0</td>\n",
       "      <td>0.0</td>\n",
       "    </tr>\n",
       "    <tr>\n",
       "      <th>1</th>\n",
       "      <td>112416</td>\n",
       "      <td>3481</td>\n",
       "      <td>0.8</td>\n",
       "      <td>0.000627</td>\n",
       "      <td>0.968935</td>\n",
       "      <td>0.0</td>\n",
       "      <td>0.000272</td>\n",
       "      <td>0.001867</td>\n",
       "      <td>0.61</td>\n",
       "      <td>0.000901</td>\n",
       "      <td>0.0</td>\n",
       "      <td>0.0</td>\n",
       "      <td>0.0</td>\n",
       "      <td>0.0</td>\n",
       "      <td>1.0</td>\n",
       "      <td>0.0</td>\n",
       "      <td>0.0</td>\n",
       "      <td>0.0</td>\n",
       "      <td>1.0</td>\n",
       "      <td>0.0</td>\n",
       "      <td>0.0</td>\n",
       "    </tr>\n",
       "  </tbody>\n",
       "</table>\n",
       "</div>"
      ],
      "text/plain": [
       "   userId    id  rating  popularity      year  budget   revenue   runtime  \\\n",
       "0    9816  3481     0.8    0.000627  0.968935     0.0  0.000272  0.001867   \n",
       "1  112416  3481     0.8    0.000627  0.968935     0.0  0.000272  0.001867   \n",
       "\n",
       "   vote_average  vote_count  genre_Animation  genre_Comedy  genre_Documentary  \\\n",
       "0          0.61    0.000901              0.0           0.0                0.0   \n",
       "1          0.61    0.000901              0.0           0.0                0.0   \n",
       "\n",
       "   genre_Drama  genre_OTROS  genre_Romance  original_language_OTROS  \\\n",
       "0          0.0          1.0            0.0                      0.0   \n",
       "1          0.0          1.0            0.0                      0.0   \n",
       "\n",
       "   original_language_de  original_language_en  original_language_es  \\\n",
       "0                   0.0                   1.0                   0.0   \n",
       "1                   0.0                   1.0                   0.0   \n",
       "\n",
       "   original_language_fr  \n",
       "0                   0.0  \n",
       "1                   0.0  "
      ]
     },
     "execution_count": 25,
     "metadata": {},
     "output_type": "execute_result"
    }
   ],
   "source": [
    "TAD = ratings.merge(movies,on='id')\n",
    "TAD.head(2)"
   ]
  },
  {
   "cell_type": "code",
   "execution_count": 26,
   "id": "c0372e20",
   "metadata": {},
   "outputs": [
    {
     "data": {
      "text/plain": [
       "(595583, 21)"
      ]
     },
     "execution_count": 26,
     "metadata": {},
     "output_type": "execute_result"
    }
   ],
   "source": [
    "TAD.shape"
   ]
  },
  {
   "cell_type": "code",
   "execution_count": 27,
   "id": "05ea0921",
   "metadata": {},
   "outputs": [],
   "source": [
    "genres_cols = [col for col in TAD.columns if 'genre_' in col]\n",
    "language_cols = [col for col in TAD.columns if 'original_language_' in col]"
   ]
  },
  {
   "cell_type": "code",
   "execution_count": 28,
   "id": "b1ce2ccb",
   "metadata": {},
   "outputs": [],
   "source": [
    "for v in genres_cols:\n",
    "    TAD[v] = np.multiply(TAD['rating'],TAD[v])\n",
    "\n",
    "for v in language_cols:\n",
    "    TAD[v] = np.multiply(TAD['rating'],TAD[v])"
   ]
  },
  {
   "cell_type": "code",
   "execution_count": 29,
   "id": "ea9541a1",
   "metadata": {},
   "outputs": [
    {
     "data": {
      "text/html": [
       "<div>\n",
       "<style scoped>\n",
       "    .dataframe tbody tr th:only-of-type {\n",
       "        vertical-align: middle;\n",
       "    }\n",
       "\n",
       "    .dataframe tbody tr th {\n",
       "        vertical-align: top;\n",
       "    }\n",
       "\n",
       "    .dataframe thead th {\n",
       "        text-align: right;\n",
       "    }\n",
       "</style>\n",
       "<table border=\"1\" class=\"dataframe\">\n",
       "  <thead>\n",
       "    <tr style=\"text-align: right;\">\n",
       "      <th></th>\n",
       "      <th>userId</th>\n",
       "      <th>id</th>\n",
       "      <th>rating</th>\n",
       "      <th>popularity</th>\n",
       "      <th>year</th>\n",
       "      <th>budget</th>\n",
       "      <th>revenue</th>\n",
       "      <th>runtime</th>\n",
       "      <th>vote_average</th>\n",
       "      <th>vote_count</th>\n",
       "      <th>genre_Animation</th>\n",
       "      <th>genre_Comedy</th>\n",
       "      <th>genre_Documentary</th>\n",
       "      <th>genre_Drama</th>\n",
       "      <th>genre_OTROS</th>\n",
       "      <th>genre_Romance</th>\n",
       "      <th>original_language_OTROS</th>\n",
       "      <th>original_language_de</th>\n",
       "      <th>original_language_en</th>\n",
       "      <th>original_language_es</th>\n",
       "      <th>original_language_fr</th>\n",
       "    </tr>\n",
       "  </thead>\n",
       "  <tbody>\n",
       "    <tr>\n",
       "      <th>0</th>\n",
       "      <td>9816</td>\n",
       "      <td>3481</td>\n",
       "      <td>0.8</td>\n",
       "      <td>0.000627</td>\n",
       "      <td>0.968935</td>\n",
       "      <td>0.0</td>\n",
       "      <td>0.000272</td>\n",
       "      <td>0.001867</td>\n",
       "      <td>0.61</td>\n",
       "      <td>0.000901</td>\n",
       "      <td>0.0</td>\n",
       "      <td>0.0</td>\n",
       "      <td>0.0</td>\n",
       "      <td>0.0</td>\n",
       "      <td>0.8</td>\n",
       "      <td>0.0</td>\n",
       "      <td>0.0</td>\n",
       "      <td>0.0</td>\n",
       "      <td>0.8</td>\n",
       "      <td>0.0</td>\n",
       "      <td>0.0</td>\n",
       "    </tr>\n",
       "    <tr>\n",
       "      <th>1</th>\n",
       "      <td>112416</td>\n",
       "      <td>3481</td>\n",
       "      <td>0.8</td>\n",
       "      <td>0.000627</td>\n",
       "      <td>0.968935</td>\n",
       "      <td>0.0</td>\n",
       "      <td>0.000272</td>\n",
       "      <td>0.001867</td>\n",
       "      <td>0.61</td>\n",
       "      <td>0.000901</td>\n",
       "      <td>0.0</td>\n",
       "      <td>0.0</td>\n",
       "      <td>0.0</td>\n",
       "      <td>0.0</td>\n",
       "      <td>0.8</td>\n",
       "      <td>0.0</td>\n",
       "      <td>0.0</td>\n",
       "      <td>0.0</td>\n",
       "      <td>0.8</td>\n",
       "      <td>0.0</td>\n",
       "      <td>0.0</td>\n",
       "    </tr>\n",
       "    <tr>\n",
       "      <th>2</th>\n",
       "      <td>110830</td>\n",
       "      <td>3481</td>\n",
       "      <td>0.8</td>\n",
       "      <td>0.000627</td>\n",
       "      <td>0.968935</td>\n",
       "      <td>0.0</td>\n",
       "      <td>0.000272</td>\n",
       "      <td>0.001867</td>\n",
       "      <td>0.61</td>\n",
       "      <td>0.000901</td>\n",
       "      <td>0.0</td>\n",
       "      <td>0.0</td>\n",
       "      <td>0.0</td>\n",
       "      <td>0.0</td>\n",
       "      <td>0.8</td>\n",
       "      <td>0.0</td>\n",
       "      <td>0.0</td>\n",
       "      <td>0.0</td>\n",
       "      <td>0.8</td>\n",
       "      <td>0.0</td>\n",
       "      <td>0.0</td>\n",
       "    </tr>\n",
       "    <tr>\n",
       "      <th>3</th>\n",
       "      <td>32565</td>\n",
       "      <td>3481</td>\n",
       "      <td>1.0</td>\n",
       "      <td>0.000627</td>\n",
       "      <td>0.968935</td>\n",
       "      <td>0.0</td>\n",
       "      <td>0.000272</td>\n",
       "      <td>0.001867</td>\n",
       "      <td>0.61</td>\n",
       "      <td>0.000901</td>\n",
       "      <td>0.0</td>\n",
       "      <td>0.0</td>\n",
       "      <td>0.0</td>\n",
       "      <td>0.0</td>\n",
       "      <td>1.0</td>\n",
       "      <td>0.0</td>\n",
       "      <td>0.0</td>\n",
       "      <td>0.0</td>\n",
       "      <td>1.0</td>\n",
       "      <td>0.0</td>\n",
       "      <td>0.0</td>\n",
       "    </tr>\n",
       "    <tr>\n",
       "      <th>4</th>\n",
       "      <td>42516</td>\n",
       "      <td>3481</td>\n",
       "      <td>0.8</td>\n",
       "      <td>0.000627</td>\n",
       "      <td>0.968935</td>\n",
       "      <td>0.0</td>\n",
       "      <td>0.000272</td>\n",
       "      <td>0.001867</td>\n",
       "      <td>0.61</td>\n",
       "      <td>0.000901</td>\n",
       "      <td>0.0</td>\n",
       "      <td>0.0</td>\n",
       "      <td>0.0</td>\n",
       "      <td>0.0</td>\n",
       "      <td>0.8</td>\n",
       "      <td>0.0</td>\n",
       "      <td>0.0</td>\n",
       "      <td>0.0</td>\n",
       "      <td>0.8</td>\n",
       "      <td>0.0</td>\n",
       "      <td>0.0</td>\n",
       "    </tr>\n",
       "  </tbody>\n",
       "</table>\n",
       "</div>"
      ],
      "text/plain": [
       "   userId    id  rating  popularity      year  budget   revenue   runtime  \\\n",
       "0    9816  3481     0.8    0.000627  0.968935     0.0  0.000272  0.001867   \n",
       "1  112416  3481     0.8    0.000627  0.968935     0.0  0.000272  0.001867   \n",
       "2  110830  3481     0.8    0.000627  0.968935     0.0  0.000272  0.001867   \n",
       "3   32565  3481     1.0    0.000627  0.968935     0.0  0.000272  0.001867   \n",
       "4   42516  3481     0.8    0.000627  0.968935     0.0  0.000272  0.001867   \n",
       "\n",
       "   vote_average  vote_count  genre_Animation  genre_Comedy  genre_Documentary  \\\n",
       "0          0.61    0.000901              0.0           0.0                0.0   \n",
       "1          0.61    0.000901              0.0           0.0                0.0   \n",
       "2          0.61    0.000901              0.0           0.0                0.0   \n",
       "3          0.61    0.000901              0.0           0.0                0.0   \n",
       "4          0.61    0.000901              0.0           0.0                0.0   \n",
       "\n",
       "   genre_Drama  genre_OTROS  genre_Romance  original_language_OTROS  \\\n",
       "0          0.0          0.8            0.0                      0.0   \n",
       "1          0.0          0.8            0.0                      0.0   \n",
       "2          0.0          0.8            0.0                      0.0   \n",
       "3          0.0          1.0            0.0                      0.0   \n",
       "4          0.0          0.8            0.0                      0.0   \n",
       "\n",
       "   original_language_de  original_language_en  original_language_es  \\\n",
       "0                   0.0                   0.8                   0.0   \n",
       "1                   0.0                   0.8                   0.0   \n",
       "2                   0.0                   0.8                   0.0   \n",
       "3                   0.0                   1.0                   0.0   \n",
       "4                   0.0                   0.8                   0.0   \n",
       "\n",
       "   original_language_fr  \n",
       "0                   0.0  \n",
       "1                   0.0  \n",
       "2                   0.0  \n",
       "3                   0.0  \n",
       "4                   0.0  "
      ]
     },
     "execution_count": 29,
     "metadata": {},
     "output_type": "execute_result"
    }
   ],
   "source": [
    "TAD.head()"
   ]
  },
  {
   "cell_type": "code",
   "execution_count": 30,
   "id": "0d7b40e3",
   "metadata": {},
   "outputs": [
    {
     "data": {
      "text/plain": [
       "{'id': ['count'],\n",
       " 'popularity': ['min', 'max', 'mean'],\n",
       " 'year': ['min',\n",
       "  'max',\n",
       "  <function pandas.core.generic.NDFrame._add_numeric_operations.<locals>.median(self, axis: 'int | None | lib.NoDefault' = <no_default>, skipna=True, level=None, numeric_only=None, **kwargs)>],\n",
       " 'budget': ['mean'],\n",
       " 'revenue': ['mean'],\n",
       " 'runtime': ['min', 'max', 'mean']}"
      ]
     },
     "execution_count": 30,
     "metadata": {},
     "output_type": "execute_result"
    }
   ],
   "source": [
    "feat_op= {'id':['count'],\n",
    "         'popularity': ['min','max','mean'],\n",
    "         'year': ['min','max',pd.Series.median],\n",
    "         'budget':['mean'],\n",
    "         'revenue':['mean'],\n",
    "         'runtime':['min','max','mean']}\n",
    "\n",
    "feat_op"
   ]
  },
  {
   "cell_type": "code",
   "execution_count": 31,
   "id": "3db3ed9c",
   "metadata": {},
   "outputs": [
    {
     "data": {
      "text/plain": [
       "{'genre_Animation': ['sum', 'min', 'max'],\n",
       " 'genre_Comedy': ['sum', 'min', 'max'],\n",
       " 'genre_Documentary': ['sum', 'min', 'max'],\n",
       " 'genre_Drama': ['sum', 'min', 'max'],\n",
       " 'genre_OTROS': ['sum', 'min', 'max'],\n",
       " 'genre_Romance': ['sum', 'min', 'max']}"
      ]
     },
     "execution_count": 31,
     "metadata": {},
     "output_type": "execute_result"
    }
   ],
   "source": [
    "genre_op = dict(zip(genres_cols,np.tile(['sum','min','max'],(len(genres_cols),1)).tolist()))\n",
    "genre_op"
   ]
  },
  {
   "cell_type": "code",
   "execution_count": 32,
   "id": "98a680e6",
   "metadata": {},
   "outputs": [
    {
     "data": {
      "text/plain": [
       "{'original_language_OTROS': ['sum', 'min', 'max'],\n",
       " 'original_language_de': ['sum', 'min', 'max'],\n",
       " 'original_language_en': ['sum', 'min', 'max'],\n",
       " 'original_language_es': ['sum', 'min', 'max'],\n",
       " 'original_language_fr': ['sum', 'min', 'max']}"
      ]
     },
     "execution_count": 32,
     "metadata": {},
     "output_type": "execute_result"
    }
   ],
   "source": [
    "language_op = dict(zip(language_cols,np.tile(['sum','min','max'],(len(language_cols),1)).tolist()))\n",
    "language_op"
   ]
  },
  {
   "cell_type": "code",
   "execution_count": 33,
   "id": "7fc6a63e",
   "metadata": {},
   "outputs": [],
   "source": [
    "feat_op.update(genre_op)\n",
    "feat_op.update(language_op)"
   ]
  },
  {
   "cell_type": "code",
   "execution_count": 34,
   "id": "ff42c4c4",
   "metadata": {},
   "outputs": [],
   "source": [
    "TAD = TAD.groupby('userId').agg(feat_op)"
   ]
  },
  {
   "cell_type": "code",
   "execution_count": 35,
   "id": "7cdb24fd",
   "metadata": {},
   "outputs": [
    {
     "data": {
      "text/plain": [
       "['id_count',\n",
       " 'popularity_min',\n",
       " 'popularity_max',\n",
       " 'popularity_mean',\n",
       " 'year_min',\n",
       " 'year_max',\n",
       " 'year_<function NDFrame._add_numeric_operations.<locals>.median at 0x00000202B35F8B80>',\n",
       " 'budget_mean',\n",
       " 'revenue_mean',\n",
       " 'runtime_min',\n",
       " 'runtime_max',\n",
       " 'runtime_mean',\n",
       " 'genre_Animation_sum',\n",
       " 'genre_Animation_min',\n",
       " 'genre_Animation_max',\n",
       " 'genre_Comedy_sum',\n",
       " 'genre_Comedy_min',\n",
       " 'genre_Comedy_max',\n",
       " 'genre_Documentary_sum',\n",
       " 'genre_Documentary_min',\n",
       " 'genre_Documentary_max',\n",
       " 'genre_Drama_sum',\n",
       " 'genre_Drama_min',\n",
       " 'genre_Drama_max',\n",
       " 'genre_OTROS_sum',\n",
       " 'genre_OTROS_min',\n",
       " 'genre_OTROS_max',\n",
       " 'genre_Romance_sum',\n",
       " 'genre_Romance_min',\n",
       " 'genre_Romance_max',\n",
       " 'original_language_OTROS_sum',\n",
       " 'original_language_OTROS_min',\n",
       " 'original_language_OTROS_max',\n",
       " 'original_language_de_sum',\n",
       " 'original_language_de_min',\n",
       " 'original_language_de_max',\n",
       " 'original_language_en_sum',\n",
       " 'original_language_en_min',\n",
       " 'original_language_en_max',\n",
       " 'original_language_es_sum',\n",
       " 'original_language_es_min',\n",
       " 'original_language_es_max',\n",
       " 'original_language_fr_sum',\n",
       " 'original_language_fr_min',\n",
       " 'original_language_fr_max']"
      ]
     },
     "execution_count": 35,
     "metadata": {},
     "output_type": "execute_result"
    }
   ],
   "source": [
    "TAD_columns = [key + '_' + str(j) for key in feat_op.keys() for j in feat_op.get(key)]\n",
    "TAD_columns"
   ]
  },
  {
   "cell_type": "code",
   "execution_count": 36,
   "id": "d212f4a3",
   "metadata": {},
   "outputs": [],
   "source": [
    "TAD_columns = ['n',\n",
    " 'popularity_min',\n",
    " 'popularity_max',\n",
    " 'popularity_mean',\n",
    " 'year_min',\n",
    " 'year_max',\n",
    " 'year_median',\n",
    " 'budget_mean',\n",
    " 'revenue_mean',\n",
    " 'runtime_min',\n",
    " 'runtime_max',\n",
    " 'runtime_mean',\n",
    " 'genre_Animation_sum',\n",
    " 'genre_Animation_min',\n",
    " 'genre_Animation_max',\n",
    " 'genre_Comedy_sum',\n",
    " 'genre_Comedy_min',\n",
    " 'genre_Comedy_max',\n",
    " 'genre_Documentary_sum',\n",
    " 'genre_Documentary_min',\n",
    " 'genre_Documentary_max',\n",
    " 'genre_Drama_sum',\n",
    " 'genre_Drama_min',\n",
    " 'genre_Drama_max',\n",
    " 'genre_OTROS_sum',\n",
    " 'genre_OTROS_min',\n",
    " 'genre_OTROS_max',\n",
    " 'genre_Romance_sum',\n",
    " 'genre_Romance_min',\n",
    " 'genre_Romance_max',\n",
    " 'original_language_OTROS_sum',\n",
    " 'original_language_OTROS_min',\n",
    " 'original_language_OTROS_max',\n",
    " 'original_language_de_sum',\n",
    " 'original_language_de_min',\n",
    " 'original_language_de_max',\n",
    " 'original_language_en_sum',\n",
    " 'original_language_en_min',\n",
    " 'original_language_en_max',\n",
    " 'original_language_es_sum',\n",
    " 'original_language_es_min',\n",
    " 'original_language_es_max',\n",
    " 'original_language_fr_sum',\n",
    " 'original_language_fr_min',\n",
    " 'original_language_fr_max']"
   ]
  },
  {
   "cell_type": "code",
   "execution_count": 37,
   "id": "e3077b7d",
   "metadata": {},
   "outputs": [
    {
     "data": {
      "text/html": [
       "<div>\n",
       "<style scoped>\n",
       "    .dataframe tbody tr th:only-of-type {\n",
       "        vertical-align: middle;\n",
       "    }\n",
       "\n",
       "    .dataframe tbody tr th {\n",
       "        vertical-align: top;\n",
       "    }\n",
       "\n",
       "    .dataframe thead th {\n",
       "        text-align: right;\n",
       "    }\n",
       "</style>\n",
       "<table border=\"1\" class=\"dataframe\">\n",
       "  <thead>\n",
       "    <tr style=\"text-align: right;\">\n",
       "      <th></th>\n",
       "      <th>n</th>\n",
       "      <th>popularity_min</th>\n",
       "      <th>popularity_max</th>\n",
       "      <th>popularity_mean</th>\n",
       "      <th>year_min</th>\n",
       "      <th>year_max</th>\n",
       "      <th>year_median</th>\n",
       "      <th>budget_mean</th>\n",
       "      <th>revenue_mean</th>\n",
       "      <th>runtime_min</th>\n",
       "      <th>runtime_max</th>\n",
       "      <th>runtime_mean</th>\n",
       "      <th>genre_Animation_sum</th>\n",
       "      <th>genre_Animation_min</th>\n",
       "      <th>genre_Animation_max</th>\n",
       "      <th>genre_Comedy_sum</th>\n",
       "      <th>genre_Comedy_min</th>\n",
       "      <th>genre_Comedy_max</th>\n",
       "      <th>genre_Documentary_sum</th>\n",
       "      <th>genre_Documentary_min</th>\n",
       "      <th>genre_Documentary_max</th>\n",
       "      <th>genre_Drama_sum</th>\n",
       "      <th>genre_Drama_min</th>\n",
       "      <th>genre_Drama_max</th>\n",
       "      <th>genre_OTROS_sum</th>\n",
       "      <th>genre_OTROS_min</th>\n",
       "      <th>genre_OTROS_max</th>\n",
       "      <th>genre_Romance_sum</th>\n",
       "      <th>genre_Romance_min</th>\n",
       "      <th>genre_Romance_max</th>\n",
       "      <th>original_language_OTROS_sum</th>\n",
       "      <th>original_language_OTROS_min</th>\n",
       "      <th>original_language_OTROS_max</th>\n",
       "      <th>original_language_de_sum</th>\n",
       "      <th>original_language_de_min</th>\n",
       "      <th>original_language_de_max</th>\n",
       "      <th>original_language_en_sum</th>\n",
       "      <th>original_language_en_min</th>\n",
       "      <th>original_language_en_max</th>\n",
       "      <th>original_language_es_sum</th>\n",
       "      <th>original_language_es_min</th>\n",
       "      <th>original_language_es_max</th>\n",
       "      <th>original_language_fr_sum</th>\n",
       "      <th>original_language_fr_min</th>\n",
       "      <th>original_language_fr_max</th>\n",
       "    </tr>\n",
       "    <tr>\n",
       "      <th>userId</th>\n",
       "      <th></th>\n",
       "      <th></th>\n",
       "      <th></th>\n",
       "      <th></th>\n",
       "      <th></th>\n",
       "      <th></th>\n",
       "      <th></th>\n",
       "      <th></th>\n",
       "      <th></th>\n",
       "      <th></th>\n",
       "      <th></th>\n",
       "      <th></th>\n",
       "      <th></th>\n",
       "      <th></th>\n",
       "      <th></th>\n",
       "      <th></th>\n",
       "      <th></th>\n",
       "      <th></th>\n",
       "      <th></th>\n",
       "      <th></th>\n",
       "      <th></th>\n",
       "      <th></th>\n",
       "      <th></th>\n",
       "      <th></th>\n",
       "      <th></th>\n",
       "      <th></th>\n",
       "      <th></th>\n",
       "      <th></th>\n",
       "      <th></th>\n",
       "      <th></th>\n",
       "      <th></th>\n",
       "      <th></th>\n",
       "      <th></th>\n",
       "      <th></th>\n",
       "      <th></th>\n",
       "      <th></th>\n",
       "      <th></th>\n",
       "      <th></th>\n",
       "      <th></th>\n",
       "      <th></th>\n",
       "      <th></th>\n",
       "      <th></th>\n",
       "      <th></th>\n",
       "      <th></th>\n",
       "      <th></th>\n",
       "    </tr>\n",
       "  </thead>\n",
       "  <tbody>\n",
       "    <tr>\n",
       "      <th>2</th>\n",
       "      <td>3</td>\n",
       "      <td>0.000349</td>\n",
       "      <td>0.001631</td>\n",
       "      <td>0.000982</td>\n",
       "      <td>0.977811</td>\n",
       "      <td>0.987179</td>\n",
       "      <td>0.986686</td>\n",
       "      <td>0.009167</td>\n",
       "      <td>0.002354</td>\n",
       "      <td>0.002023</td>\n",
       "      <td>0.002081</td>\n",
       "      <td>0.002055</td>\n",
       "      <td>0.0</td>\n",
       "      <td>0.0</td>\n",
       "      <td>0.0</td>\n",
       "      <td>0.9</td>\n",
       "      <td>0.0</td>\n",
       "      <td>0.9</td>\n",
       "      <td>0.0</td>\n",
       "      <td>0.0</td>\n",
       "      <td>0.0</td>\n",
       "      <td>1.7</td>\n",
       "      <td>0.0</td>\n",
       "      <td>1.0</td>\n",
       "      <td>1.7</td>\n",
       "      <td>0.0</td>\n",
       "      <td>1.0</td>\n",
       "      <td>0.0</td>\n",
       "      <td>0.0</td>\n",
       "      <td>0.0</td>\n",
       "      <td>0.0</td>\n",
       "      <td>0.0</td>\n",
       "      <td>0.0</td>\n",
       "      <td>0.0</td>\n",
       "      <td>0.0</td>\n",
       "      <td>0.0</td>\n",
       "      <td>2.6</td>\n",
       "      <td>0.7</td>\n",
       "      <td>1.0</td>\n",
       "      <td>0.0</td>\n",
       "      <td>0.0</td>\n",
       "      <td>0.0</td>\n",
       "      <td>0.0</td>\n",
       "      <td>0.0</td>\n",
       "      <td>0.0</td>\n",
       "    </tr>\n",
       "    <tr>\n",
       "      <th>3</th>\n",
       "      <td>8</td>\n",
       "      <td>0.000086</td>\n",
       "      <td>0.003723</td>\n",
       "      <td>0.000891</td>\n",
       "      <td>0.952170</td>\n",
       "      <td>0.989152</td>\n",
       "      <td>0.982742</td>\n",
       "      <td>0.001096</td>\n",
       "      <td>0.000344</td>\n",
       "      <td>0.000000</td>\n",
       "      <td>0.001886</td>\n",
       "      <td>0.001220</td>\n",
       "      <td>0.8</td>\n",
       "      <td>0.0</td>\n",
       "      <td>0.8</td>\n",
       "      <td>1.6</td>\n",
       "      <td>0.0</td>\n",
       "      <td>0.8</td>\n",
       "      <td>0.0</td>\n",
       "      <td>0.0</td>\n",
       "      <td>0.0</td>\n",
       "      <td>0.0</td>\n",
       "      <td>0.0</td>\n",
       "      <td>0.0</td>\n",
       "      <td>5.0</td>\n",
       "      <td>0.0</td>\n",
       "      <td>1.0</td>\n",
       "      <td>0.0</td>\n",
       "      <td>0.0</td>\n",
       "      <td>0.0</td>\n",
       "      <td>0.8</td>\n",
       "      <td>0.0</td>\n",
       "      <td>0.8</td>\n",
       "      <td>0.9</td>\n",
       "      <td>0.0</td>\n",
       "      <td>0.9</td>\n",
       "      <td>4.9</td>\n",
       "      <td>0.0</td>\n",
       "      <td>1.0</td>\n",
       "      <td>0.0</td>\n",
       "      <td>0.0</td>\n",
       "      <td>0.0</td>\n",
       "      <td>0.0</td>\n",
       "      <td>0.0</td>\n",
       "      <td>0.0</td>\n",
       "    </tr>\n",
       "  </tbody>\n",
       "</table>\n",
       "</div>"
      ],
      "text/plain": [
       "        n  popularity_min  popularity_max  popularity_mean  year_min  \\\n",
       "userId                                                                 \n",
       "2       3        0.000349        0.001631         0.000982  0.977811   \n",
       "3       8        0.000086        0.003723         0.000891  0.952170   \n",
       "\n",
       "        year_max  year_median  budget_mean  revenue_mean  runtime_min  \\\n",
       "userId                                                                  \n",
       "2       0.987179     0.986686     0.009167      0.002354     0.002023   \n",
       "3       0.989152     0.982742     0.001096      0.000344     0.000000   \n",
       "\n",
       "        runtime_max  runtime_mean  genre_Animation_sum  genre_Animation_min  \\\n",
       "userId                                                                        \n",
       "2          0.002081      0.002055                  0.0                  0.0   \n",
       "3          0.001886      0.001220                  0.8                  0.0   \n",
       "\n",
       "        genre_Animation_max  genre_Comedy_sum  genre_Comedy_min  \\\n",
       "userId                                                            \n",
       "2                       0.0               0.9               0.0   \n",
       "3                       0.8               1.6               0.0   \n",
       "\n",
       "        genre_Comedy_max  genre_Documentary_sum  genre_Documentary_min  \\\n",
       "userId                                                                   \n",
       "2                    0.9                    0.0                    0.0   \n",
       "3                    0.8                    0.0                    0.0   \n",
       "\n",
       "        genre_Documentary_max  genre_Drama_sum  genre_Drama_min  \\\n",
       "userId                                                            \n",
       "2                         0.0              1.7              0.0   \n",
       "3                         0.0              0.0              0.0   \n",
       "\n",
       "        genre_Drama_max  genre_OTROS_sum  genre_OTROS_min  genre_OTROS_max  \\\n",
       "userId                                                                       \n",
       "2                   1.0              1.7              0.0              1.0   \n",
       "3                   0.0              5.0              0.0              1.0   \n",
       "\n",
       "        genre_Romance_sum  genre_Romance_min  genre_Romance_max  \\\n",
       "userId                                                            \n",
       "2                     0.0                0.0                0.0   \n",
       "3                     0.0                0.0                0.0   \n",
       "\n",
       "        original_language_OTROS_sum  original_language_OTROS_min  \\\n",
       "userId                                                             \n",
       "2                               0.0                          0.0   \n",
       "3                               0.8                          0.0   \n",
       "\n",
       "        original_language_OTROS_max  original_language_de_sum  \\\n",
       "userId                                                          \n",
       "2                               0.0                       0.0   \n",
       "3                               0.8                       0.9   \n",
       "\n",
       "        original_language_de_min  original_language_de_max  \\\n",
       "userId                                                       \n",
       "2                            0.0                       0.0   \n",
       "3                            0.0                       0.9   \n",
       "\n",
       "        original_language_en_sum  original_language_en_min  \\\n",
       "userId                                                       \n",
       "2                            2.6                       0.7   \n",
       "3                            4.9                       0.0   \n",
       "\n",
       "        original_language_en_max  original_language_es_sum  \\\n",
       "userId                                                       \n",
       "2                            1.0                       0.0   \n",
       "3                            1.0                       0.0   \n",
       "\n",
       "        original_language_es_min  original_language_es_max  \\\n",
       "userId                                                       \n",
       "2                            0.0                       0.0   \n",
       "3                            0.0                       0.0   \n",
       "\n",
       "        original_language_fr_sum  original_language_fr_min  \\\n",
       "userId                                                       \n",
       "2                            0.0                       0.0   \n",
       "3                            0.0                       0.0   \n",
       "\n",
       "        original_language_fr_max  \n",
       "userId                            \n",
       "2                            0.0  \n",
       "3                            0.0  "
      ]
     },
     "execution_count": 37,
     "metadata": {},
     "output_type": "execute_result"
    }
   ],
   "source": [
    "TAD.columns=TAD_columns\n",
    "TAD.head(2)"
   ]
  },
  {
   "cell_type": "markdown",
   "id": "58cdfe4c",
   "metadata": {
    "tags": [],
    "toc-hr-collapsed": true
   },
   "source": [
    "# Modelaje no supervisado"
   ]
  },
  {
   "cell_type": "markdown",
   "id": "8cb7e22e",
   "metadata": {},
   "source": [
    "> Una vez que tenemos nuestra TAD, se realizará el entramiento de los siguientes modelos:\n",
    "> * Ward\n",
    "> * K-Means\n",
    "> * Gaussian Mixture"
   ]
  },
  {
   "cell_type": "code",
   "execution_count": null,
   "id": "6760b623",
   "metadata": {},
   "outputs": [],
   "source": [
    "X = TAD.copy()"
   ]
  },
  {
   "cell_type": "code",
   "execution_count": null,
   "id": "4af0d1c1",
   "metadata": {},
   "outputs": [],
   "source": [
    "# save_object(X,'XM3')\n",
    "# X = load_object('XM3.pkl')\n",
    "# TAD = X.copy()"
   ]
  },
  {
   "cell_type": "code",
   "execution_count": null,
   "id": "39ed772a",
   "metadata": {},
   "outputs": [],
   "source": [
    "X"
   ]
  },
  {
   "cell_type": "markdown",
   "id": "49e6f6b3",
   "metadata": {
    "tags": []
   },
   "source": [
    "## Escalamiento de la variable"
   ]
  },
  {
   "cell_type": "code",
   "execution_count": null,
   "id": "342930c3",
   "metadata": {
    "tags": []
   },
   "outputs": [],
   "source": [
    "# scaler = MinMaxScaler()\n",
    "# scaler.fit(X)\n",
    "# X=scaler.transform(X)\n",
    "# pd.DataFrame(X)"
   ]
  },
  {
   "cell_type": "markdown",
   "id": "f743da29",
   "metadata": {},
   "source": [
    "## Reducción de dimensión"
   ]
  },
  {
   "cell_type": "code",
   "execution_count": null,
   "id": "2eb5dd3b",
   "metadata": {},
   "outputs": [],
   "source": [
    "n_comp_wb=2"
   ]
  },
  {
   "cell_type": "markdown",
   "id": "7232a9cb",
   "metadata": {
    "tags": []
   },
   "source": [
    "### PCA"
   ]
  },
  {
   "cell_type": "code",
   "execution_count": null,
   "id": "c462735c",
   "metadata": {},
   "outputs": [],
   "source": [
    "pca_f = PCA(n_components=n_comp_wb,random_state=1610)\n",
    "pca_f.fit(X)"
   ]
  },
  {
   "cell_type": "code",
   "execution_count": null,
   "id": "b920736b",
   "metadata": {},
   "outputs": [],
   "source": [
    "X_PCA = pca_f.transform(X)\n",
    "X_PCA =  pd.DataFrame(X_PCA)\n",
    "X_PCA.columns = ['C' + str(x +1)  for x in range(n_comp_wb)]"
   ]
  },
  {
   "cell_type": "markdown",
   "id": "6ef93003",
   "metadata": {
    "tags": []
   },
   "source": [
    "### MDS"
   ]
  },
  {
   "cell_type": "code",
   "execution_count": null,
   "id": "b0802078",
   "metadata": {},
   "outputs": [],
   "source": [
    "mds = MDS(n_components=4,random_state=1610)"
   ]
  },
  {
   "cell_type": "code",
   "execution_count": null,
   "id": "b843b007",
   "metadata": {},
   "outputs": [],
   "source": [
    "X_MDS = mds.fit_transform(X)\n",
    "X_MDS =  pd.DataFrame(X_MDS)\n",
    "X_MDS.columns = ['V1','V2','V3','V4']"
   ]
  },
  {
   "cell_type": "markdown",
   "id": "3af1e618",
   "metadata": {},
   "source": [
    "### Visualización en reducción reducida"
   ]
  },
  {
   "cell_type": "code",
   "execution_count": null,
   "id": "d00b2a49",
   "metadata": {},
   "outputs": [],
   "source": [
    "import plotly.express as px"
   ]
  },
  {
   "cell_type": "code",
   "execution_count": null,
   "id": "42e47493",
   "metadata": {},
   "outputs": [],
   "source": [
    "fig = px.scatter(x=X_PCA['C1'],y=X_PCA['C2'])\n",
    "fig.update_traces(marker=dict(size=5,\n",
    "                                  line=dict(width=0.2,\n",
    "                                            color='white')),\n",
    "                      selector=dict(mode='markers'))\n",
    "fig.update_layout(height=500, width=750,title='PCA')"
   ]
  },
  {
   "cell_type": "code",
   "execution_count": null,
   "id": "40189521",
   "metadata": {},
   "outputs": [],
   "source": [
    "fig = px.scatter(x=X_MDS['V1'],y=X_MDS['V2'])\n",
    "fig.update_traces(marker=dict(size=5,\n",
    "                                  line=dict(width=0.2,\n",
    "                                            color='white')),\n",
    "                      selector=dict(mode='markers'))\n",
    "fig.update_layout(height=500, width=750,title='MDS')"
   ]
  },
  {
   "cell_type": "markdown",
   "id": "69215da2",
   "metadata": {},
   "source": [
    "## Entrenamiento de modelos"
   ]
  },
  {
   "cell_type": "markdown",
   "id": "460865e9",
   "metadata": {
    "tags": []
   },
   "source": [
    "### Inercia"
   ]
  },
  {
   "cell_type": "code",
   "execution_count": null,
   "id": "b98815e3",
   "metadata": {},
   "outputs": [],
   "source": [
    "inertia(X, 2, 10)"
   ]
  },
  {
   "cell_type": "code",
   "execution_count": null,
   "id": "730e35f6",
   "metadata": {},
   "outputs": [],
   "source": [
    "n_clust=5"
   ]
  },
  {
   "cell_type": "markdown",
   "id": "e2a4bb90",
   "metadata": {},
   "source": [
    "### Ward"
   ]
  },
  {
   "cell_type": "code",
   "execution_count": null,
   "id": "567558f0",
   "metadata": {},
   "outputs": [],
   "source": [
    "Ward = AgglomerativeClustering(n_clusters=n_clust)\n",
    "Ward.fit(X)"
   ]
  },
  {
   "cell_type": "code",
   "execution_count": null,
   "id": "e7321c6c",
   "metadata": {},
   "outputs": [],
   "source": [
    "clusters_Ward= Ward.labels_\n",
    "TAD['Ward'] = clusters_Ward"
   ]
  },
  {
   "cell_type": "markdown",
   "id": "73f28c29",
   "metadata": {
    "tags": []
   },
   "source": [
    "### KMeans"
   ]
  },
  {
   "cell_type": "code",
   "execution_count": null,
   "id": "7a58029e",
   "metadata": {},
   "outputs": [],
   "source": [
    "Kmeans = KMeans(n_clusters=n_clust)\n",
    "Kmeans.fit(X)"
   ]
  },
  {
   "cell_type": "code",
   "execution_count": null,
   "id": "7f6fb7f4",
   "metadata": {},
   "outputs": [],
   "source": [
    "clusters_Kmeans= Kmeans.labels_\n",
    "TAD['KMeans'] = clusters_Kmeans"
   ]
  },
  {
   "cell_type": "markdown",
   "id": "b208d8aa",
   "metadata": {
    "tags": []
   },
   "source": [
    "### GM"
   ]
  },
  {
   "cell_type": "code",
   "execution_count": null,
   "id": "8dea2be7",
   "metadata": {},
   "outputs": [],
   "source": [
    "GM =GaussianMixture(n_components=n_clust, random_state=1610)\n",
    "GM = GM.fit(X)"
   ]
  },
  {
   "cell_type": "code",
   "execution_count": null,
   "id": "525c453a",
   "metadata": {},
   "outputs": [],
   "source": [
    "clusters_GM= GM.predict(X)\n",
    "TAD['GM'] = clusters_GM"
   ]
  },
  {
   "cell_type": "markdown",
   "id": "6df86783",
   "metadata": {
    "toc-hr-collapsed": true
   },
   "source": [
    "# Resultados de entrenamiento"
   ]
  },
  {
   "cell_type": "markdown",
   "id": "f2078495",
   "metadata": {},
   "source": [
    "## TAD Final"
   ]
  },
  {
   "cell_type": "code",
   "execution_count": null,
   "id": "3f264c57",
   "metadata": {},
   "outputs": [],
   "source": [
    "TAD"
   ]
  },
  {
   "cell_type": "markdown",
   "id": "12f6b484",
   "metadata": {
    "tags": [],
    "toc-hr-collapsed": true
   },
   "source": [
    "## Visualización en dimensión reducida"
   ]
  },
  {
   "cell_type": "markdown",
   "id": "cc6181aa",
   "metadata": {
    "tags": []
   },
   "source": [
    "### Ward"
   ]
  },
  {
   "cell_type": "code",
   "execution_count": null,
   "id": "7e76bef7",
   "metadata": {},
   "outputs": [],
   "source": [
    "plot_method_all('Ward',TAD)"
   ]
  },
  {
   "cell_type": "markdown",
   "id": "470fe7ec",
   "metadata": {},
   "source": [
    "### KMeans"
   ]
  },
  {
   "cell_type": "code",
   "execution_count": null,
   "id": "b0768e37",
   "metadata": {},
   "outputs": [],
   "source": [
    "plot_method_all('KMeans',TAD)"
   ]
  },
  {
   "cell_type": "markdown",
   "id": "267d11cc",
   "metadata": {},
   "source": [
    "### GM"
   ]
  },
  {
   "cell_type": "code",
   "execution_count": null,
   "id": "6bd78104",
   "metadata": {},
   "outputs": [],
   "source": [
    "plot_method_all('GM',TAD)"
   ]
  },
  {
   "cell_type": "markdown",
   "id": "ba8045cd",
   "metadata": {
    "tags": [],
    "toc-hr-collapsed": true
   },
   "source": [
    "## Cantidad de elementos en cada cluster"
   ]
  },
  {
   "cell_type": "markdown",
   "id": "733ce8b0",
   "metadata": {
    "tags": []
   },
   "source": [
    "### Ward"
   ]
  },
  {
   "cell_type": "code",
   "execution_count": null,
   "id": "52c26987",
   "metadata": {},
   "outputs": [],
   "source": [
    "plt.figure(figsize=(20,8),dpi=150)\n",
    "\n",
    "method = 'Ward'\n",
    "plot_bar(TAD,method,title='Cantidad de elementos en cada cluster\\n Método: '+  method,barlabs=True)\n",
    "\n",
    "plt.savefig('n_' + method + '_final.png')"
   ]
  },
  {
   "cell_type": "markdown",
   "id": "ecec3847",
   "metadata": {
    "tags": []
   },
   "source": [
    "### KMeans"
   ]
  },
  {
   "cell_type": "code",
   "execution_count": null,
   "id": "564c0cbc",
   "metadata": {},
   "outputs": [],
   "source": [
    "plt.figure(figsize=(20,8),dpi=150)\n",
    "\n",
    "method = 'KMeans'\n",
    "plot_bar(TAD,method,title='Cantidad de elementos en cada cluster\\n Método: '+  method,barlabs=True)\n",
    "\n",
    "plt.savefig('n_' + method + '_final.png')"
   ]
  },
  {
   "cell_type": "markdown",
   "id": "28d8b6c8",
   "metadata": {
    "tags": []
   },
   "source": [
    "### GM"
   ]
  },
  {
   "cell_type": "code",
   "execution_count": null,
   "id": "5b54a028",
   "metadata": {},
   "outputs": [],
   "source": [
    "plt.figure(figsize=(20,8),dpi=150)\n",
    "\n",
    "method = 'GM'\n",
    "plot_bar(TAD,method,title='Cantidad de elementos en cada cluster\\n Método: '+  method,barlabs=True)\n",
    "\n",
    "plt.savefig('n_' + method + '_final.png')"
   ]
  },
  {
   "cell_type": "markdown",
   "id": "462c24a7",
   "metadata": {},
   "source": [
    "# Perfilamiento"
   ]
  },
  {
   "cell_type": "code",
   "execution_count": null,
   "id": "150a3808",
   "metadata": {},
   "outputs": [],
   "source": [
    "clusters = []\n",
    "\n",
    "for i in range(n_clust):\n",
    "    clusters.append(TAD.loc[TAD['KMeans']==i])"
   ]
  },
  {
   "cell_type": "markdown",
   "id": "c50db781",
   "metadata": {},
   "source": [
    "## Pruebas de hipótesis"
   ]
  },
  {
   "cell_type": "markdown",
   "id": "6b2c1a45",
   "metadata": {},
   "source": [
    "### Entre las variables de clusters"
   ]
  },
  {
   "cell_type": "code",
   "execution_count": null,
   "id": "01f67350",
   "metadata": {},
   "outputs": [],
   "source": [
    "VarsKruskal = pd.DataFrame([kruskal(*[x[y] for x in clusters]) for y in X.columns]).applymap(lambda x : '{:.10f}'.format(x))\n",
    "VarsKruskal.insert(0,'Variable',X.columns)\n",
    "VarsKruskal"
   ]
  },
  {
   "cell_type": "markdown",
   "id": "f5ea5bb2",
   "metadata": {},
   "source": [
    "### Contra la TAD"
   ]
  },
  {
   "cell_type": "code",
   "execution_count": null,
   "id": "7ce8e952",
   "metadata": {},
   "outputs": [],
   "source": [
    "def highlight(s, props=''):\n",
    "    return np.where(s == 'Distribución parecida', props, '')"
   ]
  },
  {
   "cell_type": "code",
   "execution_count": null,
   "id": "72d84ba6",
   "metadata": {},
   "outputs": [],
   "source": [
    "for i in range(n_clust):\n",
    "    print('TAD VS ' + 'Cluster ' + str(i))\n",
    "    display(pruebas_hipotesis(TAD, clusters[i], X.columns).style.apply(highlight, props='color:white;background-color:darkblue', axis=1))"
   ]
  },
  {
   "cell_type": "markdown",
   "id": "27a1ef97",
   "metadata": {},
   "source": [
    "### Entre clusters"
   ]
  },
  {
   "cell_type": "code",
   "execution_count": null,
   "id": "6e08bfed",
   "metadata": {},
   "outputs": [],
   "source": [
    "tuckeycol = []\n",
    "for col in X.columns:\n",
    "    tuckeycol.append(pairwise_tukeyhsd(endog=TAD[col], groups=TAD['KMeans'], alpha=0.05))"
   ]
  },
  {
   "cell_type": "code",
   "execution_count": null,
   "id": "250acda1",
   "metadata": {},
   "outputs": [],
   "source": [
    "tuckeyresults = []\n",
    "\n",
    "for i,col in enumerate(X.columns): \n",
    "    print(col)\n",
    "    dbtemp = pd.read_csv(io.StringIO(tuckeycol[i].summary().as_csv()), sep=\",\",header=1)\n",
    "    dbtemp.columns = ['group1', 'group2', 'meandiff', 'p-adj', 'lower', 'upper','reject']\n",
    "    dbtemp = dbtemp[['group1','group2','p-adj','reject']]\n",
    "    dbtemp = dbtemp.applymap(lambda x: str(x).strip())\n",
    "    dbtemp['reject'] = np.where(dbtemp['reject']=='False','Distribución parecida','Distribución diferente')\n",
    "    tuckeyresults.append(dbtemp['reject'].value_counts(dropna=False).T)\n",
    "    display(dbtemp.style.apply(highlight, props='color:white;background-color:darkblue', axis=1))\n",
    "    \n"
   ]
  },
  {
   "cell_type": "code",
   "execution_count": null,
   "id": "4b3e4f14",
   "metadata": {},
   "outputs": [],
   "source": [
    "tuckeydecision = pd.concat(tuckeyresults,axis=1).T\n",
    "tuckeydecision.index = X.columns\n",
    "tuckeydecision = tuckeydecision.fillna(0)\n",
    "tuckeydecision['%'] = tuckeydecision['Distribución diferente']/10\n",
    "tuckeydecision['tuckey_decision'] = np.where(tuckeydecision['%'] > 0.6, 'Conservar la variable' ,'Quitar variable')\n",
    "tuckeydecision"
   ]
  },
  {
   "cell_type": "markdown",
   "id": "947cec01",
   "metadata": {},
   "source": [
    "## Variables no significativas"
   ]
  },
  {
   "cell_type": "markdown",
   "id": "01e248c9",
   "metadata": {},
   "source": [
    "> De las pruebas obtenidas, podemos decir que las variables no significativas son:\n",
    "> * startYear\n",
    "> * runtimeMinutes\n",
    "> * averageRating\n",
    "> * numVotes\n"
   ]
  },
  {
   "cell_type": "code",
   "execution_count": null,
   "id": "027a6717",
   "metadata": {},
   "outputs": [],
   "source": [
    "notsignificant = ['startYear','runtimeMinutes','averageRating','numVotes']"
   ]
  },
  {
   "cell_type": "code",
   "execution_count": null,
   "id": "66b836c1",
   "metadata": {},
   "outputs": [],
   "source": [
    "TAD_final = TAD.drop(columns = notsignificant)"
   ]
  },
  {
   "cell_type": "code",
   "execution_count": null,
   "id": "5a991c72",
   "metadata": {},
   "outputs": [],
   "source": [
    "TAD_final"
   ]
  },
  {
   "cell_type": "markdown",
   "id": "a33fe5c8",
   "metadata": {},
   "source": [
    "## Características de los grupos "
   ]
  },
  {
   "cell_type": "markdown",
   "id": "16d4a3f0",
   "metadata": {},
   "source": [
    "### Cluster 0"
   ]
  },
  {
   "cell_type": "code",
   "execution_count": null,
   "id": "08425c09",
   "metadata": {},
   "outputs": [],
   "source": [
    "cluster_resume = clusters[0][TAD_final.columns].describe()\n",
    "print(f'En este cluster, tenemos un total de  {cluster_resume[\"n\"][0]} usuarios')"
   ]
  },
  {
   "cell_type": "code",
   "execution_count": null,
   "id": "ccdc07c1",
   "metadata": {},
   "outputs": [],
   "source": [
    "cluster_resume  "
   ]
  },
  {
   "cell_type": "code",
   "execution_count": null,
   "id": "b56e81fe",
   "metadata": {},
   "outputs": [],
   "source": [
    "print(f'En promedio, los usuarios de este cluster, ven una cantidad de {round(cluster_resume[\"n\"][1],0)} películas')"
   ]
  },
  {
   "cell_type": "code",
   "execution_count": null,
   "id": "59de409d",
   "metadata": {},
   "outputs": [],
   "source": [
    "\n",
    "plt.figure(figsize=(10,7),dpi=100)\n",
    "# genres_cluster  = clusters[0][genres_dummied.columns].apply(sum).sort_values(ascending=False)[0:3][np.argsort([1,0,2])]\n",
    "genres_cluster  = clusters[0][genres_dummied.columns].apply(sum).sort_values(ascending=False)\n",
    "g = sns.barplot(x=genres_cluster.index,y=genres_cluster,palette='pastel')\n",
    "# g.bar_label(g.containers[0])\n",
    "plt.xticks(rotation=90)\n",
    "plt.title('¿Qué tipo de películas le gustan a este cluster?',size=20,fontstyle='italic',fontweight='bold')\n",
    "plt.show()\n"
   ]
  },
  {
   "cell_type": "code",
   "execution_count": null,
   "id": "9a747893",
   "metadata": {},
   "outputs": [],
   "source": [
    "mean_genre_cluster=cluster_resume[genres_dummied.columns].iloc[1,:].sort_values(ascending=False)\n",
    "\n",
    "colors = sns.color_palette('pastel')\n",
    "\n",
    "def absolute_value(val):\n",
    "    a  = np.round(val/100.*mean_genre_cluster.sum(), 0)\n",
    "    return int(a)\n",
    "\n",
    "plt.figure(figsize=(10,7),dpi=100)\n",
    "plt.pie(mean_genre_cluster, labels = mean_genre_cluster.index, colors = colors, autopct=absolute_value,startangle=90)\n",
    "plt.title('En promedio, ¿cúantas películas de cada género le gustan este cluster?',size=20,fontstyle='italic',fontweight='bold')\n",
    "plt.show()"
   ]
  },
  {
   "cell_type": "markdown",
   "id": "2fc3e179",
   "metadata": {},
   "source": [
    "### Cluster 1"
   ]
  },
  {
   "cell_type": "code",
   "execution_count": null,
   "id": "0798eec5",
   "metadata": {},
   "outputs": [],
   "source": [
    "cluster_resume = clusters[1][TAD_final.columns].describe()\n",
    "print(f'En este cluster, tenemos un total de  {cluster_resume[\"n\"][0]} usuarios')"
   ]
  },
  {
   "cell_type": "code",
   "execution_count": null,
   "id": "f0ad4206",
   "metadata": {},
   "outputs": [],
   "source": [
    "cluster_resume  "
   ]
  },
  {
   "cell_type": "code",
   "execution_count": null,
   "id": "0f555188",
   "metadata": {},
   "outputs": [],
   "source": [
    "print(f'En promedio, los usuarios de este cluster, ven una cantidad de {round(cluster_resume[\"n\"][1],0)} películas')"
   ]
  },
  {
   "cell_type": "code",
   "execution_count": null,
   "id": "0d236b7f",
   "metadata": {},
   "outputs": [],
   "source": [
    "\n",
    "plt.figure(figsize=(10,7),dpi=100)\n",
    "# genres_cluster  = clusters[1][genres_dummied.columns].apply(sum).sort_values(ascending=False)[0:3][np.argsort([1,0,2])]\n",
    "genres_cluster  = clusters[1][genres_dummied.columns].apply(sum).sort_values(ascending=False)\n",
    "g = sns.barplot(x=genres_cluster.index,y=genres_cluster,palette='pastel')\n",
    "# g.bar_label(g.containers[0])\n",
    "plt.xticks(rotation=90)\n",
    "plt.title('¿Qué tipo de películas le gustan a este cluster?',size=20,fontstyle='italic',fontweight='bold')\n",
    "plt.show()"
   ]
  },
  {
   "cell_type": "code",
   "execution_count": null,
   "id": "86d0b6d9",
   "metadata": {},
   "outputs": [],
   "source": [
    "mean_genre_cluster=cluster_resume[genres_dummied.columns].iloc[1,:].sort_values(ascending=False)\n",
    "\n",
    "colors = sns.color_palette('pastel')\n",
    "\n",
    "def absolute_value(val):\n",
    "    a  = np.round(val/100.*mean_genre_cluster.sum(), 0)\n",
    "    return int(a)\n",
    "\n",
    "plt.figure(figsize=(10,7),dpi=100)\n",
    "plt.pie(mean_genre_cluster, labels = mean_genre_cluster.index, colors = colors, autopct=absolute_value,startangle=90)\n",
    "plt.title('En promedio, ¿cúantas películas de cada género le gustan este cluster?',size=20,fontstyle='italic',fontweight='bold')\n",
    "plt.show()"
   ]
  },
  {
   "cell_type": "markdown",
   "id": "e489faf4",
   "metadata": {},
   "source": [
    "### Cluster 2"
   ]
  },
  {
   "cell_type": "code",
   "execution_count": null,
   "id": "194f0469",
   "metadata": {},
   "outputs": [],
   "source": [
    "cluster_resume = clusters[2][TAD_final.columns].describe()\n",
    "print(f'En este cluster, tenemos un total de  {cluster_resume[\"n\"][0]} usuarios')"
   ]
  },
  {
   "cell_type": "code",
   "execution_count": null,
   "id": "1f7a9da2",
   "metadata": {},
   "outputs": [],
   "source": [
    "cluster_resume  "
   ]
  },
  {
   "cell_type": "code",
   "execution_count": null,
   "id": "bcb2df37",
   "metadata": {},
   "outputs": [],
   "source": [
    "print(f'En promedio, los usuarios de este cluster, ven una cantidad de {round(cluster_resume[\"n\"][1],0)} películas')"
   ]
  },
  {
   "cell_type": "code",
   "execution_count": null,
   "id": "abd1b677",
   "metadata": {},
   "outputs": [],
   "source": [
    "plt.figure(figsize=(10,7),dpi=100)\n",
    "# genres_cluster  = clusters[2][genres_dummied.columns].apply(sum).sort_values(ascending=False)[0:3][np.argsort([1,0,2])]\n",
    "genres_cluster  = clusters[2][genres_dummied.columns].apply(sum).sort_values(ascending=False)\n",
    "g = sns.barplot(x=genres_cluster.index,y=genres_cluster,palette='pastel')\n",
    "# g.bar_label(g.containers[0])\n",
    "plt.xticks(rotation=90)\n",
    "plt.title('¿Qué tipo de películas le gustan a este cluster?',size=20,fontstyle='italic',fontweight='bold')\n",
    "plt.show()"
   ]
  },
  {
   "cell_type": "code",
   "execution_count": null,
   "id": "6b139e84",
   "metadata": {},
   "outputs": [],
   "source": [
    "mean_genre_cluster=cluster_resume[genres_dummied.columns].iloc[1,:].sort_values(ascending=False)\n",
    "\n",
    "colors = sns.color_palette('pastel')\n",
    "\n",
    "def absolute_value(val):\n",
    "    a  = np.round(val/100.*mean_genre_cluster.sum(), 0)\n",
    "    return int(a)\n",
    "\n",
    "plt.figure(figsize=(10,7),dpi=100)\n",
    "plt.pie(mean_genre_cluster, labels = mean_genre_cluster.index, colors = colors, autopct=absolute_value,startangle=90)\n",
    "plt.title('En promedio, ¿cúantas películas de cada género le gustan este cluster?',size=20,fontstyle='italic',fontweight='bold')\n",
    "plt.show()"
   ]
  },
  {
   "cell_type": "markdown",
   "id": "811d12ed",
   "metadata": {},
   "source": [
    "### Cluster 3"
   ]
  },
  {
   "cell_type": "code",
   "execution_count": null,
   "id": "5a19d86a",
   "metadata": {},
   "outputs": [],
   "source": [
    "cluster_resume = clusters[3][TAD_final.columns].describe()\n",
    "print(f'En este cluster, tenemos un total de  {cluster_resume[\"n\"][0]} usuarios')"
   ]
  },
  {
   "cell_type": "code",
   "execution_count": null,
   "id": "480dc68c",
   "metadata": {},
   "outputs": [],
   "source": [
    "cluster_resume  "
   ]
  },
  {
   "cell_type": "code",
   "execution_count": null,
   "id": "8d61d162",
   "metadata": {},
   "outputs": [],
   "source": [
    "print(f'En promedio, los usuarios de este cluster, ven una cantidad de {round(cluster_resume[\"n\"][1],0)} películas')"
   ]
  },
  {
   "cell_type": "code",
   "execution_count": null,
   "id": "81049d80",
   "metadata": {},
   "outputs": [],
   "source": [
    "\n",
    "plt.figure(figsize=(10,7),dpi=100)\n",
    "# genres_cluster  = clusters[3][genres_dummied.columns].apply(sum).sort_values(ascending=False)[0:3][np.argsort([1,0,2])]\n",
    "genres_cluster  = clusters[3][genres_dummied.columns].apply(sum).sort_values(ascending=False)\n",
    "g = sns.barplot(x=genres_cluster.index,y=genres_cluster,palette='pastel')\n",
    "# g.bar_label(g.containers[0])\n",
    "plt.xticks(rotation=90)\n",
    "plt.title('¿Qué tipo de películas le gustan a este cluster?',size=20,fontstyle='italic',fontweight='bold')\n",
    "plt.show()\n"
   ]
  },
  {
   "cell_type": "code",
   "execution_count": null,
   "id": "0d57da86",
   "metadata": {},
   "outputs": [],
   "source": [
    "mean_genre_cluster=cluster_resume[genres_dummied.columns].iloc[1,:].sort_values(ascending=False)\n",
    "\n",
    "colors = sns.color_palette('pastel')\n",
    "\n",
    "def absolute_value(val):\n",
    "    a  = np.round(val/100.*mean_genre_cluster.sum(), 0)\n",
    "    return int(a)\n",
    "\n",
    "plt.figure(figsize=(10,7),dpi=100)\n",
    "plt.pie(mean_genre_cluster, labels = mean_genre_cluster.index, colors = colors, autopct=absolute_value,startangle=90)\n",
    "plt.title('En promedio, ¿cúantas películas de cada género le gustan este cluster?',size=20,fontstyle='italic',fontweight='bold')\n",
    "plt.show()"
   ]
  },
  {
   "cell_type": "markdown",
   "id": "a5219475",
   "metadata": {},
   "source": [
    "### Cluster 4"
   ]
  },
  {
   "cell_type": "code",
   "execution_count": null,
   "id": "ce8b6dc8",
   "metadata": {},
   "outputs": [],
   "source": [
    "cluster_resume = clusters[4][TAD_final.columns].describe()\n",
    "print(f'En este cluster, tenemos un total de  {cluster_resume[\"n\"][0]} usuarios')"
   ]
  },
  {
   "cell_type": "code",
   "execution_count": null,
   "id": "4c30f6c6",
   "metadata": {},
   "outputs": [],
   "source": [
    "cluster_resume  "
   ]
  },
  {
   "cell_type": "code",
   "execution_count": null,
   "id": "5da5814a",
   "metadata": {},
   "outputs": [],
   "source": [
    "print(f'En promedio, los usuarios de este cluster, ven una cantidad de {round(cluster_resume[\"n\"][1],0)} películas')"
   ]
  },
  {
   "cell_type": "code",
   "execution_count": null,
   "id": "280dec29",
   "metadata": {},
   "outputs": [],
   "source": [
    "\n",
    "plt.figure(figsize=(10,7),dpi=100)\n",
    "# genres_cluster  = clusters[4][genres_dummied.columns].apply(sum).sort_values(ascending=False)[0:3][np.argsort([1,0,2])]\n",
    "genres_cluster  = clusters[4][genres_dummied.columns].apply(sum).sort_values(ascending=False)\n",
    "g = sns.barplot(x=genres_cluster.index,y=genres_cluster,palette='pastel')\n",
    "# g.bar_label(g.containers[0])\n",
    "plt.xticks(rotation=90)\n",
    "plt.title('¿Qué tipo de películas le gustan a este cluster?',size=20,fontstyle='italic',fontweight='bold')\n",
    "plt.show()\n"
   ]
  },
  {
   "cell_type": "code",
   "execution_count": null,
   "id": "ab2d4cf9",
   "metadata": {
    "scrolled": true
   },
   "outputs": [],
   "source": [
    "mean_genre_cluster=cluster_resume[genres_dummied.columns].iloc[1,:].sort_values(ascending=False)\n",
    "\n",
    "colors = sns.color_palette('pastel')\n",
    "\n",
    "def absolute_value(val):\n",
    "    a  = np.round(val/100.*mean_genre_cluster.sum(), 0)\n",
    "    return int(a)\n",
    "\n",
    "plt.figure(figsize=(10,7),dpi=100)\n",
    "plt.pie(mean_genre_cluster, labels = mean_genre_cluster.index, colors = colors, autopct=absolute_value,startangle=90)\n",
    "plt.title('En promedio, ¿cúantas películas de cada género le gustan este cluster?',size=20,fontstyle='italic',fontweight='bold')\n",
    "plt.show()"
   ]
  }
 ],
 "metadata": {
  "interpreter": {
   "hash": "e4b0dc3f566f05bc103e1f1b3ab48badc3f605c5ba46d00ca4d445c3c8a098ce"
  },
  "kernelspec": {
   "display_name": "Python 3 (ipykernel)",
   "language": "python",
   "name": "python3"
  },
  "language_info": {
   "codemirror_mode": {
    "name": "ipython",
    "version": 3
   },
   "file_extension": ".py",
   "mimetype": "text/x-python",
   "name": "python",
   "nbconvert_exporter": "python",
   "pygments_lexer": "ipython3",
   "version": "3.9.10"
  },
  "toc": {
   "base_numbering": 1,
   "nav_menu": {},
   "number_sections": true,
   "sideBar": true,
   "skip_h1_title": false,
   "title_cell": "Indice general",
   "title_sidebar": "Contents",
   "toc_cell": true,
   "toc_position": {
    "height": "calc(100% - 180px)",
    "left": "10px",
    "top": "150px",
    "width": "384px"
   },
   "toc_section_display": true,
   "toc_window_display": true
  }
 },
 "nbformat": 4,
 "nbformat_minor": 5
}
