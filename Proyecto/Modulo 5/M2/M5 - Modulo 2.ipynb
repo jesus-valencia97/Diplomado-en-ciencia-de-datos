{
 "cells": [
  {
   "cell_type": "code",
   "execution_count": 1,
   "id": "a14391b4",
   "metadata": {},
   "outputs": [
    {
     "data": {
      "text/html": [
       "        <script type=\"text/javascript\">\n",
       "        window.PlotlyConfig = {MathJaxConfig: 'local'};\n",
       "        if (window.MathJax) {MathJax.Hub.Config({SVG: {font: \"STIX-Web\"}});}\n",
       "        if (typeof require !== 'undefined') {\n",
       "        require.undef(\"plotly\");\n",
       "        requirejs.config({\n",
       "            paths: {\n",
       "                'plotly': ['https://cdn.plot.ly/plotly-latest.min']\n",
       "            }\n",
       "        });\n",
       "        require(['plotly'], function(Plotly) {\n",
       "            window._Plotly = Plotly;\n",
       "        });\n",
       "        }\n",
       "        </script>\n",
       "        "
      ]
     },
     "metadata": {},
     "output_type": "display_data"
    },
    {
     "data": {
      "text/html": [
       "        <script type=\"text/javascript\">\n",
       "        window.PlotlyConfig = {MathJaxConfig: 'local'};\n",
       "        if (window.MathJax) {MathJax.Hub.Config({SVG: {font: \"STIX-Web\"}});}\n",
       "        if (typeof require !== 'undefined') {\n",
       "        require.undef(\"plotly\");\n",
       "        requirejs.config({\n",
       "            paths: {\n",
       "                'plotly': ['https://cdn.plot.ly/plotly-latest.min']\n",
       "            }\n",
       "        });\n",
       "        require(['plotly'], function(Plotly) {\n",
       "            window._Plotly = Plotly;\n",
       "        });\n",
       "        }\n",
       "        </script>\n",
       "        "
      ]
     },
     "metadata": {},
     "output_type": "display_data"
    }
   ],
   "source": [
    "#Misc\n",
    "import os\n",
    "import pickle\n",
    "import importlib\n",
    "\n",
    "#Data\n",
    "import pandas as pd\n",
    "import numpy as np\n",
    "\n",
    "\n",
    "# Visualización\n",
    "import cufflinks as cf\n",
    "import matplotlib.ticker as tkr\n",
    "import matplotlib.pyplot as plt\n",
    "import seaborn as sns\n",
    "\n",
    "# Opciones\n",
    "plt.style.use('seaborn-white')\n",
    "pd.set_option('display.max_columns', 500)\n",
    "pd.set_option('display.max_rows', 100)\n",
    "cf.set_config_file(theme='white',dimensions=(650,450))\n",
    "cf.go_offline()"
   ]
  },
  {
   "cell_type": "code",
   "execution_count": 2,
   "id": "f29edf38",
   "metadata": {},
   "outputs": [
    {
     "data": {
      "text/plain": [
       "<module 'SupervisedUtils' from '../../Datasets\\\\SupervisedUtils.py'>"
      ]
     },
     "execution_count": 2,
     "metadata": {},
     "output_type": "execute_result"
    }
   ],
   "source": [
    "# Scripts personales\n",
    "sys.path.insert(1, '../../Datasets/')\n",
    "\n",
    "# String\n",
    "import StringUtils \n",
    "importlib.reload(StringUtils)\n",
    "\n",
    "import PlotUtils \n",
    "importlib.reload(PlotUtils)\n",
    "\n",
    "import SupervisedUtils \n",
    "importlib.reload(SupervisedUtils)"
   ]
  },
  {
   "cell_type": "markdown",
   "id": "3dd22107",
   "metadata": {
    "tags": []
   },
   "source": [
    "## Funciones de utilidad"
   ]
  },
  {
   "cell_type": "code",
   "execution_count": 3,
   "id": "e913408f",
   "metadata": {},
   "outputs": [],
   "source": [
    "def save_object(obj,name):\n",
    "  with open(name + '.pkl', 'wb') as file:\n",
    "    pickle.dump(obj, file, pickle.HIGHEST_PROTOCOL)\n",
    "\n",
    "def load_object(name):\n",
    "    with open(name, 'rb') as file:\n",
    "        return(pickle.load(file))"
   ]
  },
  {
   "cell_type": "markdown",
   "id": "f178eee8",
   "metadata": {},
   "source": [
    "## Base módulo 1"
   ]
  },
  {
   "cell_type": "code",
   "execution_count": 4,
   "id": "ba7e14c6",
   "metadata": {},
   "outputs": [
    {
     "data": {
      "text/html": [
       "<div>\n",
       "<style scoped>\n",
       "    .dataframe tbody tr th:only-of-type {\n",
       "        vertical-align: middle;\n",
       "    }\n",
       "\n",
       "    .dataframe tbody tr th {\n",
       "        vertical-align: top;\n",
       "    }\n",
       "\n",
       "    .dataframe thead th {\n",
       "        text-align: right;\n",
       "    }\n",
       "</style>\n",
       "<table border=\"1\" class=\"dataframe\">\n",
       "  <thead>\n",
       "    <tr style=\"text-align: right;\">\n",
       "      <th></th>\n",
       "      <th>id</th>\n",
       "      <th>genres</th>\n",
       "      <th>original_language</th>\n",
       "      <th>overview</th>\n",
       "      <th>popularity</th>\n",
       "      <th>year</th>\n",
       "      <th>month</th>\n",
       "      <th>day</th>\n",
       "      <th>budget</th>\n",
       "      <th>revenue</th>\n",
       "      <th>runtime</th>\n",
       "      <th>status</th>\n",
       "      <th>tagline</th>\n",
       "      <th>vote_average</th>\n",
       "      <th>vote_count</th>\n",
       "      <th>keywords</th>\n",
       "      <th>poster_path</th>\n",
       "      <th>backdrop_path</th>\n",
       "    </tr>\n",
       "  </thead>\n",
       "  <tbody>\n",
       "    <tr>\n",
       "      <th>0</th>\n",
       "      <td>610150</td>\n",
       "      <td>Animation-Science Fiction-Action</td>\n",
       "      <td>ja</td>\n",
       "      <td>The Red Ribbon Army an evil organization that ...</td>\n",
       "      <td>7294.015</td>\n",
       "      <td>2022.0</td>\n",
       "      <td>6.0</td>\n",
       "      <td>11.0</td>\n",
       "      <td>0.0</td>\n",
       "      <td>68759433.0</td>\n",
       "      <td>99.0</td>\n",
       "      <td>Released</td>\n",
       "      <td>A super awakening and calamity is born.</td>\n",
       "      <td>7.330</td>\n",
       "      <td>253.0</td>\n",
       "      <td>android-sequel-attack-based on manga-fighting-...</td>\n",
       "      <td>/rugyJdeoJm7cSJL1q4jBpTNbxyU.jpg</td>\n",
       "      <td>/ugS5FVfCI3RV0ZwZtBV3HAV75OX.jpg</td>\n",
       "    </tr>\n",
       "    <tr>\n",
       "      <th>1</th>\n",
       "      <td>616037</td>\n",
       "      <td>Action-Adventure-Fantasy</td>\n",
       "      <td>en</td>\n",
       "      <td>After his retirement is interrupted by Gorr th...</td>\n",
       "      <td>5207.555</td>\n",
       "      <td>2022.0</td>\n",
       "      <td>7.0</td>\n",
       "      <td>6.0</td>\n",
       "      <td>250000000.0</td>\n",
       "      <td>746900000.0</td>\n",
       "      <td>119.0</td>\n",
       "      <td>Released</td>\n",
       "      <td>The one is not the only.</td>\n",
       "      <td>6.766</td>\n",
       "      <td>2167.0</td>\n",
       "      <td>ex-girlfriend-hero-greek mythology-sequel-supe...</td>\n",
       "      <td>/pIkRyD18kl4FhoCNQuWxWu5cBLM.jpg</td>\n",
       "      <td>/vvObT0eIWGlArLQx3K5wZ0uT812.jpg</td>\n",
       "    </tr>\n",
       "  </tbody>\n",
       "</table>\n",
       "</div>"
      ],
      "text/plain": [
       "       id                            genres original_language  \\\n",
       "0  610150  Animation-Science Fiction-Action                ja   \n",
       "1  616037          Action-Adventure-Fantasy                en   \n",
       "\n",
       "                                            overview  popularity    year  \\\n",
       "0  The Red Ribbon Army an evil organization that ...    7294.015  2022.0   \n",
       "1  After his retirement is interrupted by Gorr th...    5207.555  2022.0   \n",
       "\n",
       "   month   day       budget      revenue  runtime    status  \\\n",
       "0    6.0  11.0          0.0   68759433.0     99.0  Released   \n",
       "1    7.0   6.0  250000000.0  746900000.0    119.0  Released   \n",
       "\n",
       "                                   tagline  vote_average  vote_count  \\\n",
       "0  A super awakening and calamity is born.         7.330       253.0   \n",
       "1                 The one is not the only.         6.766      2167.0   \n",
       "\n",
       "                                            keywords  \\\n",
       "0  android-sequel-attack-based on manga-fighting-...   \n",
       "1  ex-girlfriend-hero-greek mythology-sequel-supe...   \n",
       "\n",
       "                        poster_path                     backdrop_path  \n",
       "0  /rugyJdeoJm7cSJL1q4jBpTNbxyU.jpg  /ugS5FVfCI3RV0ZwZtBV3HAV75OX.jpg  \n",
       "1  /pIkRyD18kl4FhoCNQuWxWu5cBLM.jpg  /vvObT0eIWGlArLQx3K5wZ0uT812.jpg  "
      ]
     },
     "execution_count": 4,
     "metadata": {},
     "output_type": "execute_result"
    }
   ],
   "source": [
    "TMDb = pd.read_feather('../M1/DBM1')\n",
    "TMDb.head(2)"
   ]
  },
  {
   "cell_type": "markdown",
   "id": "30eded95",
   "metadata": {},
   "source": [
    "## Generación de variables"
   ]
  },
  {
   "cell_type": "code",
   "execution_count": 5,
   "id": "9495be38",
   "metadata": {},
   "outputs": [
    {
     "name": "stdout",
     "output_type": "stream",
     "text": [
      "(22880, 13)\n"
     ]
    }
   ],
   "source": [
    "movies = TMDb.copy()\n",
    "movies = movies.loc[movies['overview'].isna()==False].reset_index(drop=True)\n",
    "movies = movies.loc[movies['budget']>0].reset_index(drop=True)\n",
    "movies = movies.loc[movies['vote_average']>0].reset_index(drop=True)\n",
    "movies = movies.loc[movies['genres'].isna()==False].reset_index(drop=True)\n",
    "movies = movies.drop(columns= ['poster_path','backdrop_path','day','revenue','status'])\n",
    "print(movies.shape)\n"
   ]
  },
  {
   "cell_type": "code",
   "execution_count": 6,
   "id": "eac156b3",
   "metadata": {},
   "outputs": [
    {
     "data": {
      "text/html": [
       "<div>\n",
       "<style scoped>\n",
       "    .dataframe tbody tr th:only-of-type {\n",
       "        vertical-align: middle;\n",
       "    }\n",
       "\n",
       "    .dataframe tbody tr th {\n",
       "        vertical-align: top;\n",
       "    }\n",
       "\n",
       "    .dataframe thead th {\n",
       "        text-align: right;\n",
       "    }\n",
       "</style>\n",
       "<table border=\"1\" class=\"dataframe\">\n",
       "  <thead>\n",
       "    <tr style=\"text-align: right;\">\n",
       "      <th></th>\n",
       "      <th>id</th>\n",
       "      <th>genres</th>\n",
       "      <th>original_language</th>\n",
       "      <th>overview</th>\n",
       "      <th>popularity</th>\n",
       "      <th>year</th>\n",
       "      <th>month</th>\n",
       "      <th>budget</th>\n",
       "      <th>runtime</th>\n",
       "      <th>tagline</th>\n",
       "      <th>vote_average</th>\n",
       "      <th>vote_count</th>\n",
       "      <th>keywords</th>\n",
       "    </tr>\n",
       "  </thead>\n",
       "  <tbody>\n",
       "    <tr>\n",
       "      <th>0</th>\n",
       "      <td>0</td>\n",
       "      <td>0</td>\n",
       "      <td>0</td>\n",
       "      <td>0</td>\n",
       "      <td>0</td>\n",
       "      <td>204</td>\n",
       "      <td>204</td>\n",
       "      <td>0</td>\n",
       "      <td>48</td>\n",
       "      <td>8550</td>\n",
       "      <td>0</td>\n",
       "      <td>0</td>\n",
       "      <td>5480</td>\n",
       "    </tr>\n",
       "  </tbody>\n",
       "</table>\n",
       "</div>"
      ],
      "text/plain": [
       "   id  genres  original_language  overview  popularity  year  month  budget  \\\n",
       "0   0       0                  0         0           0   204    204       0   \n",
       "\n",
       "   runtime  tagline  vote_average  vote_count  keywords  \n",
       "0       48     8550             0           0      5480  "
      ]
     },
     "execution_count": 6,
     "metadata": {},
     "output_type": "execute_result"
    }
   ],
   "source": [
    "movies.isna().sum().to_frame().T"
   ]
  },
  {
   "cell_type": "code",
   "execution_count": 7,
   "id": "86955e91",
   "metadata": {},
   "outputs": [],
   "source": [
    "movies = movies.dropna(subset=['year','month','runtime']).reset_index(drop=True)"
   ]
  },
  {
   "cell_type": "markdown",
   "id": "4441f855",
   "metadata": {},
   "source": [
    "### Variable objetivo"
   ]
  },
  {
   "cell_type": "code",
   "execution_count": 8,
   "id": "be9ce5f0",
   "metadata": {},
   "outputs": [
    {
     "data": {
      "image/png": "[encoded data removed]",
      "text/plain": [
       "<Figure size 576x576 with 1 Axes>"
      ]
     },
     "metadata": {
      "needs_background": "light"
     },
     "output_type": "display_data"
    }
   ],
   "source": [
    "PlotUtils.hist(movies,'vote_average')"
   ]
  },
  {
   "cell_type": "code",
   "execution_count": 9,
   "id": "9483ca8a",
   "metadata": {},
   "outputs": [],
   "source": [
    "# movies['y']=pd.cut(movies['vote_average'],2)\n",
    "movies['y']=pd.cut(movies['vote_average'],[0,6.5,10],labels=['Malo','Buena'],include_lowest=True)"
   ]
  },
  {
   "cell_type": "code",
   "execution_count": 10,
   "id": "9b776ae6",
   "metadata": {},
   "outputs": [
    {
     "data": {
      "text/plain": [
       "Malo     13633\n",
       "Buena     9004\n",
       "Name: y, dtype: int64"
      ]
     },
     "execution_count": 10,
     "metadata": {},
     "output_type": "execute_result"
    }
   ],
   "source": [
    "movies['y'].value_counts()"
   ]
  },
  {
   "cell_type": "code",
   "execution_count": 11,
   "id": "71897a43",
   "metadata": {},
   "outputs": [],
   "source": [
    "le = SupervisedUtils.LabelEncoder()\n",
    "le.fit(movies['y'])\n",
    "y = le.transform(movies['y'])"
   ]
  },
  {
   "cell_type": "code",
   "execution_count": 12,
   "id": "5c3f20cd",
   "metadata": {},
   "outputs": [],
   "source": [
    "# cvdb = movies.copy()"
   ]
  },
  {
   "cell_type": "code",
   "execution_count": 13,
   "id": "240a271d",
   "metadata": {},
   "outputs": [],
   "source": [
    "# movies = movies.groupby('Rating').apply(lambda x: x.sample(min(x.shape[0],15000),random_state=12345)).reset_index(drop=True)\n",
    "# movies = movies.groupby('y').apply(lambda x: x.sample(frac=0.15,random_state=12345)).reset_index(drop=True)"
   ]
  },
  {
   "cell_type": "code",
   "execution_count": 14,
   "id": "8913125d",
   "metadata": {},
   "outputs": [],
   "source": [
    "# movies['Rating'].value_counts()"
   ]
  },
  {
   "cell_type": "code",
   "execution_count": 15,
   "id": "beb9f14a",
   "metadata": {},
   "outputs": [],
   "source": [
    "# cvdb = cvdb.loc[~cvdb['id'].isin(movies['id'])].reset_index(drop=True)"
   ]
  },
  {
   "cell_type": "markdown",
   "id": "3aaeb5e8",
   "metadata": {},
   "source": [
    "### Variables independientes"
   ]
  },
  {
   "cell_type": "code",
   "execution_count": 16,
   "id": "e35ea902",
   "metadata": {},
   "outputs": [
    {
     "data": {
      "text/plain": [
       "Index(['id', 'genres', 'original_language', 'overview', 'popularity', 'year',\n",
       "       'month', 'budget', 'runtime', 'tagline', 'vote_average', 'vote_count',\n",
       "       'keywords', 'y'],\n",
       "      dtype='object')"
      ]
     },
     "execution_count": 16,
     "metadata": {},
     "output_type": "execute_result"
    }
   ],
   "source": [
    "movies.columns"
   ]
  },
  {
   "cell_type": "code",
   "execution_count": 17,
   "id": "63121a15",
   "metadata": {},
   "outputs": [
    {
     "data": {
      "text/html": [
       "<div>\n",
       "<style scoped>\n",
       "    .dataframe tbody tr th:only-of-type {\n",
       "        vertical-align: middle;\n",
       "    }\n",
       "\n",
       "    .dataframe tbody tr th {\n",
       "        vertical-align: top;\n",
       "    }\n",
       "\n",
       "    .dataframe thead th {\n",
       "        text-align: right;\n",
       "    }\n",
       "</style>\n",
       "<table border=\"1\" class=\"dataframe\">\n",
       "  <thead>\n",
       "    <tr style=\"text-align: right;\">\n",
       "      <th></th>\n",
       "      <th>genres</th>\n",
       "      <th>original_language</th>\n",
       "      <th>overview</th>\n",
       "      <th>year</th>\n",
       "      <th>month</th>\n",
       "      <th>budget</th>\n",
       "      <th>runtime</th>\n",
       "      <th>tagline</th>\n",
       "      <th>keywords</th>\n",
       "    </tr>\n",
       "  </thead>\n",
       "  <tbody>\n",
       "    <tr>\n",
       "      <th>0</th>\n",
       "      <td>Action-Adventure-Fantasy</td>\n",
       "      <td>en</td>\n",
       "      <td>After his retirement is interrupted by Gorr th...</td>\n",
       "      <td>2022.0</td>\n",
       "      <td>7.0</td>\n",
       "      <td>250000000.0</td>\n",
       "      <td>119.0</td>\n",
       "      <td>The one is not the only.</td>\n",
       "      <td>ex-girlfriend-hero-greek mythology-sequel-supe...</td>\n",
       "    </tr>\n",
       "    <tr>\n",
       "      <th>1</th>\n",
       "      <td>Thriller-Action</td>\n",
       "      <td>en</td>\n",
       "      <td>When danger threatens her camp the fierce and ...</td>\n",
       "      <td>2022.0</td>\n",
       "      <td>8.0</td>\n",
       "      <td>65000000.0</td>\n",
       "      <td>100.0</td>\n",
       "      <td>They hunt to live. It lives to hunt.</td>\n",
       "      <td>hunter-alien life-form-prequel-alien-native am...</td>\n",
       "    </tr>\n",
       "  </tbody>\n",
       "</table>\n",
       "</div>"
      ],
      "text/plain": [
       "                     genres original_language  \\\n",
       "0  Action-Adventure-Fantasy                en   \n",
       "1           Thriller-Action                en   \n",
       "\n",
       "                                            overview    year  month  \\\n",
       "0  After his retirement is interrupted by Gorr th...  2022.0    7.0   \n",
       "1  When danger threatens her camp the fierce and ...  2022.0    8.0   \n",
       "\n",
       "        budget  runtime                               tagline  \\\n",
       "0  250000000.0    119.0              The one is not the only.   \n",
       "1   65000000.0    100.0  They hunt to live. It lives to hunt.   \n",
       "\n",
       "                                            keywords  \n",
       "0  ex-girlfriend-hero-greek mythology-sequel-supe...  \n",
       "1  hunter-alien life-form-prequel-alien-native am...  "
      ]
     },
     "execution_count": 17,
     "metadata": {},
     "output_type": "execute_result"
    }
   ],
   "source": [
    "features = ['genres','original_language','overview','year','month','budget','runtime','tagline','keywords']\n",
    "X = movies[features]\n",
    "X.head(2)"
   ]
  },
  {
   "cell_type": "code",
   "execution_count": 18,
   "id": "ec6e4fa4",
   "metadata": {},
   "outputs": [
    {
     "data": {
      "text/html": [
       "<div>\n",
       "<style scoped>\n",
       "    .dataframe tbody tr th:only-of-type {\n",
       "        vertical-align: middle;\n",
       "    }\n",
       "\n",
       "    .dataframe tbody tr th {\n",
       "        vertical-align: top;\n",
       "    }\n",
       "\n",
       "    .dataframe thead th {\n",
       "        text-align: right;\n",
       "    }\n",
       "</style>\n",
       "<table border=\"1\" class=\"dataframe\">\n",
       "  <thead>\n",
       "    <tr style=\"text-align: right;\">\n",
       "      <th></th>\n",
       "      <th>genres</th>\n",
       "      <th>original_language</th>\n",
       "      <th>overview</th>\n",
       "      <th>year</th>\n",
       "      <th>month</th>\n",
       "      <th>budget</th>\n",
       "      <th>runtime</th>\n",
       "      <th>tagline</th>\n",
       "      <th>keywords</th>\n",
       "    </tr>\n",
       "  </thead>\n",
       "  <tbody>\n",
       "    <tr>\n",
       "      <th>0</th>\n",
       "      <td>0</td>\n",
       "      <td>0</td>\n",
       "      <td>0</td>\n",
       "      <td>0</td>\n",
       "      <td>0</td>\n",
       "      <td>0</td>\n",
       "      <td>0</td>\n",
       "      <td>8441</td>\n",
       "      <td>5347</td>\n",
       "    </tr>\n",
       "  </tbody>\n",
       "</table>\n",
       "</div>"
      ],
      "text/plain": [
       "   genres  original_language  overview  year  month  budget  runtime  tagline  \\\n",
       "0       0                  0         0     0      0       0        0     8441   \n",
       "\n",
       "   keywords  \n",
       "0      5347  "
      ]
     },
     "execution_count": 18,
     "metadata": {},
     "output_type": "execute_result"
    }
   ],
   "source": [
    "X.isna().sum().to_frame().T"
   ]
  },
  {
   "cell_type": "markdown",
   "id": "e6c59b2d",
   "metadata": {},
   "source": [
    "### Particion de los datos"
   ]
  },
  {
   "cell_type": "code",
   "execution_count": 60,
   "id": "bfd91f26",
   "metadata": {},
   "outputs": [],
   "source": [
    "X_train, X_test, y_train, y_test = SupervisedUtils.train_test_split(X, y, test_size=0.3, random_state=12345)"
   ]
  },
  {
   "cell_type": "code",
   "execution_count": 61,
   "id": "7e27d236",
   "metadata": {},
   "outputs": [
    {
     "data": {
      "text/html": [
       "<div>\n",
       "<style scoped>\n",
       "    .dataframe tbody tr th:only-of-type {\n",
       "        vertical-align: middle;\n",
       "    }\n",
       "\n",
       "    .dataframe tbody tr th {\n",
       "        vertical-align: top;\n",
       "    }\n",
       "\n",
       "    .dataframe thead th {\n",
       "        text-align: right;\n",
       "    }\n",
       "</style>\n",
       "<table border=\"1\" class=\"dataframe\">\n",
       "  <thead>\n",
       "    <tr style=\"text-align: right;\">\n",
       "      <th></th>\n",
       "      <th>genres</th>\n",
       "      <th>original_language</th>\n",
       "      <th>overview</th>\n",
       "      <th>year</th>\n",
       "      <th>month</th>\n",
       "      <th>budget</th>\n",
       "      <th>runtime</th>\n",
       "      <th>tagline</th>\n",
       "      <th>keywords</th>\n",
       "    </tr>\n",
       "  </thead>\n",
       "  <tbody>\n",
       "    <tr>\n",
       "      <th>19080</th>\n",
       "      <td>Comedy-Horror</td>\n",
       "      <td>kn</td>\n",
       "      <td>Raghava is a fun-loving youngster who enjoys p...</td>\n",
       "      <td>2012.0</td>\n",
       "      <td>9.0</td>\n",
       "      <td>550000.0</td>\n",
       "      <td>165.0</td>\n",
       "      <td>None</td>\n",
       "      <td>None</td>\n",
       "    </tr>\n",
       "    <tr>\n",
       "      <th>11196</th>\n",
       "      <td>Horror-Science Fiction-Thriller</td>\n",
       "      <td>en</td>\n",
       "      <td>Dr. Samantha Goodman is a beautiful young psyc...</td>\n",
       "      <td>2005.0</td>\n",
       "      <td>3.0</td>\n",
       "      <td>500000.0</td>\n",
       "      <td>80.0</td>\n",
       "      <td>None</td>\n",
       "      <td>canada-winter-hostage-olympic games-cabin-psyc...</td>\n",
       "    </tr>\n",
       "    <tr>\n",
       "      <th>15488</th>\n",
       "      <td>Documentary</td>\n",
       "      <td>en</td>\n",
       "      <td>One Nation Under Trump is the first comprehens...</td>\n",
       "      <td>2016.0</td>\n",
       "      <td>8.0</td>\n",
       "      <td>25000.0</td>\n",
       "      <td>62.0</td>\n",
       "      <td>None</td>\n",
       "      <td>politics</td>\n",
       "    </tr>\n",
       "    <tr>\n",
       "      <th>1477</th>\n",
       "      <td>Action-Adventure-Family-Fantasy-Science Fictio...</td>\n",
       "      <td>en</td>\n",
       "      <td>The legendary Power Rangers must stop the evil...</td>\n",
       "      <td>1997.0</td>\n",
       "      <td>3.0</td>\n",
       "      <td>10000000.0</td>\n",
       "      <td>99.0</td>\n",
       "      <td>The Power Is Back!</td>\n",
       "      <td>california-narration-volcano-child hero-sequel...</td>\n",
       "    </tr>\n",
       "    <tr>\n",
       "      <th>12316</th>\n",
       "      <td>Horror</td>\n",
       "      <td>en</td>\n",
       "      <td>John Brock is a down-on-his-luck archaeologist...</td>\n",
       "      <td>2019.0</td>\n",
       "      <td>10.0</td>\n",
       "      <td>1500000.0</td>\n",
       "      <td>98.0</td>\n",
       "      <td>Welcome to Hell</td>\n",
       "      <td>None</td>\n",
       "    </tr>\n",
       "    <tr>\n",
       "      <th>...</th>\n",
       "      <td>...</td>\n",
       "      <td>...</td>\n",
       "      <td>...</td>\n",
       "      <td>...</td>\n",
       "      <td>...</td>\n",
       "      <td>...</td>\n",
       "      <td>...</td>\n",
       "      <td>...</td>\n",
       "      <td>...</td>\n",
       "    </tr>\n",
       "    <tr>\n",
       "      <th>11689</th>\n",
       "      <td>Drama-Action-Comedy</td>\n",
       "      <td>en</td>\n",
       "      <td>After serving jail time for a mysterious crime...</td>\n",
       "      <td>2009.0</td>\n",
       "      <td>9.0</td>\n",
       "      <td>31192.0</td>\n",
       "      <td>89.0</td>\n",
       "      <td>You're only as good as the people you know.</td>\n",
       "      <td>murder-dark comedy-crime family</td>\n",
       "    </tr>\n",
       "    <tr>\n",
       "      <th>19876</th>\n",
       "      <td>Horror-Science Fiction</td>\n",
       "      <td>en</td>\n",
       "      <td>An international research group is searching n...</td>\n",
       "      <td>2017.0</td>\n",
       "      <td>4.0</td>\n",
       "      <td>179000.0</td>\n",
       "      <td>29.0</td>\n",
       "      <td>Some places are best left alone.</td>\n",
       "      <td>oceanic expedition-cthulhu-short film-lovecraf...</td>\n",
       "    </tr>\n",
       "    <tr>\n",
       "      <th>2177</th>\n",
       "      <td>Comedy-Romance</td>\n",
       "      <td>en</td>\n",
       "      <td>Five years after meeting her three fathers Sop...</td>\n",
       "      <td>2018.0</td>\n",
       "      <td>7.0</td>\n",
       "      <td>75000000.0</td>\n",
       "      <td>113.0</td>\n",
       "      <td>Discover how it all began.</td>\n",
       "      <td>greece-musical-sequel-greek island-aftercredit...</td>\n",
       "    </tr>\n",
       "    <tr>\n",
       "      <th>11749</th>\n",
       "      <td>Drama-Western</td>\n",
       "      <td>en</td>\n",
       "      <td>\"The Work and The Glory: American Zion\" sets t...</td>\n",
       "      <td>2005.0</td>\n",
       "      <td>10.0</td>\n",
       "      <td>6500000.0</td>\n",
       "      <td>100.0</td>\n",
       "      <td>Every Dream Has a Price</td>\n",
       "      <td>based on novel or book-husband wife relationsh...</td>\n",
       "    </tr>\n",
       "    <tr>\n",
       "      <th>20962</th>\n",
       "      <td>Drama</td>\n",
       "      <td>en</td>\n",
       "      <td>Fourteen year old Hannah awakes to a momentous...</td>\n",
       "      <td>2006.0</td>\n",
       "      <td>1.0</td>\n",
       "      <td>5000.0</td>\n",
       "      <td>7.0</td>\n",
       "      <td>None</td>\n",
       "      <td>teenage girl-woman director-short film</td>\n",
       "    </tr>\n",
       "  </tbody>\n",
       "</table>\n",
       "<p>15845 rows × 9 columns</p>\n",
       "</div>"
      ],
      "text/plain": [
       "                                                  genres original_language  \\\n",
       "19080                                      Comedy-Horror                kn   \n",
       "11196                    Horror-Science Fiction-Thriller                en   \n",
       "15488                                        Documentary                en   \n",
       "1477   Action-Adventure-Family-Fantasy-Science Fictio...                en   \n",
       "12316                                             Horror                en   \n",
       "...                                                  ...               ...   \n",
       "11689                                Drama-Action-Comedy                en   \n",
       "19876                             Horror-Science Fiction                en   \n",
       "2177                                      Comedy-Romance                en   \n",
       "11749                                      Drama-Western                en   \n",
       "20962                                              Drama                en   \n",
       "\n",
       "                                                overview    year  month  \\\n",
       "19080  Raghava is a fun-loving youngster who enjoys p...  2012.0    9.0   \n",
       "11196  Dr. Samantha Goodman is a beautiful young psyc...  2005.0    3.0   \n",
       "15488  One Nation Under Trump is the first comprehens...  2016.0    8.0   \n",
       "1477   The legendary Power Rangers must stop the evil...  1997.0    3.0   \n",
       "12316  John Brock is a down-on-his-luck archaeologist...  2019.0   10.0   \n",
       "...                                                  ...     ...    ...   \n",
       "11689  After serving jail time for a mysterious crime...  2009.0    9.0   \n",
       "19876  An international research group is searching n...  2017.0    4.0   \n",
       "2177   Five years after meeting her three fathers Sop...  2018.0    7.0   \n",
       "11749  \"The Work and The Glory: American Zion\" sets t...  2005.0   10.0   \n",
       "20962  Fourteen year old Hannah awakes to a momentous...  2006.0    1.0   \n",
       "\n",
       "           budget  runtime                                      tagline  \\\n",
       "19080    550000.0    165.0                                         None   \n",
       "11196    500000.0     80.0                                         None   \n",
       "15488     25000.0     62.0                                         None   \n",
       "1477   10000000.0     99.0                           The Power Is Back!   \n",
       "12316   1500000.0     98.0                              Welcome to Hell   \n",
       "...           ...      ...                                          ...   \n",
       "11689     31192.0     89.0  You're only as good as the people you know.   \n",
       "19876    179000.0     29.0             Some places are best left alone.   \n",
       "2177   75000000.0    113.0                   Discover how it all began.   \n",
       "11749   6500000.0    100.0                      Every Dream Has a Price   \n",
       "20962      5000.0      7.0                                         None   \n",
       "\n",
       "                                                keywords  \n",
       "19080                                               None  \n",
       "11196  canada-winter-hostage-olympic games-cabin-psyc...  \n",
       "15488                                           politics  \n",
       "1477   california-narration-volcano-child hero-sequel...  \n",
       "12316                                               None  \n",
       "...                                                  ...  \n",
       "11689                    murder-dark comedy-crime family  \n",
       "19876  oceanic expedition-cthulhu-short film-lovecraf...  \n",
       "2177   greece-musical-sequel-greek island-aftercredit...  \n",
       "11749  based on novel or book-husband wife relationsh...  \n",
       "20962             teenage girl-woman director-short film  \n",
       "\n",
       "[15845 rows x 9 columns]"
      ]
     },
     "execution_count": 61,
     "metadata": {},
     "output_type": "execute_result"
    }
   ],
   "source": [
    "X_train"
   ]
  },
  {
   "cell_type": "markdown",
   "id": "7a0f49d0",
   "metadata": {},
   "source": [
    "## Procesamiento de variables independientes"
   ]
  },
  {
   "cell_type": "markdown",
   "id": "a5dbc828",
   "metadata": {},
   "source": [
    "### Variables categoricas"
   ]
  },
  {
   "cell_type": "code",
   "execution_count": 62,
   "id": "224049e8",
   "metadata": {},
   "outputs": [
    {
     "data": {
      "text/html": [
       "<div>\n",
       "<style scoped>\n",
       "    .dataframe tbody tr th:only-of-type {\n",
       "        vertical-align: middle;\n",
       "    }\n",
       "\n",
       "    .dataframe tbody tr th {\n",
       "        vertical-align: top;\n",
       "    }\n",
       "\n",
       "    .dataframe thead th {\n",
       "        text-align: right;\n",
       "    }\n",
       "</style>\n",
       "<table border=\"1\" class=\"dataframe\">\n",
       "  <thead>\n",
       "    <tr style=\"text-align: right;\">\n",
       "      <th></th>\n",
       "      <th>original_language</th>\n",
       "      <th>overview</th>\n",
       "      <th>year</th>\n",
       "      <th>month</th>\n",
       "      <th>budget</th>\n",
       "      <th>runtime</th>\n",
       "      <th>tagline</th>\n",
       "      <th>keywords</th>\n",
       "      <th>genre_Action</th>\n",
       "      <th>genre_Comedy</th>\n",
       "      <th>genre_Drama</th>\n",
       "      <th>genre_Horror</th>\n",
       "      <th>genre_OTROS</th>\n",
       "      <th>genre_Romance</th>\n",
       "      <th>genre_Thriller</th>\n",
       "    </tr>\n",
       "  </thead>\n",
       "  <tbody>\n",
       "    <tr>\n",
       "      <th>19080</th>\n",
       "      <td>kn</td>\n",
       "      <td>Raghava is a fun-loving youngster who enjoys p...</td>\n",
       "      <td>2012.0</td>\n",
       "      <td>9.0</td>\n",
       "      <td>550000.0</td>\n",
       "      <td>165.0</td>\n",
       "      <td>None</td>\n",
       "      <td>None</td>\n",
       "      <td>0</td>\n",
       "      <td>1</td>\n",
       "      <td>0</td>\n",
       "      <td>1</td>\n",
       "      <td>0</td>\n",
       "      <td>0</td>\n",
       "      <td>0</td>\n",
       "    </tr>\n",
       "    <tr>\n",
       "      <th>11196</th>\n",
       "      <td>en</td>\n",
       "      <td>Dr. Samantha Goodman is a beautiful young psyc...</td>\n",
       "      <td>2005.0</td>\n",
       "      <td>3.0</td>\n",
       "      <td>500000.0</td>\n",
       "      <td>80.0</td>\n",
       "      <td>None</td>\n",
       "      <td>canada-winter-hostage-olympic games-cabin-psyc...</td>\n",
       "      <td>0</td>\n",
       "      <td>0</td>\n",
       "      <td>0</td>\n",
       "      <td>1</td>\n",
       "      <td>1</td>\n",
       "      <td>0</td>\n",
       "      <td>1</td>\n",
       "    </tr>\n",
       "  </tbody>\n",
       "</table>\n",
       "</div>"
      ],
      "text/plain": [
       "      original_language                                           overview  \\\n",
       "19080                kn  Raghava is a fun-loving youngster who enjoys p...   \n",
       "11196                en  Dr. Samantha Goodman is a beautiful young psyc...   \n",
       "\n",
       "         year  month    budget  runtime tagline  \\\n",
       "19080  2012.0    9.0  550000.0    165.0    None   \n",
       "11196  2005.0    3.0  500000.0     80.0    None   \n",
       "\n",
       "                                                keywords  genre_Action  \\\n",
       "19080                                               None             0   \n",
       "11196  canada-winter-hostage-olympic games-cabin-psyc...             0   \n",
       "\n",
       "       genre_Comedy  genre_Drama  genre_Horror  genre_OTROS  genre_Romance  \\\n",
       "19080             1            0             1            0              0   \n",
       "11196             0            0             1            1              0   \n",
       "\n",
       "       genre_Thriller  \n",
       "19080               0  \n",
       "11196               1  "
      ]
     },
     "execution_count": 62,
     "metadata": {},
     "output_type": "execute_result"
    }
   ],
   "source": [
    "counts = X_train['genres'].str.split('-').explode().value_counts(True)\n",
    "mask = counts>0.05\n",
    "genres_mask = counts[mask].index\n",
    "genresaux = X_train['genres'].str.split('-').explode().reset_index()\n",
    "genresaux.loc[~genresaux['genres'].isin(genres_mask),'genres'] = 'OTROS'\n",
    "genresaux = genresaux.reset_index().pivot_table(index='index',columns='genres',values='level_0',aggfunc='count',fill_value=0)\n",
    "genresaux.columns = ['genre_' + col for col in genresaux.columns]\n",
    "# X_train = pd.concat([X_train,genresaux],axis=1).drop(columns = ['genres'])\n",
    "X_train = X_train.merge(genresaux,left_index=True,right_index=True).drop(columns = ['genres'])\n",
    "X_train.head(2)"
   ]
  },
  {
   "cell_type": "code",
   "execution_count": 63,
   "id": "f2dc935a",
   "metadata": {},
   "outputs": [
    {
     "data": {
      "text/html": [
       "<div>\n",
       "<style scoped>\n",
       "    .dataframe tbody tr th:only-of-type {\n",
       "        vertical-align: middle;\n",
       "    }\n",
       "\n",
       "    .dataframe tbody tr th {\n",
       "        vertical-align: top;\n",
       "    }\n",
       "\n",
       "    .dataframe thead th {\n",
       "        text-align: right;\n",
       "    }\n",
       "</style>\n",
       "<table border=\"1\" class=\"dataframe\">\n",
       "  <thead>\n",
       "    <tr style=\"text-align: right;\">\n",
       "      <th></th>\n",
       "      <th>original_language</th>\n",
       "      <th>overview</th>\n",
       "      <th>year</th>\n",
       "      <th>month</th>\n",
       "      <th>budget</th>\n",
       "      <th>runtime</th>\n",
       "      <th>tagline</th>\n",
       "      <th>keywords</th>\n",
       "      <th>genre_Action</th>\n",
       "      <th>genre_Comedy</th>\n",
       "      <th>genre_Drama</th>\n",
       "      <th>genre_Horror</th>\n",
       "      <th>genre_OTROS</th>\n",
       "      <th>genre_Romance</th>\n",
       "      <th>genre_Thriller</th>\n",
       "    </tr>\n",
       "  </thead>\n",
       "  <tbody>\n",
       "    <tr>\n",
       "      <th>11460</th>\n",
       "      <td>en</td>\n",
       "      <td>In the countryside the boy Alan and his friend...</td>\n",
       "      <td>2008.0</td>\n",
       "      <td>7.0</td>\n",
       "      <td>1500000.0</td>\n",
       "      <td>0.0</td>\n",
       "      <td>None</td>\n",
       "      <td>snake-voodoo-giant snake-giant animal</td>\n",
       "      <td>0</td>\n",
       "      <td>0</td>\n",
       "      <td>0</td>\n",
       "      <td>1</td>\n",
       "      <td>2</td>\n",
       "      <td>0</td>\n",
       "      <td>0</td>\n",
       "    </tr>\n",
       "    <tr>\n",
       "      <th>18446</th>\n",
       "      <td>en</td>\n",
       "      <td>A pansexual polyamorous trio kidnap a 'pray-th...</td>\n",
       "      <td>2019.0</td>\n",
       "      <td>5.0</td>\n",
       "      <td>27000.0</td>\n",
       "      <td>19.0</td>\n",
       "      <td>None</td>\n",
       "      <td>None</td>\n",
       "      <td>0</td>\n",
       "      <td>1</td>\n",
       "      <td>0</td>\n",
       "      <td>1</td>\n",
       "      <td>0</td>\n",
       "      <td>0</td>\n",
       "      <td>1</td>\n",
       "    </tr>\n",
       "  </tbody>\n",
       "</table>\n",
       "</div>"
      ],
      "text/plain": [
       "      original_language                                           overview  \\\n",
       "11460                en  In the countryside the boy Alan and his friend...   \n",
       "18446                en  A pansexual polyamorous trio kidnap a 'pray-th...   \n",
       "\n",
       "         year  month     budget  runtime tagline  \\\n",
       "11460  2008.0    7.0  1500000.0      0.0    None   \n",
       "18446  2019.0    5.0    27000.0     19.0    None   \n",
       "\n",
       "                                    keywords  genre_Action  genre_Comedy  \\\n",
       "11460  snake-voodoo-giant snake-giant animal             0             0   \n",
       "18446                                   None             0             1   \n",
       "\n",
       "       genre_Drama  genre_Horror  genre_OTROS  genre_Romance  genre_Thriller  \n",
       "11460            0             1            2              0               0  \n",
       "18446            0             1            0              0               1  "
      ]
     },
     "execution_count": 63,
     "metadata": {},
     "output_type": "execute_result"
    }
   ],
   "source": [
    "genresaux = X_test['genres'].str.split('-').explode().reset_index()\n",
    "genresaux.loc[~genresaux['genres'].isin(genres_mask),'genres'] = 'OTROS'\n",
    "genresaux = genresaux.reset_index().pivot_table(index='index',columns='genres',values='level_0',aggfunc='count',fill_value=0)\n",
    "genresaux.columns = ['genre_' + col for col in genresaux.columns]\n",
    "\n",
    "# X_test = pd.concat([X_test,genresaux],axis=1).drop(columns = ['genres'])\n",
    "X_test = X_test.merge(genresaux,left_index=True,right_index=True).drop(columns = ['genres'])\n",
    "X_test.head(2)"
   ]
  },
  {
   "cell_type": "code",
   "execution_count": 64,
   "id": "b4524014",
   "metadata": {},
   "outputs": [
    {
     "data": {
      "text/html": [
       "<div>\n",
       "<style scoped>\n",
       "    .dataframe tbody tr th:only-of-type {\n",
       "        vertical-align: middle;\n",
       "    }\n",
       "\n",
       "    .dataframe tbody tr th {\n",
       "        vertical-align: top;\n",
       "    }\n",
       "\n",
       "    .dataframe thead th {\n",
       "        text-align: right;\n",
       "    }\n",
       "</style>\n",
       "<table border=\"1\" class=\"dataframe\">\n",
       "  <thead>\n",
       "    <tr style=\"text-align: right;\">\n",
       "      <th></th>\n",
       "      <th>overview</th>\n",
       "      <th>year</th>\n",
       "      <th>month</th>\n",
       "      <th>budget</th>\n",
       "      <th>runtime</th>\n",
       "      <th>tagline</th>\n",
       "      <th>keywords</th>\n",
       "      <th>genre_Action</th>\n",
       "      <th>genre_Comedy</th>\n",
       "      <th>genre_Drama</th>\n",
       "      <th>genre_Horror</th>\n",
       "      <th>genre_OTROS</th>\n",
       "      <th>genre_Romance</th>\n",
       "      <th>genre_Thriller</th>\n",
       "      <th>original_language_OTROS</th>\n",
       "      <th>original_language_en</th>\n",
       "    </tr>\n",
       "  </thead>\n",
       "  <tbody>\n",
       "    <tr>\n",
       "      <th>19080</th>\n",
       "      <td>Raghava is a fun-loving youngster who enjoys p...</td>\n",
       "      <td>2012.0</td>\n",
       "      <td>9.0</td>\n",
       "      <td>550000.0</td>\n",
       "      <td>165.0</td>\n",
       "      <td>None</td>\n",
       "      <td>None</td>\n",
       "      <td>0</td>\n",
       "      <td>1</td>\n",
       "      <td>0</td>\n",
       "      <td>1</td>\n",
       "      <td>0</td>\n",
       "      <td>0</td>\n",
       "      <td>0</td>\n",
       "      <td>1</td>\n",
       "      <td>0</td>\n",
       "    </tr>\n",
       "    <tr>\n",
       "      <th>11196</th>\n",
       "      <td>Dr. Samantha Goodman is a beautiful young psyc...</td>\n",
       "      <td>2005.0</td>\n",
       "      <td>3.0</td>\n",
       "      <td>500000.0</td>\n",
       "      <td>80.0</td>\n",
       "      <td>None</td>\n",
       "      <td>canada-winter-hostage-olympic games-cabin-psyc...</td>\n",
       "      <td>0</td>\n",
       "      <td>0</td>\n",
       "      <td>0</td>\n",
       "      <td>1</td>\n",
       "      <td>1</td>\n",
       "      <td>0</td>\n",
       "      <td>1</td>\n",
       "      <td>0</td>\n",
       "      <td>1</td>\n",
       "    </tr>\n",
       "  </tbody>\n",
       "</table>\n",
       "</div>"
      ],
      "text/plain": [
       "                                                overview    year  month  \\\n",
       "19080  Raghava is a fun-loving youngster who enjoys p...  2012.0    9.0   \n",
       "11196  Dr. Samantha Goodman is a beautiful young psyc...  2005.0    3.0   \n",
       "\n",
       "         budget  runtime tagline  \\\n",
       "19080  550000.0    165.0    None   \n",
       "11196  500000.0     80.0    None   \n",
       "\n",
       "                                                keywords  genre_Action  \\\n",
       "19080                                               None             0   \n",
       "11196  canada-winter-hostage-olympic games-cabin-psyc...             0   \n",
       "\n",
       "       genre_Comedy  genre_Drama  genre_Horror  genre_OTROS  genre_Romance  \\\n",
       "19080             1            0             1            0              0   \n",
       "11196             0            0             1            1              0   \n",
       "\n",
       "       genre_Thriller  original_language_OTROS  original_language_en  \n",
       "19080               0                        1                     0  \n",
       "11196               1                        0                     1  "
      ]
     },
     "execution_count": 64,
     "metadata": {},
     "output_type": "execute_result"
    }
   ],
   "source": [
    "counts = X_train['original_language'].value_counts(True)\n",
    "mask = counts>0.10\n",
    "language_mask = counts[mask].index\n",
    "X_train.loc[~X_train['original_language'].isin(language_mask),'original_language'] = 'OTROS'\n",
    "X_train = pd.get_dummies(X_train,columns = ['original_language'])\n",
    "X_train.head(2)"
   ]
  },
  {
   "cell_type": "code",
   "execution_count": 65,
   "id": "873c4221",
   "metadata": {},
   "outputs": [
    {
     "data": {
      "text/html": [
       "<div>\n",
       "<style scoped>\n",
       "    .dataframe tbody tr th:only-of-type {\n",
       "        vertical-align: middle;\n",
       "    }\n",
       "\n",
       "    .dataframe tbody tr th {\n",
       "        vertical-align: top;\n",
       "    }\n",
       "\n",
       "    .dataframe thead th {\n",
       "        text-align: right;\n",
       "    }\n",
       "</style>\n",
       "<table border=\"1\" class=\"dataframe\">\n",
       "  <thead>\n",
       "    <tr style=\"text-align: right;\">\n",
       "      <th></th>\n",
       "      <th>overview</th>\n",
       "      <th>year</th>\n",
       "      <th>month</th>\n",
       "      <th>budget</th>\n",
       "      <th>runtime</th>\n",
       "      <th>tagline</th>\n",
       "      <th>keywords</th>\n",
       "      <th>genre_Action</th>\n",
       "      <th>genre_Comedy</th>\n",
       "      <th>genre_Drama</th>\n",
       "      <th>genre_Horror</th>\n",
       "      <th>genre_OTROS</th>\n",
       "      <th>genre_Romance</th>\n",
       "      <th>genre_Thriller</th>\n",
       "      <th>original_language_OTROS</th>\n",
       "      <th>original_language_en</th>\n",
       "    </tr>\n",
       "  </thead>\n",
       "  <tbody>\n",
       "    <tr>\n",
       "      <th>11460</th>\n",
       "      <td>In the countryside the boy Alan and his friend...</td>\n",
       "      <td>2008.0</td>\n",
       "      <td>7.0</td>\n",
       "      <td>1500000.0</td>\n",
       "      <td>0.0</td>\n",
       "      <td>None</td>\n",
       "      <td>snake-voodoo-giant snake-giant animal</td>\n",
       "      <td>0</td>\n",
       "      <td>0</td>\n",
       "      <td>0</td>\n",
       "      <td>1</td>\n",
       "      <td>2</td>\n",
       "      <td>0</td>\n",
       "      <td>0</td>\n",
       "      <td>0</td>\n",
       "      <td>1</td>\n",
       "    </tr>\n",
       "    <tr>\n",
       "      <th>18446</th>\n",
       "      <td>A pansexual polyamorous trio kidnap a 'pray-th...</td>\n",
       "      <td>2019.0</td>\n",
       "      <td>5.0</td>\n",
       "      <td>27000.0</td>\n",
       "      <td>19.0</td>\n",
       "      <td>None</td>\n",
       "      <td>None</td>\n",
       "      <td>0</td>\n",
       "      <td>1</td>\n",
       "      <td>0</td>\n",
       "      <td>1</td>\n",
       "      <td>0</td>\n",
       "      <td>0</td>\n",
       "      <td>1</td>\n",
       "      <td>0</td>\n",
       "      <td>1</td>\n",
       "    </tr>\n",
       "  </tbody>\n",
       "</table>\n",
       "</div>"
      ],
      "text/plain": [
       "                                                overview    year  month  \\\n",
       "11460  In the countryside the boy Alan and his friend...  2008.0    7.0   \n",
       "18446  A pansexual polyamorous trio kidnap a 'pray-th...  2019.0    5.0   \n",
       "\n",
       "          budget  runtime tagline                               keywords  \\\n",
       "11460  1500000.0      0.0    None  snake-voodoo-giant snake-giant animal   \n",
       "18446    27000.0     19.0    None                                   None   \n",
       "\n",
       "       genre_Action  genre_Comedy  genre_Drama  genre_Horror  genre_OTROS  \\\n",
       "11460             0             0            0             1            2   \n",
       "18446             0             1            0             1            0   \n",
       "\n",
       "       genre_Romance  genre_Thriller  original_language_OTROS  \\\n",
       "11460              0               0                        0   \n",
       "18446              0               1                        0   \n",
       "\n",
       "       original_language_en  \n",
       "11460                     1  \n",
       "18446                     1  "
      ]
     },
     "execution_count": 65,
     "metadata": {},
     "output_type": "execute_result"
    }
   ],
   "source": [
    "X_test.loc[~X_test['original_language'].isin(language_mask),'original_language'] = 'OTROS'\n",
    "X_test = pd.get_dummies(X_test,columns = ['original_language'])\n",
    "X_test.head(2)"
   ]
  },
  {
   "cell_type": "markdown",
   "id": "54274de6",
   "metadata": {},
   "source": [
    "### Variables de tipo caracter"
   ]
  },
  {
   "cell_type": "code",
   "execution_count": 66,
   "id": "f52c858b",
   "metadata": {},
   "outputs": [],
   "source": [
    "engstopwords = StringUtils.stopwords.words('english')\n",
    "customsw  = ['one','film','movie','man','two','story']\n",
    "engstopwords = engstopwords + customsw\n"
   ]
  },
  {
   "cell_type": "code",
   "execution_count": 67,
   "id": "26f08596",
   "metadata": {},
   "outputs": [],
   "source": [
    "X_train['overview_clean']=StringUtils.clean_re(X_train['overview'])\n",
    "X_train['overview_clean']=StringUtils.remove_stopwords(X_train['overview_clean'],engstopwords)\n",
    "X_train['overview_clean']=StringUtils.remove_accents(X_train['overview_clean'])\n",
    "\n",
    "X_test['overview_clean']=StringUtils.clean_re(X_test['overview'])\n",
    "X_test['overview_clean']=StringUtils.remove_stopwords(X_test['overview_clean'],engstopwords)\n",
    "X_test['overview_clean']=StringUtils.remove_accents(X_test['overview_clean'])"
   ]
  },
  {
   "cell_type": "code",
   "execution_count": 68,
   "id": "9ca4b8ec",
   "metadata": {},
   "outputs": [],
   "source": [
    "overview_vc = StringUtils.TfidfVectorizer(max_features=100)\n",
    "overview_vc.fit(X_train['overview_clean'])\n",
    "\n",
    "X_overview_train = overview_vc.transform(X_train['overview_clean']).toarray()\n",
    "X_overview_train = pd.DataFrame(X_overview_train).set_index(X_train.index)\n",
    "X_overview_train.columns  = ['overview_' + str(j) for j in range(X_overview_train.shape[1])]\n",
    "X_overview_test  = overview_vc.transform(X_test['overview_clean']).toarray()\n",
    "X_overview_test = pd.DataFrame(X_overview_test).set_index(X_test.index)\n",
    "X_overview_test.columns  = ['overview_' + str(j) for j in range(X_overview_test.shape[1])]"
   ]
  },
  {
   "cell_type": "code",
   "execution_count": 69,
   "id": "c92c6442",
   "metadata": {},
   "outputs": [
    {
     "name": "stderr",
     "output_type": "stream",
     "text": [
      "c:\\Python\\WPy64-3870\\python-3.8.7.amd64\\lib\\site-packages\\sklearn\\feature_extraction\\text.py:524: UserWarning:\n",
      "\n",
      "The parameter 'token_pattern' will not be used since 'tokenizer' is not None'\n",
      "\n"
     ]
    }
   ],
   "source": [
    "keywords_vc = StringUtils.CountVectorizer(tokenizer= lambda x: x.split('-'),max_features=100)\n",
    "keywords_vc.fit(X_train['keywords'].astype(str))\n",
    "\n",
    "X_keywords_train = keywords_vc.transform(X_train['keywords'].astype(str)).toarray()\n",
    "X_keywords_train = pd.DataFrame(X_keywords_train).set_index(X_train.index)\n",
    "X_keywords_train.columns  = ['keywords_' + str(j) for j in range(X_keywords_train.shape[1])]\n",
    "X_keywords_test  = keywords_vc.transform(X_test['keywords'].astype(str)).toarray()\n",
    "X_keywords_test = pd.DataFrame(X_keywords_test).set_index(X_test.index)\n",
    "X_keywords_test.columns  = ['keywords_' + str(j) for j in range(X_keywords_test.shape[1])]"
   ]
  },
  {
   "cell_type": "code",
   "execution_count": 70,
   "id": "97dcbf1e",
   "metadata": {},
   "outputs": [],
   "source": [
    "X_string_train = pd.concat([X_overview_train,X_keywords_train],axis=1)\n",
    "X_string_test = pd.concat([X_overview_test,X_keywords_test],axis=1)"
   ]
  },
  {
   "cell_type": "code",
   "execution_count": 71,
   "id": "97282a4b",
   "metadata": {},
   "outputs": [],
   "source": [
    "stringvars = ['overview','keywords','tagline','overview_clean']"
   ]
  },
  {
   "cell_type": "code",
   "execution_count": 72,
   "id": "09379ce9",
   "metadata": {},
   "outputs": [],
   "source": [
    "X_train = pd.concat([X_train.drop(columns=stringvars),X_string_train],axis=1)\n",
    "X_test = pd.concat([X_test.drop(columns=stringvars),X_string_test],axis=1)"
   ]
  },
  {
   "cell_type": "code",
   "execution_count": 73,
   "id": "8f86c821",
   "metadata": {},
   "outputs": [
    {
     "data": {
      "text/html": [
       "<div>\n",
       "<style scoped>\n",
       "    .dataframe tbody tr th:only-of-type {\n",
       "        vertical-align: middle;\n",
       "    }\n",
       "\n",
       "    .dataframe tbody tr th {\n",
       "        vertical-align: top;\n",
       "    }\n",
       "\n",
       "    .dataframe thead th {\n",
       "        text-align: right;\n",
       "    }\n",
       "</style>\n",
       "<table border=\"1\" class=\"dataframe\">\n",
       "  <thead>\n",
       "    <tr style=\"text-align: right;\">\n",
       "      <th></th>\n",
       "      <th>year</th>\n",
       "      <th>month</th>\n",
       "      <th>budget</th>\n",
       "      <th>runtime</th>\n",
       "      <th>genre_Action</th>\n",
       "      <th>genre_Comedy</th>\n",
       "      <th>genre_Drama</th>\n",
       "      <th>genre_Horror</th>\n",
       "      <th>genre_OTROS</th>\n",
       "      <th>genre_Romance</th>\n",
       "      <th>genre_Thriller</th>\n",
       "      <th>original_language_OTROS</th>\n",
       "      <th>original_language_en</th>\n",
       "      <th>overview_0</th>\n",
       "      <th>overview_1</th>\n",
       "      <th>overview_2</th>\n",
       "      <th>overview_3</th>\n",
       "      <th>overview_4</th>\n",
       "      <th>overview_5</th>\n",
       "      <th>overview_6</th>\n",
       "      <th>overview_7</th>\n",
       "      <th>overview_8</th>\n",
       "      <th>overview_9</th>\n",
       "      <th>overview_10</th>\n",
       "      <th>overview_11</th>\n",
       "      <th>overview_12</th>\n",
       "      <th>overview_13</th>\n",
       "      <th>overview_14</th>\n",
       "      <th>overview_15</th>\n",
       "      <th>overview_16</th>\n",
       "      <th>overview_17</th>\n",
       "      <th>overview_18</th>\n",
       "      <th>overview_19</th>\n",
       "      <th>overview_20</th>\n",
       "      <th>overview_21</th>\n",
       "      <th>overview_22</th>\n",
       "      <th>overview_23</th>\n",
       "      <th>overview_24</th>\n",
       "      <th>overview_25</th>\n",
       "      <th>overview_26</th>\n",
       "      <th>overview_27</th>\n",
       "      <th>overview_28</th>\n",
       "      <th>overview_29</th>\n",
       "      <th>overview_30</th>\n",
       "      <th>overview_31</th>\n",
       "      <th>overview_32</th>\n",
       "      <th>overview_33</th>\n",
       "      <th>overview_34</th>\n",
       "      <th>overview_35</th>\n",
       "      <th>overview_36</th>\n",
       "      <th>overview_37</th>\n",
       "      <th>overview_38</th>\n",
       "      <th>overview_39</th>\n",
       "      <th>overview_40</th>\n",
       "      <th>overview_41</th>\n",
       "      <th>overview_42</th>\n",
       "      <th>overview_43</th>\n",
       "      <th>overview_44</th>\n",
       "      <th>overview_45</th>\n",
       "      <th>overview_46</th>\n",
       "      <th>overview_47</th>\n",
       "      <th>overview_48</th>\n",
       "      <th>overview_49</th>\n",
       "      <th>overview_50</th>\n",
       "      <th>overview_51</th>\n",
       "      <th>overview_52</th>\n",
       "      <th>overview_53</th>\n",
       "      <th>overview_54</th>\n",
       "      <th>overview_55</th>\n",
       "      <th>overview_56</th>\n",
       "      <th>overview_57</th>\n",
       "      <th>overview_58</th>\n",
       "      <th>overview_59</th>\n",
       "      <th>overview_60</th>\n",
       "      <th>overview_61</th>\n",
       "      <th>overview_62</th>\n",
       "      <th>overview_63</th>\n",
       "      <th>overview_64</th>\n",
       "      <th>overview_65</th>\n",
       "      <th>overview_66</th>\n",
       "      <th>overview_67</th>\n",
       "      <th>overview_68</th>\n",
       "      <th>overview_69</th>\n",
       "      <th>overview_70</th>\n",
       "      <th>overview_71</th>\n",
       "      <th>overview_72</th>\n",
       "      <th>overview_73</th>\n",
       "      <th>overview_74</th>\n",
       "      <th>overview_75</th>\n",
       "      <th>overview_76</th>\n",
       "      <th>overview_77</th>\n",
       "      <th>overview_78</th>\n",
       "      <th>overview_79</th>\n",
       "      <th>overview_80</th>\n",
       "      <th>overview_81</th>\n",
       "      <th>overview_82</th>\n",
       "      <th>overview_83</th>\n",
       "      <th>overview_84</th>\n",
       "      <th>overview_85</th>\n",
       "      <th>overview_86</th>\n",
       "      <th>overview_87</th>\n",
       "      <th>overview_88</th>\n",
       "      <th>overview_89</th>\n",
       "      <th>overview_90</th>\n",
       "      <th>overview_91</th>\n",
       "      <th>overview_92</th>\n",
       "      <th>overview_93</th>\n",
       "      <th>overview_94</th>\n",
       "      <th>overview_95</th>\n",
       "      <th>overview_96</th>\n",
       "      <th>overview_97</th>\n",
       "      <th>overview_98</th>\n",
       "      <th>overview_99</th>\n",
       "      <th>keywords_0</th>\n",
       "      <th>keywords_1</th>\n",
       "      <th>keywords_2</th>\n",
       "      <th>keywords_3</th>\n",
       "      <th>keywords_4</th>\n",
       "      <th>keywords_5</th>\n",
       "      <th>keywords_6</th>\n",
       "      <th>keywords_7</th>\n",
       "      <th>keywords_8</th>\n",
       "      <th>keywords_9</th>\n",
       "      <th>keywords_10</th>\n",
       "      <th>keywords_11</th>\n",
       "      <th>keywords_12</th>\n",
       "      <th>keywords_13</th>\n",
       "      <th>keywords_14</th>\n",
       "      <th>keywords_15</th>\n",
       "      <th>keywords_16</th>\n",
       "      <th>keywords_17</th>\n",
       "      <th>keywords_18</th>\n",
       "      <th>keywords_19</th>\n",
       "      <th>keywords_20</th>\n",
       "      <th>keywords_21</th>\n",
       "      <th>keywords_22</th>\n",
       "      <th>keywords_23</th>\n",
       "      <th>keywords_24</th>\n",
       "      <th>keywords_25</th>\n",
       "      <th>keywords_26</th>\n",
       "      <th>keywords_27</th>\n",
       "      <th>keywords_28</th>\n",
       "      <th>keywords_29</th>\n",
       "      <th>keywords_30</th>\n",
       "      <th>keywords_31</th>\n",
       "      <th>keywords_32</th>\n",
       "      <th>keywords_33</th>\n",
       "      <th>keywords_34</th>\n",
       "      <th>keywords_35</th>\n",
       "      <th>keywords_36</th>\n",
       "      <th>keywords_37</th>\n",
       "      <th>keywords_38</th>\n",
       "      <th>keywords_39</th>\n",
       "      <th>keywords_40</th>\n",
       "      <th>keywords_41</th>\n",
       "      <th>keywords_42</th>\n",
       "      <th>keywords_43</th>\n",
       "      <th>keywords_44</th>\n",
       "      <th>keywords_45</th>\n",
       "      <th>keywords_46</th>\n",
       "      <th>keywords_47</th>\n",
       "      <th>keywords_48</th>\n",
       "      <th>keywords_49</th>\n",
       "      <th>keywords_50</th>\n",
       "      <th>keywords_51</th>\n",
       "      <th>keywords_52</th>\n",
       "      <th>keywords_53</th>\n",
       "      <th>keywords_54</th>\n",
       "      <th>keywords_55</th>\n",
       "      <th>keywords_56</th>\n",
       "      <th>keywords_57</th>\n",
       "      <th>keywords_58</th>\n",
       "      <th>keywords_59</th>\n",
       "      <th>keywords_60</th>\n",
       "      <th>keywords_61</th>\n",
       "      <th>keywords_62</th>\n",
       "      <th>keywords_63</th>\n",
       "      <th>keywords_64</th>\n",
       "      <th>keywords_65</th>\n",
       "      <th>keywords_66</th>\n",
       "      <th>keywords_67</th>\n",
       "      <th>keywords_68</th>\n",
       "      <th>keywords_69</th>\n",
       "      <th>keywords_70</th>\n",
       "      <th>keywords_71</th>\n",
       "      <th>keywords_72</th>\n",
       "      <th>keywords_73</th>\n",
       "      <th>keywords_74</th>\n",
       "      <th>keywords_75</th>\n",
       "      <th>keywords_76</th>\n",
       "      <th>keywords_77</th>\n",
       "      <th>keywords_78</th>\n",
       "      <th>keywords_79</th>\n",
       "      <th>keywords_80</th>\n",
       "      <th>keywords_81</th>\n",
       "      <th>keywords_82</th>\n",
       "      <th>keywords_83</th>\n",
       "      <th>keywords_84</th>\n",
       "      <th>keywords_85</th>\n",
       "      <th>keywords_86</th>\n",
       "      <th>keywords_87</th>\n",
       "      <th>keywords_88</th>\n",
       "      <th>keywords_89</th>\n",
       "      <th>keywords_90</th>\n",
       "      <th>keywords_91</th>\n",
       "      <th>keywords_92</th>\n",
       "      <th>keywords_93</th>\n",
       "      <th>keywords_94</th>\n",
       "      <th>keywords_95</th>\n",
       "      <th>keywords_96</th>\n",
       "      <th>keywords_97</th>\n",
       "      <th>keywords_98</th>\n",
       "      <th>keywords_99</th>\n",
       "    </tr>\n",
       "  </thead>\n",
       "  <tbody>\n",
       "    <tr>\n",
       "      <th>19080</th>\n",
       "      <td>2012.0</td>\n",
       "      <td>9.0</td>\n",
       "      <td>550000.0</td>\n",
       "      <td>165.0</td>\n",
       "      <td>0</td>\n",
       "      <td>1</td>\n",
       "      <td>0</td>\n",
       "      <td>1</td>\n",
       "      <td>0</td>\n",
       "      <td>0</td>\n",
       "      <td>0</td>\n",
       "      <td>1</td>\n",
       "      <td>0</td>\n",
       "      <td>0.0</td>\n",
       "      <td>0.0</td>\n",
       "      <td>0.0</td>\n",
       "      <td>0.0</td>\n",
       "      <td>0.0</td>\n",
       "      <td>0.0</td>\n",
       "      <td>0.206135</td>\n",
       "      <td>0.0</td>\n",
       "      <td>0.0</td>\n",
       "      <td>0.219586</td>\n",
       "      <td>0.0</td>\n",
       "      <td>0.0</td>\n",
       "      <td>0.0</td>\n",
       "      <td>0.0</td>\n",
       "      <td>0.0</td>\n",
       "      <td>0.0</td>\n",
       "      <td>0.0</td>\n",
       "      <td>0.0</td>\n",
       "      <td>0.0</td>\n",
       "      <td>0.0</td>\n",
       "      <td>0.0</td>\n",
       "      <td>0.000000</td>\n",
       "      <td>0.0</td>\n",
       "      <td>0.0</td>\n",
       "      <td>0.000000</td>\n",
       "      <td>0.0</td>\n",
       "      <td>0.0</td>\n",
       "      <td>0.164739</td>\n",
       "      <td>0.0</td>\n",
       "      <td>0.0</td>\n",
       "      <td>0.0</td>\n",
       "      <td>0.0</td>\n",
       "      <td>0.0</td>\n",
       "      <td>0.355682</td>\n",
       "      <td>0.0</td>\n",
       "      <td>0.0</td>\n",
       "      <td>0.0</td>\n",
       "      <td>0.21052</td>\n",
       "      <td>0.0</td>\n",
       "      <td>0.189452</td>\n",
       "      <td>0.0</td>\n",
       "      <td>0.550907</td>\n",
       "      <td>0.20605</td>\n",
       "      <td>0.0</td>\n",
       "      <td>0.000000</td>\n",
       "      <td>0.0</td>\n",
       "      <td>0.0</td>\n",
       "      <td>0.0</td>\n",
       "      <td>0.0</td>\n",
       "      <td>0.0</td>\n",
       "      <td>0.0</td>\n",
       "      <td>0.215457</td>\n",
       "      <td>0.0</td>\n",
       "      <td>0.0</td>\n",
       "      <td>0.0</td>\n",
       "      <td>0.0</td>\n",
       "      <td>0.0</td>\n",
       "      <td>0.0</td>\n",
       "      <td>0.0</td>\n",
       "      <td>0.0</td>\n",
       "      <td>0.394267</td>\n",
       "      <td>0.0</td>\n",
       "      <td>0.0</td>\n",
       "      <td>0.0</td>\n",
       "      <td>0.0</td>\n",
       "      <td>0.0</td>\n",
       "      <td>0.196711</td>\n",
       "      <td>0.0</td>\n",
       "      <td>0.0</td>\n",
       "      <td>0.0</td>\n",
       "      <td>0.0</td>\n",
       "      <td>0.0</td>\n",
       "      <td>0.0</td>\n",
       "      <td>0.222513</td>\n",
       "      <td>0.0</td>\n",
       "      <td>0.0</td>\n",
       "      <td>0.0</td>\n",
       "      <td>0.0</td>\n",
       "      <td>0.0</td>\n",
       "      <td>0.0</td>\n",
       "      <td>0.0</td>\n",
       "      <td>0.0</td>\n",
       "      <td>0.0</td>\n",
       "      <td>0.0</td>\n",
       "      <td>0.0</td>\n",
       "      <td>0.000000</td>\n",
       "      <td>0.198496</td>\n",
       "      <td>0.0</td>\n",
       "      <td>0.0</td>\n",
       "      <td>0.0</td>\n",
       "      <td>0.0</td>\n",
       "      <td>0.0</td>\n",
       "      <td>0.0</td>\n",
       "      <td>0.0</td>\n",
       "      <td>0.0</td>\n",
       "      <td>0.0</td>\n",
       "      <td>0.0</td>\n",
       "      <td>0.0</td>\n",
       "      <td>0.0</td>\n",
       "      <td>0.000000</td>\n",
       "      <td>0</td>\n",
       "      <td>0</td>\n",
       "      <td>0</td>\n",
       "      <td>0</td>\n",
       "      <td>0</td>\n",
       "      <td>0</td>\n",
       "      <td>0</td>\n",
       "      <td>0</td>\n",
       "      <td>0</td>\n",
       "      <td>0</td>\n",
       "      <td>0</td>\n",
       "      <td>0</td>\n",
       "      <td>0</td>\n",
       "      <td>0</td>\n",
       "      <td>0</td>\n",
       "      <td>0</td>\n",
       "      <td>0</td>\n",
       "      <td>0</td>\n",
       "      <td>0</td>\n",
       "      <td>0</td>\n",
       "      <td>0</td>\n",
       "      <td>0</td>\n",
       "      <td>0</td>\n",
       "      <td>0</td>\n",
       "      <td>0</td>\n",
       "      <td>0</td>\n",
       "      <td>0</td>\n",
       "      <td>0</td>\n",
       "      <td>0</td>\n",
       "      <td>0</td>\n",
       "      <td>0</td>\n",
       "      <td>0</td>\n",
       "      <td>0</td>\n",
       "      <td>0</td>\n",
       "      <td>0</td>\n",
       "      <td>0</td>\n",
       "      <td>0</td>\n",
       "      <td>0</td>\n",
       "      <td>0</td>\n",
       "      <td>0</td>\n",
       "      <td>0</td>\n",
       "      <td>0</td>\n",
       "      <td>0</td>\n",
       "      <td>0</td>\n",
       "      <td>0</td>\n",
       "      <td>0</td>\n",
       "      <td>0</td>\n",
       "      <td>0</td>\n",
       "      <td>0</td>\n",
       "      <td>0</td>\n",
       "      <td>0</td>\n",
       "      <td>0</td>\n",
       "      <td>0</td>\n",
       "      <td>0</td>\n",
       "      <td>0</td>\n",
       "      <td>0</td>\n",
       "      <td>0</td>\n",
       "      <td>0</td>\n",
       "      <td>0</td>\n",
       "      <td>0</td>\n",
       "      <td>0</td>\n",
       "      <td>0</td>\n",
       "      <td>0</td>\n",
       "      <td>1</td>\n",
       "      <td>0</td>\n",
       "      <td>0</td>\n",
       "      <td>0</td>\n",
       "      <td>0</td>\n",
       "      <td>0</td>\n",
       "      <td>0</td>\n",
       "      <td>0</td>\n",
       "      <td>0</td>\n",
       "      <td>0</td>\n",
       "      <td>0</td>\n",
       "      <td>0</td>\n",
       "      <td>0</td>\n",
       "      <td>0</td>\n",
       "      <td>0</td>\n",
       "      <td>0</td>\n",
       "      <td>0</td>\n",
       "      <td>0</td>\n",
       "      <td>0</td>\n",
       "      <td>0</td>\n",
       "      <td>0</td>\n",
       "      <td>0</td>\n",
       "      <td>0</td>\n",
       "      <td>0</td>\n",
       "      <td>0</td>\n",
       "      <td>0</td>\n",
       "      <td>0</td>\n",
       "      <td>0</td>\n",
       "      <td>0</td>\n",
       "      <td>0</td>\n",
       "      <td>0</td>\n",
       "      <td>0</td>\n",
       "      <td>0</td>\n",
       "      <td>0</td>\n",
       "      <td>0</td>\n",
       "      <td>0</td>\n",
       "      <td>0</td>\n",
       "    </tr>\n",
       "    <tr>\n",
       "      <th>11196</th>\n",
       "      <td>2005.0</td>\n",
       "      <td>3.0</td>\n",
       "      <td>500000.0</td>\n",
       "      <td>80.0</td>\n",
       "      <td>0</td>\n",
       "      <td>0</td>\n",
       "      <td>0</td>\n",
       "      <td>1</td>\n",
       "      <td>1</td>\n",
       "      <td>0</td>\n",
       "      <td>1</td>\n",
       "      <td>0</td>\n",
       "      <td>1</td>\n",
       "      <td>0.0</td>\n",
       "      <td>0.0</td>\n",
       "      <td>0.0</td>\n",
       "      <td>0.0</td>\n",
       "      <td>0.0</td>\n",
       "      <td>0.0</td>\n",
       "      <td>0.000000</td>\n",
       "      <td>0.0</td>\n",
       "      <td>0.0</td>\n",
       "      <td>0.000000</td>\n",
       "      <td>0.0</td>\n",
       "      <td>0.0</td>\n",
       "      <td>0.0</td>\n",
       "      <td>0.0</td>\n",
       "      <td>0.0</td>\n",
       "      <td>0.0</td>\n",
       "      <td>0.0</td>\n",
       "      <td>0.0</td>\n",
       "      <td>0.0</td>\n",
       "      <td>0.0</td>\n",
       "      <td>0.0</td>\n",
       "      <td>0.473857</td>\n",
       "      <td>0.0</td>\n",
       "      <td>0.0</td>\n",
       "      <td>0.358021</td>\n",
       "      <td>0.0</td>\n",
       "      <td>0.0</td>\n",
       "      <td>0.000000</td>\n",
       "      <td>0.0</td>\n",
       "      <td>0.0</td>\n",
       "      <td>0.0</td>\n",
       "      <td>0.0</td>\n",
       "      <td>0.0</td>\n",
       "      <td>0.000000</td>\n",
       "      <td>0.0</td>\n",
       "      <td>0.0</td>\n",
       "      <td>0.0</td>\n",
       "      <td>0.00000</td>\n",
       "      <td>0.0</td>\n",
       "      <td>0.000000</td>\n",
       "      <td>0.0</td>\n",
       "      <td>0.000000</td>\n",
       "      <td>0.00000</td>\n",
       "      <td>0.0</td>\n",
       "      <td>0.482778</td>\n",
       "      <td>0.0</td>\n",
       "      <td>0.0</td>\n",
       "      <td>0.0</td>\n",
       "      <td>0.0</td>\n",
       "      <td>0.0</td>\n",
       "      <td>0.0</td>\n",
       "      <td>0.000000</td>\n",
       "      <td>0.0</td>\n",
       "      <td>0.0</td>\n",
       "      <td>0.0</td>\n",
       "      <td>0.0</td>\n",
       "      <td>0.0</td>\n",
       "      <td>0.0</td>\n",
       "      <td>0.0</td>\n",
       "      <td>0.0</td>\n",
       "      <td>0.000000</td>\n",
       "      <td>0.0</td>\n",
       "      <td>0.0</td>\n",
       "      <td>0.0</td>\n",
       "      <td>0.0</td>\n",
       "      <td>0.0</td>\n",
       "      <td>0.421615</td>\n",
       "      <td>0.0</td>\n",
       "      <td>0.0</td>\n",
       "      <td>0.0</td>\n",
       "      <td>0.0</td>\n",
       "      <td>0.0</td>\n",
       "      <td>0.0</td>\n",
       "      <td>0.000000</td>\n",
       "      <td>0.0</td>\n",
       "      <td>0.0</td>\n",
       "      <td>0.0</td>\n",
       "      <td>0.0</td>\n",
       "      <td>0.0</td>\n",
       "      <td>0.0</td>\n",
       "      <td>0.0</td>\n",
       "      <td>0.0</td>\n",
       "      <td>0.0</td>\n",
       "      <td>0.0</td>\n",
       "      <td>0.0</td>\n",
       "      <td>0.373692</td>\n",
       "      <td>0.000000</td>\n",
       "      <td>0.0</td>\n",
       "      <td>0.0</td>\n",
       "      <td>0.0</td>\n",
       "      <td>0.0</td>\n",
       "      <td>0.0</td>\n",
       "      <td>0.0</td>\n",
       "      <td>0.0</td>\n",
       "      <td>0.0</td>\n",
       "      <td>0.0</td>\n",
       "      <td>0.0</td>\n",
       "      <td>0.0</td>\n",
       "      <td>0.0</td>\n",
       "      <td>0.311129</td>\n",
       "      <td>0</td>\n",
       "      <td>0</td>\n",
       "      <td>0</td>\n",
       "      <td>0</td>\n",
       "      <td>0</td>\n",
       "      <td>0</td>\n",
       "      <td>0</td>\n",
       "      <td>0</td>\n",
       "      <td>0</td>\n",
       "      <td>0</td>\n",
       "      <td>0</td>\n",
       "      <td>0</td>\n",
       "      <td>0</td>\n",
       "      <td>0</td>\n",
       "      <td>0</td>\n",
       "      <td>0</td>\n",
       "      <td>0</td>\n",
       "      <td>0</td>\n",
       "      <td>0</td>\n",
       "      <td>0</td>\n",
       "      <td>0</td>\n",
       "      <td>0</td>\n",
       "      <td>0</td>\n",
       "      <td>0</td>\n",
       "      <td>0</td>\n",
       "      <td>0</td>\n",
       "      <td>0</td>\n",
       "      <td>0</td>\n",
       "      <td>0</td>\n",
       "      <td>0</td>\n",
       "      <td>0</td>\n",
       "      <td>0</td>\n",
       "      <td>0</td>\n",
       "      <td>0</td>\n",
       "      <td>0</td>\n",
       "      <td>0</td>\n",
       "      <td>0</td>\n",
       "      <td>0</td>\n",
       "      <td>0</td>\n",
       "      <td>0</td>\n",
       "      <td>0</td>\n",
       "      <td>0</td>\n",
       "      <td>0</td>\n",
       "      <td>0</td>\n",
       "      <td>0</td>\n",
       "      <td>0</td>\n",
       "      <td>0</td>\n",
       "      <td>0</td>\n",
       "      <td>0</td>\n",
       "      <td>0</td>\n",
       "      <td>0</td>\n",
       "      <td>0</td>\n",
       "      <td>0</td>\n",
       "      <td>0</td>\n",
       "      <td>0</td>\n",
       "      <td>0</td>\n",
       "      <td>0</td>\n",
       "      <td>0</td>\n",
       "      <td>0</td>\n",
       "      <td>0</td>\n",
       "      <td>0</td>\n",
       "      <td>0</td>\n",
       "      <td>0</td>\n",
       "      <td>0</td>\n",
       "      <td>0</td>\n",
       "      <td>0</td>\n",
       "      <td>0</td>\n",
       "      <td>0</td>\n",
       "      <td>0</td>\n",
       "      <td>0</td>\n",
       "      <td>0</td>\n",
       "      <td>1</td>\n",
       "      <td>0</td>\n",
       "      <td>0</td>\n",
       "      <td>0</td>\n",
       "      <td>0</td>\n",
       "      <td>0</td>\n",
       "      <td>0</td>\n",
       "      <td>0</td>\n",
       "      <td>0</td>\n",
       "      <td>0</td>\n",
       "      <td>0</td>\n",
       "      <td>0</td>\n",
       "      <td>0</td>\n",
       "      <td>0</td>\n",
       "      <td>0</td>\n",
       "      <td>0</td>\n",
       "      <td>0</td>\n",
       "      <td>0</td>\n",
       "      <td>0</td>\n",
       "      <td>0</td>\n",
       "      <td>0</td>\n",
       "      <td>0</td>\n",
       "      <td>0</td>\n",
       "      <td>0</td>\n",
       "      <td>0</td>\n",
       "      <td>0</td>\n",
       "      <td>0</td>\n",
       "      <td>0</td>\n",
       "      <td>0</td>\n",
       "    </tr>\n",
       "  </tbody>\n",
       "</table>\n",
       "</div>"
      ],
      "text/plain": [
       "         year  month    budget  runtime  genre_Action  genre_Comedy  \\\n",
       "19080  2012.0    9.0  550000.0    165.0             0             1   \n",
       "11196  2005.0    3.0  500000.0     80.0             0             0   \n",
       "\n",
       "       genre_Drama  genre_Horror  genre_OTROS  genre_Romance  genre_Thriller  \\\n",
       "19080            0             1            0              0               0   \n",
       "11196            0             1            1              0               1   \n",
       "\n",
       "       original_language_OTROS  original_language_en  overview_0  overview_1  \\\n",
       "19080                        1                     0         0.0         0.0   \n",
       "11196                        0                     1         0.0         0.0   \n",
       "\n",
       "       overview_2  overview_3  overview_4  overview_5  overview_6  overview_7  \\\n",
       "19080         0.0         0.0         0.0         0.0    0.206135         0.0   \n",
       "11196         0.0         0.0         0.0         0.0    0.000000         0.0   \n",
       "\n",
       "       overview_8  overview_9  overview_10  overview_11  overview_12  \\\n",
       "19080         0.0    0.219586          0.0          0.0          0.0   \n",
       "11196         0.0    0.000000          0.0          0.0          0.0   \n",
       "\n",
       "       overview_13  overview_14  overview_15  overview_16  overview_17  \\\n",
       "19080          0.0          0.0          0.0          0.0          0.0   \n",
       "11196          0.0          0.0          0.0          0.0          0.0   \n",
       "\n",
       "       overview_18  overview_19  overview_20  overview_21  overview_22  \\\n",
       "19080          0.0          0.0          0.0     0.000000          0.0   \n",
       "11196          0.0          0.0          0.0     0.473857          0.0   \n",
       "\n",
       "       overview_23  overview_24  overview_25  overview_26  overview_27  \\\n",
       "19080          0.0     0.000000          0.0          0.0     0.164739   \n",
       "11196          0.0     0.358021          0.0          0.0     0.000000   \n",
       "\n",
       "       overview_28  overview_29  overview_30  overview_31  overview_32  \\\n",
       "19080          0.0          0.0          0.0          0.0          0.0   \n",
       "11196          0.0          0.0          0.0          0.0          0.0   \n",
       "\n",
       "       overview_33  overview_34  overview_35  overview_36  overview_37  \\\n",
       "19080     0.355682          0.0          0.0          0.0      0.21052   \n",
       "11196     0.000000          0.0          0.0          0.0      0.00000   \n",
       "\n",
       "       overview_38  overview_39  overview_40  overview_41  overview_42  \\\n",
       "19080          0.0     0.189452          0.0     0.550907      0.20605   \n",
       "11196          0.0     0.000000          0.0     0.000000      0.00000   \n",
       "\n",
       "       overview_43  overview_44  overview_45  overview_46  overview_47  \\\n",
       "19080          0.0     0.000000          0.0          0.0          0.0   \n",
       "11196          0.0     0.482778          0.0          0.0          0.0   \n",
       "\n",
       "       overview_48  overview_49  overview_50  overview_51  overview_52  \\\n",
       "19080          0.0          0.0          0.0     0.215457          0.0   \n",
       "11196          0.0          0.0          0.0     0.000000          0.0   \n",
       "\n",
       "       overview_53  overview_54  overview_55  overview_56  overview_57  \\\n",
       "19080          0.0          0.0          0.0          0.0          0.0   \n",
       "11196          0.0          0.0          0.0          0.0          0.0   \n",
       "\n",
       "       overview_58  overview_59  overview_60  overview_61  overview_62  \\\n",
       "19080          0.0          0.0     0.394267          0.0          0.0   \n",
       "11196          0.0          0.0     0.000000          0.0          0.0   \n",
       "\n",
       "       overview_63  overview_64  overview_65  overview_66  overview_67  \\\n",
       "19080          0.0          0.0          0.0     0.196711          0.0   \n",
       "11196          0.0          0.0          0.0     0.421615          0.0   \n",
       "\n",
       "       overview_68  overview_69  overview_70  overview_71  overview_72  \\\n",
       "19080          0.0          0.0          0.0          0.0          0.0   \n",
       "11196          0.0          0.0          0.0          0.0          0.0   \n",
       "\n",
       "       overview_73  overview_74  overview_75  overview_76  overview_77  \\\n",
       "19080     0.222513          0.0          0.0          0.0          0.0   \n",
       "11196     0.000000          0.0          0.0          0.0          0.0   \n",
       "\n",
       "       overview_78  overview_79  overview_80  overview_81  overview_82  \\\n",
       "19080          0.0          0.0          0.0          0.0          0.0   \n",
       "11196          0.0          0.0          0.0          0.0          0.0   \n",
       "\n",
       "       overview_83  overview_84  overview_85  overview_86  overview_87  \\\n",
       "19080          0.0          0.0     0.000000     0.198496          0.0   \n",
       "11196          0.0          0.0     0.373692     0.000000          0.0   \n",
       "\n",
       "       overview_88  overview_89  overview_90  overview_91  overview_92  \\\n",
       "19080          0.0          0.0          0.0          0.0          0.0   \n",
       "11196          0.0          0.0          0.0          0.0          0.0   \n",
       "\n",
       "       overview_93  overview_94  overview_95  overview_96  overview_97  \\\n",
       "19080          0.0          0.0          0.0          0.0          0.0   \n",
       "11196          0.0          0.0          0.0          0.0          0.0   \n",
       "\n",
       "       overview_98  overview_99  keywords_0  keywords_1  keywords_2  \\\n",
       "19080          0.0     0.000000           0           0           0   \n",
       "11196          0.0     0.311129           0           0           0   \n",
       "\n",
       "       keywords_3  keywords_4  keywords_5  keywords_6  keywords_7  keywords_8  \\\n",
       "19080           0           0           0           0           0           0   \n",
       "11196           0           0           0           0           0           0   \n",
       "\n",
       "       keywords_9  keywords_10  keywords_11  keywords_12  keywords_13  \\\n",
       "19080           0            0            0            0            0   \n",
       "11196           0            0            0            0            0   \n",
       "\n",
       "       keywords_14  keywords_15  keywords_16  keywords_17  keywords_18  \\\n",
       "19080            0            0            0            0            0   \n",
       "11196            0            0            0            0            0   \n",
       "\n",
       "       keywords_19  keywords_20  keywords_21  keywords_22  keywords_23  \\\n",
       "19080            0            0            0            0            0   \n",
       "11196            0            0            0            0            0   \n",
       "\n",
       "       keywords_24  keywords_25  keywords_26  keywords_27  keywords_28  \\\n",
       "19080            0            0            0            0            0   \n",
       "11196            0            0            0            0            0   \n",
       "\n",
       "       keywords_29  keywords_30  keywords_31  keywords_32  keywords_33  \\\n",
       "19080            0            0            0            0            0   \n",
       "11196            0            0            0            0            0   \n",
       "\n",
       "       keywords_34  keywords_35  keywords_36  keywords_37  keywords_38  \\\n",
       "19080            0            0            0            0            0   \n",
       "11196            0            0            0            0            0   \n",
       "\n",
       "       keywords_39  keywords_40  keywords_41  keywords_42  keywords_43  \\\n",
       "19080            0            0            0            0            0   \n",
       "11196            0            0            0            0            0   \n",
       "\n",
       "       keywords_44  keywords_45  keywords_46  keywords_47  keywords_48  \\\n",
       "19080            0            0            0            0            0   \n",
       "11196            0            0            0            0            0   \n",
       "\n",
       "       keywords_49  keywords_50  keywords_51  keywords_52  keywords_53  \\\n",
       "19080            0            0            0            0            0   \n",
       "11196            0            0            0            0            0   \n",
       "\n",
       "       keywords_54  keywords_55  keywords_56  keywords_57  keywords_58  \\\n",
       "19080            0            0            0            0            0   \n",
       "11196            0            0            0            0            0   \n",
       "\n",
       "       keywords_59  keywords_60  keywords_61  keywords_62  keywords_63  \\\n",
       "19080            0            0            0            0            1   \n",
       "11196            0            0            0            0            0   \n",
       "\n",
       "       keywords_64  keywords_65  keywords_66  keywords_67  keywords_68  \\\n",
       "19080            0            0            0            0            0   \n",
       "11196            0            0            0            0            0   \n",
       "\n",
       "       keywords_69  keywords_70  keywords_71  keywords_72  keywords_73  \\\n",
       "19080            0            0            0            0            0   \n",
       "11196            0            0            1            0            0   \n",
       "\n",
       "       keywords_74  keywords_75  keywords_76  keywords_77  keywords_78  \\\n",
       "19080            0            0            0            0            0   \n",
       "11196            0            0            0            0            0   \n",
       "\n",
       "       keywords_79  keywords_80  keywords_81  keywords_82  keywords_83  \\\n",
       "19080            0            0            0            0            0   \n",
       "11196            0            0            0            0            0   \n",
       "\n",
       "       keywords_84  keywords_85  keywords_86  keywords_87  keywords_88  \\\n",
       "19080            0            0            0            0            0   \n",
       "11196            0            0            0            0            0   \n",
       "\n",
       "       keywords_89  keywords_90  keywords_91  keywords_92  keywords_93  \\\n",
       "19080            0            0            0            0            0   \n",
       "11196            0            0            0            0            0   \n",
       "\n",
       "       keywords_94  keywords_95  keywords_96  keywords_97  keywords_98  \\\n",
       "19080            0            0            0            0            0   \n",
       "11196            0            0            0            0            0   \n",
       "\n",
       "       keywords_99  \n",
       "19080            0  \n",
       "11196            0  "
      ]
     },
     "execution_count": 73,
     "metadata": {},
     "output_type": "execute_result"
    }
   ],
   "source": [
    "X_train.head(2)"
   ]
  },
  {
   "cell_type": "code",
   "execution_count": 74,
   "id": "e262865d",
   "metadata": {},
   "outputs": [
    {
     "data": {
      "text/html": [
       "<div>\n",
       "<style scoped>\n",
       "    .dataframe tbody tr th:only-of-type {\n",
       "        vertical-align: middle;\n",
       "    }\n",
       "\n",
       "    .dataframe tbody tr th {\n",
       "        vertical-align: top;\n",
       "    }\n",
       "\n",
       "    .dataframe thead th {\n",
       "        text-align: right;\n",
       "    }\n",
       "</style>\n",
       "<table border=\"1\" class=\"dataframe\">\n",
       "  <thead>\n",
       "    <tr style=\"text-align: right;\">\n",
       "      <th></th>\n",
       "      <th>year</th>\n",
       "      <th>month</th>\n",
       "      <th>budget</th>\n",
       "      <th>runtime</th>\n",
       "      <th>genre_Action</th>\n",
       "      <th>genre_Comedy</th>\n",
       "      <th>genre_Drama</th>\n",
       "      <th>genre_Horror</th>\n",
       "      <th>genre_OTROS</th>\n",
       "      <th>genre_Romance</th>\n",
       "      <th>genre_Thriller</th>\n",
       "      <th>original_language_OTROS</th>\n",
       "      <th>original_language_en</th>\n",
       "      <th>overview_0</th>\n",
       "      <th>overview_1</th>\n",
       "      <th>overview_2</th>\n",
       "      <th>overview_3</th>\n",
       "      <th>overview_4</th>\n",
       "      <th>overview_5</th>\n",
       "      <th>overview_6</th>\n",
       "      <th>overview_7</th>\n",
       "      <th>overview_8</th>\n",
       "      <th>overview_9</th>\n",
       "      <th>overview_10</th>\n",
       "      <th>overview_11</th>\n",
       "      <th>overview_12</th>\n",
       "      <th>overview_13</th>\n",
       "      <th>overview_14</th>\n",
       "      <th>overview_15</th>\n",
       "      <th>overview_16</th>\n",
       "      <th>overview_17</th>\n",
       "      <th>overview_18</th>\n",
       "      <th>overview_19</th>\n",
       "      <th>overview_20</th>\n",
       "      <th>overview_21</th>\n",
       "      <th>overview_22</th>\n",
       "      <th>overview_23</th>\n",
       "      <th>overview_24</th>\n",
       "      <th>overview_25</th>\n",
       "      <th>overview_26</th>\n",
       "      <th>overview_27</th>\n",
       "      <th>overview_28</th>\n",
       "      <th>overview_29</th>\n",
       "      <th>overview_30</th>\n",
       "      <th>overview_31</th>\n",
       "      <th>overview_32</th>\n",
       "      <th>overview_33</th>\n",
       "      <th>overview_34</th>\n",
       "      <th>overview_35</th>\n",
       "      <th>overview_36</th>\n",
       "      <th>overview_37</th>\n",
       "      <th>overview_38</th>\n",
       "      <th>overview_39</th>\n",
       "      <th>overview_40</th>\n",
       "      <th>overview_41</th>\n",
       "      <th>overview_42</th>\n",
       "      <th>overview_43</th>\n",
       "      <th>overview_44</th>\n",
       "      <th>overview_45</th>\n",
       "      <th>overview_46</th>\n",
       "      <th>overview_47</th>\n",
       "      <th>overview_48</th>\n",
       "      <th>overview_49</th>\n",
       "      <th>overview_50</th>\n",
       "      <th>overview_51</th>\n",
       "      <th>overview_52</th>\n",
       "      <th>overview_53</th>\n",
       "      <th>overview_54</th>\n",
       "      <th>overview_55</th>\n",
       "      <th>overview_56</th>\n",
       "      <th>overview_57</th>\n",
       "      <th>overview_58</th>\n",
       "      <th>overview_59</th>\n",
       "      <th>overview_60</th>\n",
       "      <th>overview_61</th>\n",
       "      <th>overview_62</th>\n",
       "      <th>overview_63</th>\n",
       "      <th>overview_64</th>\n",
       "      <th>overview_65</th>\n",
       "      <th>overview_66</th>\n",
       "      <th>overview_67</th>\n",
       "      <th>overview_68</th>\n",
       "      <th>overview_69</th>\n",
       "      <th>overview_70</th>\n",
       "      <th>overview_71</th>\n",
       "      <th>overview_72</th>\n",
       "      <th>overview_73</th>\n",
       "      <th>overview_74</th>\n",
       "      <th>overview_75</th>\n",
       "      <th>overview_76</th>\n",
       "      <th>overview_77</th>\n",
       "      <th>overview_78</th>\n",
       "      <th>overview_79</th>\n",
       "      <th>overview_80</th>\n",
       "      <th>overview_81</th>\n",
       "      <th>overview_82</th>\n",
       "      <th>overview_83</th>\n",
       "      <th>overview_84</th>\n",
       "      <th>overview_85</th>\n",
       "      <th>overview_86</th>\n",
       "      <th>overview_87</th>\n",
       "      <th>overview_88</th>\n",
       "      <th>overview_89</th>\n",
       "      <th>overview_90</th>\n",
       "      <th>overview_91</th>\n",
       "      <th>overview_92</th>\n",
       "      <th>overview_93</th>\n",
       "      <th>overview_94</th>\n",
       "      <th>overview_95</th>\n",
       "      <th>overview_96</th>\n",
       "      <th>overview_97</th>\n",
       "      <th>overview_98</th>\n",
       "      <th>overview_99</th>\n",
       "      <th>keywords_0</th>\n",
       "      <th>keywords_1</th>\n",
       "      <th>keywords_2</th>\n",
       "      <th>keywords_3</th>\n",
       "      <th>keywords_4</th>\n",
       "      <th>keywords_5</th>\n",
       "      <th>keywords_6</th>\n",
       "      <th>keywords_7</th>\n",
       "      <th>keywords_8</th>\n",
       "      <th>keywords_9</th>\n",
       "      <th>keywords_10</th>\n",
       "      <th>keywords_11</th>\n",
       "      <th>keywords_12</th>\n",
       "      <th>keywords_13</th>\n",
       "      <th>keywords_14</th>\n",
       "      <th>keywords_15</th>\n",
       "      <th>keywords_16</th>\n",
       "      <th>keywords_17</th>\n",
       "      <th>keywords_18</th>\n",
       "      <th>keywords_19</th>\n",
       "      <th>keywords_20</th>\n",
       "      <th>keywords_21</th>\n",
       "      <th>keywords_22</th>\n",
       "      <th>keywords_23</th>\n",
       "      <th>keywords_24</th>\n",
       "      <th>keywords_25</th>\n",
       "      <th>keywords_26</th>\n",
       "      <th>keywords_27</th>\n",
       "      <th>keywords_28</th>\n",
       "      <th>keywords_29</th>\n",
       "      <th>keywords_30</th>\n",
       "      <th>keywords_31</th>\n",
       "      <th>keywords_32</th>\n",
       "      <th>keywords_33</th>\n",
       "      <th>keywords_34</th>\n",
       "      <th>keywords_35</th>\n",
       "      <th>keywords_36</th>\n",
       "      <th>keywords_37</th>\n",
       "      <th>keywords_38</th>\n",
       "      <th>keywords_39</th>\n",
       "      <th>keywords_40</th>\n",
       "      <th>keywords_41</th>\n",
       "      <th>keywords_42</th>\n",
       "      <th>keywords_43</th>\n",
       "      <th>keywords_44</th>\n",
       "      <th>keywords_45</th>\n",
       "      <th>keywords_46</th>\n",
       "      <th>keywords_47</th>\n",
       "      <th>keywords_48</th>\n",
       "      <th>keywords_49</th>\n",
       "      <th>keywords_50</th>\n",
       "      <th>keywords_51</th>\n",
       "      <th>keywords_52</th>\n",
       "      <th>keywords_53</th>\n",
       "      <th>keywords_54</th>\n",
       "      <th>keywords_55</th>\n",
       "      <th>keywords_56</th>\n",
       "      <th>keywords_57</th>\n",
       "      <th>keywords_58</th>\n",
       "      <th>keywords_59</th>\n",
       "      <th>keywords_60</th>\n",
       "      <th>keywords_61</th>\n",
       "      <th>keywords_62</th>\n",
       "      <th>keywords_63</th>\n",
       "      <th>keywords_64</th>\n",
       "      <th>keywords_65</th>\n",
       "      <th>keywords_66</th>\n",
       "      <th>keywords_67</th>\n",
       "      <th>keywords_68</th>\n",
       "      <th>keywords_69</th>\n",
       "      <th>keywords_70</th>\n",
       "      <th>keywords_71</th>\n",
       "      <th>keywords_72</th>\n",
       "      <th>keywords_73</th>\n",
       "      <th>keywords_74</th>\n",
       "      <th>keywords_75</th>\n",
       "      <th>keywords_76</th>\n",
       "      <th>keywords_77</th>\n",
       "      <th>keywords_78</th>\n",
       "      <th>keywords_79</th>\n",
       "      <th>keywords_80</th>\n",
       "      <th>keywords_81</th>\n",
       "      <th>keywords_82</th>\n",
       "      <th>keywords_83</th>\n",
       "      <th>keywords_84</th>\n",
       "      <th>keywords_85</th>\n",
       "      <th>keywords_86</th>\n",
       "      <th>keywords_87</th>\n",
       "      <th>keywords_88</th>\n",
       "      <th>keywords_89</th>\n",
       "      <th>keywords_90</th>\n",
       "      <th>keywords_91</th>\n",
       "      <th>keywords_92</th>\n",
       "      <th>keywords_93</th>\n",
       "      <th>keywords_94</th>\n",
       "      <th>keywords_95</th>\n",
       "      <th>keywords_96</th>\n",
       "      <th>keywords_97</th>\n",
       "      <th>keywords_98</th>\n",
       "      <th>keywords_99</th>\n",
       "    </tr>\n",
       "  </thead>\n",
       "  <tbody>\n",
       "    <tr>\n",
       "      <th>11460</th>\n",
       "      <td>2008.0</td>\n",
       "      <td>7.0</td>\n",
       "      <td>1500000.0</td>\n",
       "      <td>0.0</td>\n",
       "      <td>0</td>\n",
       "      <td>0</td>\n",
       "      <td>0</td>\n",
       "      <td>1</td>\n",
       "      <td>2</td>\n",
       "      <td>0</td>\n",
       "      <td>0</td>\n",
       "      <td>0</td>\n",
       "      <td>1</td>\n",
       "      <td>0.0</td>\n",
       "      <td>0.0</td>\n",
       "      <td>0.0</td>\n",
       "      <td>0.0</td>\n",
       "      <td>0.0</td>\n",
       "      <td>0.0</td>\n",
       "      <td>0.0</td>\n",
       "      <td>0.0</td>\n",
       "      <td>0.617602</td>\n",
       "      <td>0.0</td>\n",
       "      <td>0.0</td>\n",
       "      <td>0.0</td>\n",
       "      <td>0.0</td>\n",
       "      <td>0.0</td>\n",
       "      <td>0.0</td>\n",
       "      <td>0.293119</td>\n",
       "      <td>0.0</td>\n",
       "      <td>0.0</td>\n",
       "      <td>0.0</td>\n",
       "      <td>0.0</td>\n",
       "      <td>0.0</td>\n",
       "      <td>0.0</td>\n",
       "      <td>0.0</td>\n",
       "      <td>0.0</td>\n",
       "      <td>0.0</td>\n",
       "      <td>0.272503</td>\n",
       "      <td>0.0</td>\n",
       "      <td>0.0</td>\n",
       "      <td>0.267763</td>\n",
       "      <td>0.0</td>\n",
       "      <td>0.0</td>\n",
       "      <td>0.0</td>\n",
       "      <td>0.290782</td>\n",
       "      <td>0.262136</td>\n",
       "      <td>0.0</td>\n",
       "      <td>0.0</td>\n",
       "      <td>0.0</td>\n",
       "      <td>0.0</td>\n",
       "      <td>0.0</td>\n",
       "      <td>0.0</td>\n",
       "      <td>0.0</td>\n",
       "      <td>0.0</td>\n",
       "      <td>0.0</td>\n",
       "      <td>0.0</td>\n",
       "      <td>0.0</td>\n",
       "      <td>0.0</td>\n",
       "      <td>0.0</td>\n",
       "      <td>0.0</td>\n",
       "      <td>0.0</td>\n",
       "      <td>0.0</td>\n",
       "      <td>0.0</td>\n",
       "      <td>0.0</td>\n",
       "      <td>0.0</td>\n",
       "      <td>0.0</td>\n",
       "      <td>0.0</td>\n",
       "      <td>0.0</td>\n",
       "      <td>0.0</td>\n",
       "      <td>0.0</td>\n",
       "      <td>0.0</td>\n",
       "      <td>0.0</td>\n",
       "      <td>0.290573</td>\n",
       "      <td>0.0</td>\n",
       "      <td>0.0</td>\n",
       "      <td>0.0</td>\n",
       "      <td>0.0</td>\n",
       "      <td>0.0</td>\n",
       "      <td>0.0</td>\n",
       "      <td>0.0</td>\n",
       "      <td>0.0</td>\n",
       "      <td>0.0</td>\n",
       "      <td>0.0</td>\n",
       "      <td>0.0</td>\n",
       "      <td>0.0</td>\n",
       "      <td>0.0</td>\n",
       "      <td>0.0</td>\n",
       "      <td>0.0</td>\n",
       "      <td>0.0</td>\n",
       "      <td>0.0</td>\n",
       "      <td>0.0</td>\n",
       "      <td>0.0</td>\n",
       "      <td>0.0</td>\n",
       "      <td>0.0</td>\n",
       "      <td>0.0</td>\n",
       "      <td>0.0</td>\n",
       "      <td>0.0</td>\n",
       "      <td>0.0</td>\n",
       "      <td>0.0</td>\n",
       "      <td>0.0</td>\n",
       "      <td>0.0</td>\n",
       "      <td>0.0</td>\n",
       "      <td>0.0</td>\n",
       "      <td>0.0</td>\n",
       "      <td>0.288117</td>\n",
       "      <td>0.0</td>\n",
       "      <td>0.0</td>\n",
       "      <td>0.0</td>\n",
       "      <td>0.0</td>\n",
       "      <td>0.0</td>\n",
       "      <td>0.256865</td>\n",
       "      <td>0.0</td>\n",
       "      <td>0</td>\n",
       "      <td>0</td>\n",
       "      <td>0</td>\n",
       "      <td>0</td>\n",
       "      <td>0</td>\n",
       "      <td>0</td>\n",
       "      <td>0</td>\n",
       "      <td>0</td>\n",
       "      <td>0</td>\n",
       "      <td>0</td>\n",
       "      <td>0</td>\n",
       "      <td>0</td>\n",
       "      <td>0</td>\n",
       "      <td>0</td>\n",
       "      <td>0</td>\n",
       "      <td>0</td>\n",
       "      <td>0</td>\n",
       "      <td>0</td>\n",
       "      <td>0</td>\n",
       "      <td>0</td>\n",
       "      <td>0</td>\n",
       "      <td>0</td>\n",
       "      <td>0</td>\n",
       "      <td>0</td>\n",
       "      <td>0</td>\n",
       "      <td>0</td>\n",
       "      <td>0</td>\n",
       "      <td>0</td>\n",
       "      <td>0</td>\n",
       "      <td>0</td>\n",
       "      <td>0</td>\n",
       "      <td>0</td>\n",
       "      <td>0</td>\n",
       "      <td>0</td>\n",
       "      <td>0</td>\n",
       "      <td>0</td>\n",
       "      <td>0</td>\n",
       "      <td>0</td>\n",
       "      <td>0</td>\n",
       "      <td>0</td>\n",
       "      <td>0</td>\n",
       "      <td>0</td>\n",
       "      <td>0</td>\n",
       "      <td>0</td>\n",
       "      <td>0</td>\n",
       "      <td>0</td>\n",
       "      <td>0</td>\n",
       "      <td>0</td>\n",
       "      <td>0</td>\n",
       "      <td>0</td>\n",
       "      <td>0</td>\n",
       "      <td>0</td>\n",
       "      <td>0</td>\n",
       "      <td>0</td>\n",
       "      <td>0</td>\n",
       "      <td>0</td>\n",
       "      <td>0</td>\n",
       "      <td>0</td>\n",
       "      <td>0</td>\n",
       "      <td>0</td>\n",
       "      <td>0</td>\n",
       "      <td>0</td>\n",
       "      <td>0</td>\n",
       "      <td>0</td>\n",
       "      <td>0</td>\n",
       "      <td>0</td>\n",
       "      <td>0</td>\n",
       "      <td>0</td>\n",
       "      <td>0</td>\n",
       "      <td>0</td>\n",
       "      <td>0</td>\n",
       "      <td>0</td>\n",
       "      <td>0</td>\n",
       "      <td>0</td>\n",
       "      <td>0</td>\n",
       "      <td>0</td>\n",
       "      <td>0</td>\n",
       "      <td>0</td>\n",
       "      <td>0</td>\n",
       "      <td>0</td>\n",
       "      <td>0</td>\n",
       "      <td>0</td>\n",
       "      <td>0</td>\n",
       "      <td>0</td>\n",
       "      <td>0</td>\n",
       "      <td>0</td>\n",
       "      <td>0</td>\n",
       "      <td>0</td>\n",
       "      <td>0</td>\n",
       "      <td>0</td>\n",
       "      <td>0</td>\n",
       "      <td>0</td>\n",
       "      <td>0</td>\n",
       "      <td>0</td>\n",
       "      <td>0</td>\n",
       "      <td>0</td>\n",
       "      <td>0</td>\n",
       "      <td>0</td>\n",
       "      <td>0</td>\n",
       "      <td>0</td>\n",
       "    </tr>\n",
       "    <tr>\n",
       "      <th>18446</th>\n",
       "      <td>2019.0</td>\n",
       "      <td>5.0</td>\n",
       "      <td>27000.0</td>\n",
       "      <td>19.0</td>\n",
       "      <td>0</td>\n",
       "      <td>1</td>\n",
       "      <td>0</td>\n",
       "      <td>1</td>\n",
       "      <td>0</td>\n",
       "      <td>0</td>\n",
       "      <td>1</td>\n",
       "      <td>0</td>\n",
       "      <td>1</td>\n",
       "      <td>0.0</td>\n",
       "      <td>0.0</td>\n",
       "      <td>0.0</td>\n",
       "      <td>0.0</td>\n",
       "      <td>0.0</td>\n",
       "      <td>0.0</td>\n",
       "      <td>0.0</td>\n",
       "      <td>0.0</td>\n",
       "      <td>0.000000</td>\n",
       "      <td>0.0</td>\n",
       "      <td>0.0</td>\n",
       "      <td>0.0</td>\n",
       "      <td>0.0</td>\n",
       "      <td>0.0</td>\n",
       "      <td>0.0</td>\n",
       "      <td>0.000000</td>\n",
       "      <td>0.0</td>\n",
       "      <td>0.0</td>\n",
       "      <td>0.0</td>\n",
       "      <td>0.0</td>\n",
       "      <td>0.0</td>\n",
       "      <td>0.0</td>\n",
       "      <td>0.0</td>\n",
       "      <td>0.0</td>\n",
       "      <td>0.0</td>\n",
       "      <td>0.000000</td>\n",
       "      <td>0.0</td>\n",
       "      <td>0.0</td>\n",
       "      <td>0.000000</td>\n",
       "      <td>0.0</td>\n",
       "      <td>0.0</td>\n",
       "      <td>0.0</td>\n",
       "      <td>0.000000</td>\n",
       "      <td>0.000000</td>\n",
       "      <td>0.0</td>\n",
       "      <td>0.0</td>\n",
       "      <td>0.0</td>\n",
       "      <td>0.0</td>\n",
       "      <td>0.0</td>\n",
       "      <td>0.0</td>\n",
       "      <td>0.0</td>\n",
       "      <td>0.0</td>\n",
       "      <td>0.0</td>\n",
       "      <td>0.0</td>\n",
       "      <td>0.0</td>\n",
       "      <td>0.0</td>\n",
       "      <td>0.0</td>\n",
       "      <td>0.0</td>\n",
       "      <td>0.0</td>\n",
       "      <td>0.0</td>\n",
       "      <td>0.0</td>\n",
       "      <td>0.0</td>\n",
       "      <td>0.0</td>\n",
       "      <td>0.0</td>\n",
       "      <td>0.0</td>\n",
       "      <td>0.0</td>\n",
       "      <td>0.0</td>\n",
       "      <td>0.0</td>\n",
       "      <td>0.0</td>\n",
       "      <td>0.0</td>\n",
       "      <td>0.000000</td>\n",
       "      <td>0.0</td>\n",
       "      <td>0.0</td>\n",
       "      <td>0.0</td>\n",
       "      <td>0.0</td>\n",
       "      <td>0.0</td>\n",
       "      <td>0.0</td>\n",
       "      <td>0.0</td>\n",
       "      <td>0.0</td>\n",
       "      <td>0.0</td>\n",
       "      <td>0.0</td>\n",
       "      <td>0.0</td>\n",
       "      <td>0.0</td>\n",
       "      <td>0.0</td>\n",
       "      <td>0.0</td>\n",
       "      <td>0.0</td>\n",
       "      <td>0.0</td>\n",
       "      <td>0.0</td>\n",
       "      <td>0.0</td>\n",
       "      <td>0.0</td>\n",
       "      <td>0.0</td>\n",
       "      <td>0.0</td>\n",
       "      <td>0.0</td>\n",
       "      <td>0.0</td>\n",
       "      <td>0.0</td>\n",
       "      <td>0.0</td>\n",
       "      <td>0.0</td>\n",
       "      <td>0.0</td>\n",
       "      <td>0.0</td>\n",
       "      <td>0.0</td>\n",
       "      <td>0.0</td>\n",
       "      <td>0.0</td>\n",
       "      <td>0.000000</td>\n",
       "      <td>0.0</td>\n",
       "      <td>0.0</td>\n",
       "      <td>0.0</td>\n",
       "      <td>0.0</td>\n",
       "      <td>0.0</td>\n",
       "      <td>0.000000</td>\n",
       "      <td>0.0</td>\n",
       "      <td>0</td>\n",
       "      <td>0</td>\n",
       "      <td>0</td>\n",
       "      <td>0</td>\n",
       "      <td>0</td>\n",
       "      <td>0</td>\n",
       "      <td>0</td>\n",
       "      <td>0</td>\n",
       "      <td>0</td>\n",
       "      <td>0</td>\n",
       "      <td>0</td>\n",
       "      <td>0</td>\n",
       "      <td>0</td>\n",
       "      <td>0</td>\n",
       "      <td>0</td>\n",
       "      <td>0</td>\n",
       "      <td>0</td>\n",
       "      <td>0</td>\n",
       "      <td>0</td>\n",
       "      <td>0</td>\n",
       "      <td>0</td>\n",
       "      <td>0</td>\n",
       "      <td>0</td>\n",
       "      <td>0</td>\n",
       "      <td>0</td>\n",
       "      <td>0</td>\n",
       "      <td>0</td>\n",
       "      <td>0</td>\n",
       "      <td>0</td>\n",
       "      <td>0</td>\n",
       "      <td>0</td>\n",
       "      <td>0</td>\n",
       "      <td>0</td>\n",
       "      <td>0</td>\n",
       "      <td>0</td>\n",
       "      <td>0</td>\n",
       "      <td>0</td>\n",
       "      <td>0</td>\n",
       "      <td>0</td>\n",
       "      <td>0</td>\n",
       "      <td>0</td>\n",
       "      <td>0</td>\n",
       "      <td>0</td>\n",
       "      <td>0</td>\n",
       "      <td>0</td>\n",
       "      <td>0</td>\n",
       "      <td>0</td>\n",
       "      <td>0</td>\n",
       "      <td>0</td>\n",
       "      <td>0</td>\n",
       "      <td>0</td>\n",
       "      <td>0</td>\n",
       "      <td>0</td>\n",
       "      <td>0</td>\n",
       "      <td>0</td>\n",
       "      <td>0</td>\n",
       "      <td>0</td>\n",
       "      <td>0</td>\n",
       "      <td>0</td>\n",
       "      <td>0</td>\n",
       "      <td>0</td>\n",
       "      <td>0</td>\n",
       "      <td>0</td>\n",
       "      <td>1</td>\n",
       "      <td>0</td>\n",
       "      <td>0</td>\n",
       "      <td>0</td>\n",
       "      <td>0</td>\n",
       "      <td>0</td>\n",
       "      <td>0</td>\n",
       "      <td>0</td>\n",
       "      <td>0</td>\n",
       "      <td>0</td>\n",
       "      <td>0</td>\n",
       "      <td>0</td>\n",
       "      <td>0</td>\n",
       "      <td>0</td>\n",
       "      <td>0</td>\n",
       "      <td>0</td>\n",
       "      <td>0</td>\n",
       "      <td>0</td>\n",
       "      <td>0</td>\n",
       "      <td>0</td>\n",
       "      <td>0</td>\n",
       "      <td>0</td>\n",
       "      <td>0</td>\n",
       "      <td>0</td>\n",
       "      <td>0</td>\n",
       "      <td>0</td>\n",
       "      <td>0</td>\n",
       "      <td>0</td>\n",
       "      <td>0</td>\n",
       "      <td>0</td>\n",
       "      <td>0</td>\n",
       "      <td>0</td>\n",
       "      <td>0</td>\n",
       "      <td>0</td>\n",
       "      <td>0</td>\n",
       "      <td>0</td>\n",
       "      <td>0</td>\n",
       "    </tr>\n",
       "  </tbody>\n",
       "</table>\n",
       "</div>"
      ],
      "text/plain": [
       "         year  month     budget  runtime  genre_Action  genre_Comedy  \\\n",
       "11460  2008.0    7.0  1500000.0      0.0             0             0   \n",
       "18446  2019.0    5.0    27000.0     19.0             0             1   \n",
       "\n",
       "       genre_Drama  genre_Horror  genre_OTROS  genre_Romance  genre_Thriller  \\\n",
       "11460            0             1            2              0               0   \n",
       "18446            0             1            0              0               1   \n",
       "\n",
       "       original_language_OTROS  original_language_en  overview_0  overview_1  \\\n",
       "11460                        0                     1         0.0         0.0   \n",
       "18446                        0                     1         0.0         0.0   \n",
       "\n",
       "       overview_2  overview_3  overview_4  overview_5  overview_6  overview_7  \\\n",
       "11460         0.0         0.0         0.0         0.0         0.0         0.0   \n",
       "18446         0.0         0.0         0.0         0.0         0.0         0.0   \n",
       "\n",
       "       overview_8  overview_9  overview_10  overview_11  overview_12  \\\n",
       "11460    0.617602         0.0          0.0          0.0          0.0   \n",
       "18446    0.000000         0.0          0.0          0.0          0.0   \n",
       "\n",
       "       overview_13  overview_14  overview_15  overview_16  overview_17  \\\n",
       "11460          0.0          0.0     0.293119          0.0          0.0   \n",
       "18446          0.0          0.0     0.000000          0.0          0.0   \n",
       "\n",
       "       overview_18  overview_19  overview_20  overview_21  overview_22  \\\n",
       "11460          0.0          0.0          0.0          0.0          0.0   \n",
       "18446          0.0          0.0          0.0          0.0          0.0   \n",
       "\n",
       "       overview_23  overview_24  overview_25  overview_26  overview_27  \\\n",
       "11460          0.0          0.0     0.272503          0.0          0.0   \n",
       "18446          0.0          0.0     0.000000          0.0          0.0   \n",
       "\n",
       "       overview_28  overview_29  overview_30  overview_31  overview_32  \\\n",
       "11460     0.267763          0.0          0.0          0.0     0.290782   \n",
       "18446     0.000000          0.0          0.0          0.0     0.000000   \n",
       "\n",
       "       overview_33  overview_34  overview_35  overview_36  overview_37  \\\n",
       "11460     0.262136          0.0          0.0          0.0          0.0   \n",
       "18446     0.000000          0.0          0.0          0.0          0.0   \n",
       "\n",
       "       overview_38  overview_39  overview_40  overview_41  overview_42  \\\n",
       "11460          0.0          0.0          0.0          0.0          0.0   \n",
       "18446          0.0          0.0          0.0          0.0          0.0   \n",
       "\n",
       "       overview_43  overview_44  overview_45  overview_46  overview_47  \\\n",
       "11460          0.0          0.0          0.0          0.0          0.0   \n",
       "18446          0.0          0.0          0.0          0.0          0.0   \n",
       "\n",
       "       overview_48  overview_49  overview_50  overview_51  overview_52  \\\n",
       "11460          0.0          0.0          0.0          0.0          0.0   \n",
       "18446          0.0          0.0          0.0          0.0          0.0   \n",
       "\n",
       "       overview_53  overview_54  overview_55  overview_56  overview_57  \\\n",
       "11460          0.0          0.0          0.0          0.0          0.0   \n",
       "18446          0.0          0.0          0.0          0.0          0.0   \n",
       "\n",
       "       overview_58  overview_59  overview_60  overview_61  overview_62  \\\n",
       "11460          0.0          0.0     0.290573          0.0          0.0   \n",
       "18446          0.0          0.0     0.000000          0.0          0.0   \n",
       "\n",
       "       overview_63  overview_64  overview_65  overview_66  overview_67  \\\n",
       "11460          0.0          0.0          0.0          0.0          0.0   \n",
       "18446          0.0          0.0          0.0          0.0          0.0   \n",
       "\n",
       "       overview_68  overview_69  overview_70  overview_71  overview_72  \\\n",
       "11460          0.0          0.0          0.0          0.0          0.0   \n",
       "18446          0.0          0.0          0.0          0.0          0.0   \n",
       "\n",
       "       overview_73  overview_74  overview_75  overview_76  overview_77  \\\n",
       "11460          0.0          0.0          0.0          0.0          0.0   \n",
       "18446          0.0          0.0          0.0          0.0          0.0   \n",
       "\n",
       "       overview_78  overview_79  overview_80  overview_81  overview_82  \\\n",
       "11460          0.0          0.0          0.0          0.0          0.0   \n",
       "18446          0.0          0.0          0.0          0.0          0.0   \n",
       "\n",
       "       overview_83  overview_84  overview_85  overview_86  overview_87  \\\n",
       "11460          0.0          0.0          0.0          0.0          0.0   \n",
       "18446          0.0          0.0          0.0          0.0          0.0   \n",
       "\n",
       "       overview_88  overview_89  overview_90  overview_91  overview_92  \\\n",
       "11460          0.0          0.0          0.0          0.0     0.288117   \n",
       "18446          0.0          0.0          0.0          0.0     0.000000   \n",
       "\n",
       "       overview_93  overview_94  overview_95  overview_96  overview_97  \\\n",
       "11460          0.0          0.0          0.0          0.0          0.0   \n",
       "18446          0.0          0.0          0.0          0.0          0.0   \n",
       "\n",
       "       overview_98  overview_99  keywords_0  keywords_1  keywords_2  \\\n",
       "11460     0.256865          0.0           0           0           0   \n",
       "18446     0.000000          0.0           0           0           0   \n",
       "\n",
       "       keywords_3  keywords_4  keywords_5  keywords_6  keywords_7  keywords_8  \\\n",
       "11460           0           0           0           0           0           0   \n",
       "18446           0           0           0           0           0           0   \n",
       "\n",
       "       keywords_9  keywords_10  keywords_11  keywords_12  keywords_13  \\\n",
       "11460           0            0            0            0            0   \n",
       "18446           0            0            0            0            0   \n",
       "\n",
       "       keywords_14  keywords_15  keywords_16  keywords_17  keywords_18  \\\n",
       "11460            0            0            0            0            0   \n",
       "18446            0            0            0            0            0   \n",
       "\n",
       "       keywords_19  keywords_20  keywords_21  keywords_22  keywords_23  \\\n",
       "11460            0            0            0            0            0   \n",
       "18446            0            0            0            0            0   \n",
       "\n",
       "       keywords_24  keywords_25  keywords_26  keywords_27  keywords_28  \\\n",
       "11460            0            0            0            0            0   \n",
       "18446            0            0            0            0            0   \n",
       "\n",
       "       keywords_29  keywords_30  keywords_31  keywords_32  keywords_33  \\\n",
       "11460            0            0            0            0            0   \n",
       "18446            0            0            0            0            0   \n",
       "\n",
       "       keywords_34  keywords_35  keywords_36  keywords_37  keywords_38  \\\n",
       "11460            0            0            0            0            0   \n",
       "18446            0            0            0            0            0   \n",
       "\n",
       "       keywords_39  keywords_40  keywords_41  keywords_42  keywords_43  \\\n",
       "11460            0            0            0            0            0   \n",
       "18446            0            0            0            0            0   \n",
       "\n",
       "       keywords_44  keywords_45  keywords_46  keywords_47  keywords_48  \\\n",
       "11460            0            0            0            0            0   \n",
       "18446            0            0            0            0            0   \n",
       "\n",
       "       keywords_49  keywords_50  keywords_51  keywords_52  keywords_53  \\\n",
       "11460            0            0            0            0            0   \n",
       "18446            0            0            0            0            0   \n",
       "\n",
       "       keywords_54  keywords_55  keywords_56  keywords_57  keywords_58  \\\n",
       "11460            0            0            0            0            0   \n",
       "18446            0            0            0            0            0   \n",
       "\n",
       "       keywords_59  keywords_60  keywords_61  keywords_62  keywords_63  \\\n",
       "11460            0            0            0            0            0   \n",
       "18446            0            0            0            0            1   \n",
       "\n",
       "       keywords_64  keywords_65  keywords_66  keywords_67  keywords_68  \\\n",
       "11460            0            0            0            0            0   \n",
       "18446            0            0            0            0            0   \n",
       "\n",
       "       keywords_69  keywords_70  keywords_71  keywords_72  keywords_73  \\\n",
       "11460            0            0            0            0            0   \n",
       "18446            0            0            0            0            0   \n",
       "\n",
       "       keywords_74  keywords_75  keywords_76  keywords_77  keywords_78  \\\n",
       "11460            0            0            0            0            0   \n",
       "18446            0            0            0            0            0   \n",
       "\n",
       "       keywords_79  keywords_80  keywords_81  keywords_82  keywords_83  \\\n",
       "11460            0            0            0            0            0   \n",
       "18446            0            0            0            0            0   \n",
       "\n",
       "       keywords_84  keywords_85  keywords_86  keywords_87  keywords_88  \\\n",
       "11460            0            0            0            0            0   \n",
       "18446            0            0            0            0            0   \n",
       "\n",
       "       keywords_89  keywords_90  keywords_91  keywords_92  keywords_93  \\\n",
       "11460            0            0            0            0            0   \n",
       "18446            0            0            0            0            0   \n",
       "\n",
       "       keywords_94  keywords_95  keywords_96  keywords_97  keywords_98  \\\n",
       "11460            0            0            0            0            0   \n",
       "18446            0            0            0            0            0   \n",
       "\n",
       "       keywords_99  \n",
       "11460            0  \n",
       "18446            0  "
      ]
     },
     "execution_count": 74,
     "metadata": {},
     "output_type": "execute_result"
    }
   ],
   "source": [
    "X_test.head(2)"
   ]
  },
  {
   "cell_type": "markdown",
   "id": "0d347e06",
   "metadata": {},
   "source": [
    "### Escalamiento"
   ]
  },
  {
   "cell_type": "code",
   "execution_count": 75,
   "id": "7fc6c7a9",
   "metadata": {},
   "outputs": [],
   "source": [
    "from sklearn.preprocessing import MinMaxScaler"
   ]
  },
  {
   "cell_type": "code",
   "execution_count": 76,
   "id": "42ba28a9",
   "metadata": {},
   "outputs": [
    {
     "data": {
      "text/html": [
       "<style>#sk-container-id-1 {color: black;background-color: white;}#sk-container-id-1 pre{padding: 0;}#sk-container-id-1 div.sk-toggleable {background-color: white;}#sk-container-id-1 label.sk-toggleable__label {cursor: pointer;display: block;width: 100%;margin-bottom: 0;padding: 0.3em;box-sizing: border-box;text-align: center;}#sk-container-id-1 label.sk-toggleable__label-arrow:before {content: \"▸\";float: left;margin-right: 0.25em;color: #696969;}#sk-container-id-1 label.sk-toggleable__label-arrow:hover:before {color: black;}#sk-container-id-1 div.sk-estimator:hover label.sk-toggleable__label-arrow:before {color: black;}#sk-container-id-1 div.sk-toggleable__content {max-height: 0;max-width: 0;overflow: hidden;text-align: left;background-color: #f0f8ff;}#sk-container-id-1 div.sk-toggleable__content pre {margin: 0.2em;color: black;border-radius: 0.25em;background-color: #f0f8ff;}#sk-container-id-1 input.sk-toggleable__control:checked~div.sk-toggleable__content {max-height: 200px;max-width: 100%;overflow: auto;}#sk-container-id-1 input.sk-toggleable__control:checked~label.sk-toggleable__label-arrow:before {content: \"▾\";}#sk-container-id-1 div.sk-estimator input.sk-toggleable__control:checked~label.sk-toggleable__label {background-color: #d4ebff;}#sk-container-id-1 div.sk-label input.sk-toggleable__control:checked~label.sk-toggleable__label {background-color: #d4ebff;}#sk-container-id-1 input.sk-hidden--visually {border: 0;clip: rect(1px 1px 1px 1px);clip: rect(1px, 1px, 1px, 1px);height: 1px;margin: -1px;overflow: hidden;padding: 0;position: absolute;width: 1px;}#sk-container-id-1 div.sk-estimator {font-family: monospace;background-color: #f0f8ff;border: 1px dotted black;border-radius: 0.25em;box-sizing: border-box;margin-bottom: 0.5em;}#sk-container-id-1 div.sk-estimator:hover {background-color: #d4ebff;}#sk-container-id-1 div.sk-parallel-item::after {content: \"\";width: 100%;border-bottom: 1px solid gray;flex-grow: 1;}#sk-container-id-1 div.sk-label:hover label.sk-toggleable__label {background-color: #d4ebff;}#sk-container-id-1 div.sk-serial::before {content: \"\";position: absolute;border-left: 1px solid gray;box-sizing: border-box;top: 0;bottom: 0;left: 50%;z-index: 0;}#sk-container-id-1 div.sk-serial {display: flex;flex-direction: column;align-items: center;background-color: white;padding-right: 0.2em;padding-left: 0.2em;position: relative;}#sk-container-id-1 div.sk-item {position: relative;z-index: 1;}#sk-container-id-1 div.sk-parallel {display: flex;align-items: stretch;justify-content: center;background-color: white;position: relative;}#sk-container-id-1 div.sk-item::before, #sk-container-id-1 div.sk-parallel-item::before {content: \"\";position: absolute;border-left: 1px solid gray;box-sizing: border-box;top: 0;bottom: 0;left: 50%;z-index: -1;}#sk-container-id-1 div.sk-parallel-item {display: flex;flex-direction: column;z-index: 1;position: relative;background-color: white;}#sk-container-id-1 div.sk-parallel-item:first-child::after {align-self: flex-end;width: 50%;}#sk-container-id-1 div.sk-parallel-item:last-child::after {align-self: flex-start;width: 50%;}#sk-container-id-1 div.sk-parallel-item:only-child::after {width: 0;}#sk-container-id-1 div.sk-dashed-wrapped {border: 1px dashed gray;margin: 0 0.4em 0.5em 0.4em;box-sizing: border-box;padding-bottom: 0.4em;background-color: white;}#sk-container-id-1 div.sk-label label {font-family: monospace;font-weight: bold;display: inline-block;line-height: 1.2em;}#sk-container-id-1 div.sk-label-container {text-align: center;}#sk-container-id-1 div.sk-container {/* jupyter's `normalize.less` sets `[hidden] { display: none; }` but bootstrap.min.css set `[hidden] { display: none !important; }` so we also need the `!important` here to be able to override the default hidden behavior on the sphinx rendered scikit-learn.org. See: https://github.com/scikit-learn/scikit-learn/issues/21755 */display: inline-block !important;position: relative;}#sk-container-id-1 div.sk-text-repr-fallback {display: none;}</style><div id=\"sk-container-id-1\" class=\"sk-top-container\"><div class=\"sk-text-repr-fallback\"><pre>MinMaxScaler()</pre><b>In a Jupyter environment, please rerun this cell to show the HTML representation or trust the notebook. <br />On GitHub, the HTML representation is unable to render, please try loading this page with nbviewer.org.</b></div><div class=\"sk-container\" hidden><div class=\"sk-item\"><div class=\"sk-estimator sk-toggleable\"><input class=\"sk-toggleable__control sk-hidden--visually\" id=\"sk-estimator-id-1\" type=\"checkbox\" checked><label for=\"sk-estimator-id-1\" class=\"sk-toggleable__label sk-toggleable__label-arrow\">MinMaxScaler</label><div class=\"sk-toggleable__content\"><pre>MinMaxScaler()</pre></div></div></div></div></div>"
      ],
      "text/plain": [
       "MinMaxScaler()"
      ]
     },
     "execution_count": 76,
     "metadata": {},
     "output_type": "execute_result"
    }
   ],
   "source": [
    "sc = MinMaxScaler()\n",
    "sc.fit(X_train)"
   ]
  },
  {
   "cell_type": "code",
   "execution_count": 77,
   "id": "c0350940",
   "metadata": {},
   "outputs": [],
   "source": [
    "X_train = sc.transform(X_train)\n",
    "X_test = sc.transform(X_test)"
   ]
  },
  {
   "cell_type": "markdown",
   "id": "2cb06693",
   "metadata": {},
   "source": [
    "# Modelado"
   ]
  },
  {
   "cell_type": "markdown",
   "id": "d6ba4f6f",
   "metadata": {},
   "source": [
    "### Regresión logística"
   ]
  },
  {
   "cell_type": "markdown",
   "id": "2ae60210",
   "metadata": {},
   "source": [
    "#### Modelo default"
   ]
  },
  {
   "cell_type": "code",
   "execution_count": 78,
   "id": "fb8ef7e3",
   "metadata": {},
   "outputs": [
    {
     "name": "stdout",
     "output_type": "stream",
     "text": [
      "Score en train: 0.6736509940044177\n",
      "Score en test: 0.6566548881036514\n"
     ]
    }
   ],
   "source": [
    "LogModel = SupervisedUtils.LogisticRegression(random_state=12345, n_jobs=-1)\n",
    "LogModel.fit(X_train,y_train)\n",
    "y_LogModel=LogModel.predict(X_test)\n",
    "X_train_score = LogModel.score(X_train,y_train)\n",
    "print(f'Score en train: {X_train_score}')\n",
    "X_test_score = LogModel.score(X_test,y_test)\n",
    "print(f'Score en test: {X_test_score}')"
   ]
  },
  {
   "cell_type": "code",
   "execution_count": 79,
   "id": "7115b457",
   "metadata": {},
   "outputs": [
    {
     "data": {
      "image/png": "[encoded data removed]",
      "text/plain": [
       "<Figure size 432x288 with 1 Axes>"
      ]
     },
     "metadata": {
      "needs_background": "light"
     },
     "output_type": "display_data"
    }
   ],
   "source": [
    "SupervisedUtils.plot_cf(SupervisedUtils.confusion_matrix(y_test,y_LogModel))"
   ]
  },
  {
   "cell_type": "code",
   "execution_count": 80,
   "id": "1778d5aa",
   "metadata": {},
   "outputs": [
    {
     "data": {
      "image/png": "[encoded data removed]",
      "text/plain": [
       "<Figure size 432x288 with 1 Axes>"
      ]
     },
     "metadata": {
      "needs_background": "light"
     },
     "output_type": "display_data"
    }
   ],
   "source": [
    "SupervisedUtils.plot_cf(SupervisedUtils.confusion_matrix(y_train,LogModel.predict(X_train)))"
   ]
  },
  {
   "cell_type": "code",
   "execution_count": 81,
   "id": "f4099063",
   "metadata": {
    "scrolled": true,
    "tags": []
   },
   "outputs": [
    {
     "data": {
      "image/png": "[encoded data removed]",
      "text/plain": [
       "<Figure size 1200x480 with 3 Axes>"
      ]
     },
     "metadata": {
      "needs_background": "light"
     },
     "output_type": "display_data"
    }
   ],
   "source": [
    "acc_LogModel, prec_LogModel, rec_LogModel, roc_LogModel = SupervisedUtils.model_cf('Regresión\\nlogística\\n(Default)',y_test,y_LogModel)"
   ]
  },
  {
   "cell_type": "code",
   "execution_count": 82,
   "id": "6f6a9d1c",
   "metadata": {},
   "outputs": [
    {
     "data": {
      "image/png": "[encoded data removed]",
      "text/plain": [
       "<Figure size 864x432 with 1 Axes>"
      ]
     },
     "metadata": {
      "needs_background": "light"
     },
     "output_type": "display_data"
    }
   ],
   "source": [
    "SupervisedUtils.grafica_curva_roc(y_test,y_LogModel)"
   ]
  },
  {
   "cell_type": "markdown",
   "id": "e66392ba",
   "metadata": {},
   "source": [
    "#### Tunning de parámetro C"
   ]
  },
  {
   "cell_type": "code",
   "execution_count": null,
   "id": "e4b46ad5",
   "metadata": {},
   "outputs": [],
   "source": [
    "# clist = np.logspace(-2,4,20,base=2)\n",
    "\n",
    "# LogitTemp=LogisticRegression(random_state=12345, n_jobs=-1)\n",
    "\n",
    "# train_scores, test_scores = validation_curve(\n",
    "#     LogitTemp,\n",
    "#     X_train,\n",
    "#     y_train,\n",
    "#     param_name='C',\n",
    "#     param_range=clist,\n",
    "#     cv=3,\n",
    "#     n_jobs=-1,\n",
    "#     scoring=\"accuracy\")\n",
    "    "
   ]
  },
  {
   "cell_type": "code",
   "execution_count": null,
   "id": "2ab283f8",
   "metadata": {},
   "outputs": [],
   "source": [
    "# cscores=list(map(np.mean,test_scores))\n",
    "# ctunning = pd.DataFrame(cscores,index=clist,columns=['Score en test'])"
   ]
  },
  {
   "cell_type": "code",
   "execution_count": null,
   "id": "8964b583",
   "metadata": {},
   "outputs": [],
   "source": [
    "# cbest=clist[np.argmax(cscores)]"
   ]
  },
  {
   "cell_type": "code",
   "execution_count": null,
   "id": "30459caa",
   "metadata": {},
   "outputs": [],
   "source": [
    "# ctunning.plot(logx=True,figsize=(20,8))\n",
    "# plt.axvline(x=cbest,label='Valor óptimo',linestyle=':',color='green')\n",
    "# plt.plot([], [],' ',label=f'$C={round(cbest,4)}$')\n",
    "\n",
    "# plt.legend(fontsize = 'large')\n",
    "\n",
    "# for ind,i in enumerate(clist):\n",
    "#     plt.text(i,cscores[ind]-0.15*np.std(cscores),round(i,3))\n",
    "    \n",
    "# plt.xticks([])\n",
    "# plt.title('Efectividad media de una regresión logística con parámetro C',size=20,fontweight='bold')"
   ]
  },
  {
   "cell_type": "markdown",
   "id": "d325f184",
   "metadata": {},
   "source": [
    "#### Mejor regresión logística"
   ]
  },
  {
   "cell_type": "code",
   "execution_count": null,
   "id": "6c771469",
   "metadata": {},
   "outputs": [],
   "source": [
    "# BestLogModel = LogisticRegression(C=cbest,random_state=12345, n_jobs=-1)"
   ]
  },
  {
   "cell_type": "code",
   "execution_count": null,
   "id": "b869a77c",
   "metadata": {},
   "outputs": [],
   "source": [
    "# BestLogModel.fit(X_train,y_train)"
   ]
  },
  {
   "cell_type": "code",
   "execution_count": null,
   "id": "5630f148",
   "metadata": {},
   "outputs": [],
   "source": [
    "# y_BestLogModel = BestLogModel.predict(X_test)"
   ]
  },
  {
   "cell_type": "code",
   "execution_count": null,
   "id": "7aa89505",
   "metadata": {
    "scrolled": true
   },
   "outputs": [],
   "source": [
    "# acc_BestLogModel, prec_BestLogModel, rec_BestLogModel, roc_BestLogModel = model_cf('\\nRegresión\\nlogística\\n\\n(C=5.3556)',y_test,y_BestLogModel)"
   ]
  },
  {
   "cell_type": "code",
   "execution_count": null,
   "id": "4e699224",
   "metadata": {},
   "outputs": [],
   "source": [
    "# grafica_curva_roc(y_test,y_BestLogModel)"
   ]
  },
  {
   "cell_type": "markdown",
   "id": "835d75a6",
   "metadata": {},
   "source": [
    "### Random Forest"
   ]
  },
  {
   "cell_type": "markdown",
   "id": "c5bf6596",
   "metadata": {},
   "source": [
    "#### Modelo default"
   ]
  },
  {
   "cell_type": "code",
   "execution_count": null,
   "id": "0c2bb030",
   "metadata": {},
   "outputs": [],
   "source": [
    "RFModel = SupervisedUtils.RandomForestClassifier(random_state=12345, n_jobs=-1)"
   ]
  },
  {
   "cell_type": "code",
   "execution_count": null,
   "id": "400539f5",
   "metadata": {},
   "outputs": [],
   "source": [
    "RFModel.fit(X_train,y_train)"
   ]
  },
  {
   "cell_type": "code",
   "execution_count": null,
   "id": "a20b3ae6",
   "metadata": {},
   "outputs": [],
   "source": [
    "y_RFModel = RFModel.predict(X_test)"
   ]
  },
  {
   "cell_type": "code",
   "execution_count": null,
   "id": "7115b457",
   "metadata": {},
   "outputs": [],
   "source": [
    "SupervisedUtils.plot_cf(SupervisedUtils.confusion_matrix(y_test,y_RFModel))"
   ]
  },
  {
   "cell_type": "code",
   "execution_count": null,
   "id": "1778d5aa",
   "metadata": {},
   "outputs": [],
   "source": [
    "SupervisedUtils.plot_cf(SupervisedUtils.confusion_matrix(y_train,RFModel.predict(X_train)))"
   ]
  },
  {
   "cell_type": "code",
   "execution_count": null,
   "id": "7047ad5f",
   "metadata": {},
   "outputs": [],
   "source": [
    "RFModel.score(X_train,y_train)"
   ]
  },
  {
   "cell_type": "code",
   "execution_count": null,
   "id": "092c3c4b",
   "metadata": {},
   "outputs": [],
   "source": [
    "RFModel.score(X_test,y_test)"
   ]
  },
  {
   "cell_type": "code",
   "execution_count": null,
   "id": "ba28f873",
   "metadata": {},
   "outputs": [],
   "source": [
    "acc_RFModel, prec_RFmodel, rec_RFModel, roc_RFModel = SupervisedUtils.model_cf('Random Forest\\n(Default)',y_test,y_RFModel)"
   ]
  },
  {
   "cell_type": "code",
   "execution_count": null,
   "id": "342e391b",
   "metadata": {},
   "outputs": [],
   "source": [
    "SupervisedUtils.grafica_curva_roc(y_test,y_RFModel)"
   ]
  },
  {
   "cell_type": "code",
   "execution_count": null,
   "id": "d132550a",
   "metadata": {},
   "outputs": [],
   "source": [
    "for tn, tt in scv.split(X_cv,y_cv):\n",
    "    print(RFModel.score(X_cv[tn],y_cv[tn])) \n",
    "    "
   ]
  },
  {
   "cell_type": "markdown",
   "id": "d8a67c0f",
   "metadata": {},
   "source": [
    "#### Tunning de parámetros"
   ]
  },
  {
   "cell_type": "code",
   "execution_count": null,
   "id": "f11f1364",
   "metadata": {},
   "outputs": [],
   "source": [
    "param_grid={'criterion' : ['gini','entropy'],\n",
    "            'min_samples_split' : [2,4,6,10],\n",
    "            'min_samples_leaf' : [1,2,3],\n",
    "           }"
   ]
  },
  {
   "cell_type": "code",
   "execution_count": null,
   "id": "6a4c1034",
   "metadata": {},
   "outputs": [],
   "source": [
    "RF = RandomForestClassifier(random_state=12345, n_jobs=-1)"
   ]
  },
  {
   "cell_type": "code",
   "execution_count": null,
   "id": "1192cd07",
   "metadata": {
    "jupyter": {
     "outputs_hidden": true
    },
    "scrolled": true,
    "tags": []
   },
   "outputs": [],
   "source": [
    "search_RF = HalvingGridSearchCV(RF, resource='n_estimators', max_resources=200,cv=3, param_grid=param_grid,factor = 2,random_state=12345,verbose=np.inf,scoring=\"accuracy\").fit(X_train, y_train)"
   ]
  },
  {
   "cell_type": "code",
   "execution_count": null,
   "id": "c6276ed2",
   "metadata": {},
   "outputs": [],
   "source": [
    "rftunning=pd.DataFrame(search_RF.cv_results_)"
   ]
  },
  {
   "cell_type": "code",
   "execution_count": null,
   "id": "726f56d7",
   "metadata": {},
   "outputs": [],
   "source": [
    "indrfmax=np.argmax(rftunning['mean_test_score'])\n",
    "rfbest=rftunning.iloc[indrfmax,:]"
   ]
  },
  {
   "cell_type": "code",
   "execution_count": null,
   "id": "2de792a8",
   "metadata": {},
   "outputs": [],
   "source": [
    "plt.figure(figsize=(8, 6), dpi=80)\n",
    "    \n",
    "ax1 = plt.subplot2grid((1, 10), (0, 0),colspan=7)\n",
    "ax2 = plt.subplot2grid((1, 10), (0, 7),colspan=4)\n",
    "\n",
    "rftunning.plot(use_index=True, y='mean_test_score',figsize=(20,8),ax=ax1)\n",
    "\n",
    "for ind,i in enumerate(rftunning.index):\n",
    "    ax1.text(ind,rftunning['mean_test_score'][ind],str(ind),ha='center')\n",
    "\n",
    "ax1.set_xticks([])\n",
    "ax1.axvline(x=indrfmax,label='Modelo óptimo',linestyle=':',color='green')\n",
    "ax1.plot([],[],' ',label=f\"Score: {round(rftunning['mean_test_score'][indrfmax],4)}\")\n",
    "ax1.legend()\n",
    "\n",
    "auxrf=rftunning[[x for x in rftunning if 'param_' in x]]\n",
    "\n",
    "bbox=[0.25,0,1,1]\n",
    "\n",
    "table = ax2.table(cellText = auxrf.values, rowLabels = ['Modelo: ' + str(x) for x in auxrf.index],bbox=bbox,colLabels=[x.replace('param_','') for x in auxrf.columns])\n",
    "ax2.axis('off')\n",
    "\n",
    "plt.suptitle('Efectividad media usando diversos parámetros en un modelo Random Forest\\n(3K Fold CV)',size=20,fontweight='bold')"
   ]
  },
  {
   "cell_type": "markdown",
   "id": "72229324",
   "metadata": {
    "tags": []
   },
   "source": [
    "#### Mejor modelo Random Forest"
   ]
  },
  {
   "cell_type": "markdown",
   "id": "9c4d20d2",
   "metadata": {},
   "source": [
    "> Nuestro mejor modelo Random Forest tiene los siguientes parámetros"
   ]
  },
  {
   "cell_type": "code",
   "execution_count": null,
   "id": "fc8a0c3d",
   "metadata": {},
   "outputs": [],
   "source": [
    "auxrf.iloc[indrfmax,:]"
   ]
  },
  {
   "cell_type": "code",
   "execution_count": null,
   "id": "e58b43ed",
   "metadata": {},
   "outputs": [],
   "source": [
    "BestRFModel = RandomForestClassifier(criterion='entropy',min_samples_leaf=3,min_samples_split=4,n_estimators=48,random_state=12345, n_jobs=-1)"
   ]
  },
  {
   "cell_type": "code",
   "execution_count": null,
   "id": "b599c864",
   "metadata": {},
   "outputs": [],
   "source": [
    "BestRFModel.fit(X_train,y_train)"
   ]
  },
  {
   "cell_type": "code",
   "execution_count": null,
   "id": "23d486fd",
   "metadata": {},
   "outputs": [],
   "source": [
    "y_BestRFModel = BestRFModel.predict(X_test)"
   ]
  },
  {
   "cell_type": "code",
   "execution_count": null,
   "id": "40b6e80a",
   "metadata": {
    "tags": []
   },
   "outputs": [],
   "source": [
    "acc_BestRFModel, prec_BestRFModel, rec_BestRFModel, roc_BestRFModel = model_cf('\\nRandom Forest\\n (Mejor modelo)',y_test,y_BestRFModel)"
   ]
  },
  {
   "cell_type": "code",
   "execution_count": null,
   "id": "c1d07a43",
   "metadata": {},
   "outputs": [],
   "source": [
    "grafica_curva_roc(y_test,y_BestRFModel)"
   ]
  },
  {
   "cell_type": "markdown",
   "id": "2fffaaca",
   "metadata": {},
   "source": [
    "### KNN"
   ]
  },
  {
   "cell_type": "markdown",
   "id": "ad7e3593",
   "metadata": {},
   "source": [
    "#### Modelo default"
   ]
  },
  {
   "cell_type": "code",
   "execution_count": null,
   "id": "67c38b86",
   "metadata": {},
   "outputs": [],
   "source": [
    "KNNModel = SupervisedUtils.KNeighborsClassifier(n_jobs=-1)"
   ]
  },
  {
   "cell_type": "code",
   "execution_count": null,
   "id": "03994bfe",
   "metadata": {},
   "outputs": [],
   "source": [
    "KNNModel.fit(X_train,y_train)"
   ]
  },
  {
   "cell_type": "code",
   "execution_count": null,
   "id": "153452e2",
   "metadata": {},
   "outputs": [],
   "source": [
    "y_KNNModel = KNNModel.predict(X_test)"
   ]
  },
  {
   "cell_type": "code",
   "execution_count": null,
   "id": "7115b457",
   "metadata": {},
   "outputs": [],
   "source": [
    "SupervisedUtils.plot_cf(SupervisedUtils.confusion_matrix(y_test,y_KNNModel))"
   ]
  },
  {
   "cell_type": "code",
   "execution_count": null,
   "id": "1778d5aa",
   "metadata": {},
   "outputs": [],
   "source": [
    "SupervisedUtils.plot_cf(SupervisedUtils.confusion_matrix(y_train,KNNModel.predict(X_train)))"
   ]
  },
  {
   "cell_type": "code",
   "execution_count": null,
   "id": "7047ad5f",
   "metadata": {},
   "outputs": [],
   "source": [
    "KNNModel.score(X_train,y_train)"
   ]
  },
  {
   "cell_type": "code",
   "execution_count": null,
   "id": "092c3c4b",
   "metadata": {},
   "outputs": [],
   "source": [
    "KNNModel.score(X_test,y_test)"
   ]
  },
  {
   "cell_type": "code",
   "execution_count": null,
   "id": "987b85c0",
   "metadata": {},
   "outputs": [],
   "source": [
    "acc_KNNModel, prec_KNNModel, rec_KNNModel, roc_KNNModel = SupervisedUtils.model_cf('K Nearest Neighbors\\n(Default K=5)',y_test,y_KNNModel)"
   ]
  },
  {
   "cell_type": "code",
   "execution_count": null,
   "id": "cbc22c8f",
   "metadata": {},
   "outputs": [],
   "source": [
    "SupervisedUtils.grafica_curva_roc(y_test,y_KNNModel)"
   ]
  },
  {
   "cell_type": "markdown",
   "id": "c519d06f",
   "metadata": {},
   "source": [
    "#### Tunning de parámetros"
   ]
  },
  {
   "cell_type": "code",
   "execution_count": null,
   "id": "e4d1f5fb",
   "metadata": {},
   "outputs": [],
   "source": [
    "param_grid={'n_neighbors':[5,10,100],\n",
    "            'weights' : ['uniform', 'distance'],\n",
    "            'leaf_size':[10,30,50,100],\n",
    "            'p':[1,2]\n",
    "           }"
   ]
  },
  {
   "cell_type": "code",
   "execution_count": null,
   "id": "037a7dc3",
   "metadata": {},
   "outputs": [],
   "source": [
    "KNN = KNeighborsClassifier(n_jobs=-1)"
   ]
  },
  {
   "cell_type": "code",
   "execution_count": null,
   "id": "29a1e037",
   "metadata": {
    "jupyter": {
     "outputs_hidden": true
    },
    "tags": []
   },
   "outputs": [],
   "source": [
    "search_KNN = HalvingGridSearchCV(KNN, cv=3, param_grid=param_grid,factor = 2,random_state=12345,verbose=np.inf,scoring=\"accuracy\").fit(X_train, y_train)"
   ]
  },
  {
   "cell_type": "code",
   "execution_count": null,
   "id": "79c50147",
   "metadata": {},
   "outputs": [],
   "source": [
    "knntunning=pd.DataFrame(search_KNN.cv_results_)"
   ]
  },
  {
   "cell_type": "code",
   "execution_count": null,
   "id": "b3e61f43",
   "metadata": {},
   "outputs": [],
   "source": [
    "indknnmax=np.argmax(knntunning['mean_test_score'])\n",
    "knnbest=knntunning.iloc[indknnmax,:]"
   ]
  },
  {
   "cell_type": "code",
   "execution_count": null,
   "id": "7572a0eb",
   "metadata": {},
   "outputs": [],
   "source": [
    "plt.figure(figsize=(30, 8), dpi=80)\n",
    "    \n",
    "ax1 = plt.subplot2grid((1, 10), (0, 0),colspan=7)\n",
    "ax2 = plt.subplot2grid((1, 10), (0, 7),colspan=4)\n",
    "\n",
    "knntunning.plot(use_index=True, y='mean_test_score',figsize=(20,8),ax=ax1)\n",
    "\n",
    "for ind,i in enumerate(knntunning.index):\n",
    "    ax1.text(ind,knntunning['mean_test_score'][ind],str(ind),ha='center',size=7)\n",
    "\n",
    "ax1.set_xticks([])\n",
    "ax1.axvline(x=indknnmax,label='Modelo óptimo',linestyle=':',color='green')\n",
    "ax1.plot([],[],' ',label=f\"Score: {round(knntunning['mean_test_score'][indknnmax],4)}\")\n",
    "ax1.legend()\n",
    "\n",
    "auxknn=knntunning[[x for x in knntunning if 'param_' in x]]\n",
    "\n",
    "bbox=[0.25,0,1,1]\n",
    "\n",
    "table = ax2.table(cellText = auxknn.values, rowLabels = ['Modelo: ' + str(x) for x in auxknn.index],bbox=bbox,colLabels=[x.replace('param_','') for x in auxknn.columns])\n",
    "ax2.axis('off')\n",
    "\n",
    "table.auto_set_font_size(False)\n",
    "table.set_fontsize(7)\n",
    "table.scale(2, 2)\n",
    "\n",
    "plt.suptitle('Efectividad media usando diversos parámetros en un modelo KNN\\n(3K Fold CV)',size=20,fontweight='bold')"
   ]
  },
  {
   "cell_type": "markdown",
   "id": "ae88c9cd",
   "metadata": {},
   "source": [
    "#### Mejor modelo KNN"
   ]
  },
  {
   "cell_type": "markdown",
   "id": "bc9a107f",
   "metadata": {},
   "source": [
    "> Los mejores parámetros para un modelo KNN son:"
   ]
  },
  {
   "cell_type": "code",
   "execution_count": null,
   "id": "ec0ee470",
   "metadata": {},
   "outputs": [],
   "source": [
    "auxknn.iloc[indknnmax,:]"
   ]
  },
  {
   "cell_type": "code",
   "execution_count": null,
   "id": "ab7dd5c3",
   "metadata": {},
   "outputs": [],
   "source": [
    "BestKNNModel = KNeighborsClassifier(n_neighbors=100,leaf_size=100,p=2,weights='distance',n_jobs=-1)"
   ]
  },
  {
   "cell_type": "code",
   "execution_count": null,
   "id": "19fc616e",
   "metadata": {},
   "outputs": [],
   "source": [
    "BestKNNModel.fit(X_train,y_train)"
   ]
  },
  {
   "cell_type": "code",
   "execution_count": null,
   "id": "66eb565f",
   "metadata": {},
   "outputs": [],
   "source": [
    "y_BestKNNModel = BestKNNModel.predict(X_test)"
   ]
  },
  {
   "cell_type": "code",
   "execution_count": null,
   "id": "4fc0e611",
   "metadata": {},
   "outputs": [],
   "source": [
    "acc_BestKNNModel, prec_BestKNNModel, rec_BestKNNModel, roc_BestKNNModel = model_cf('\\nKNN\\n (Mejor modelo)',y_test,y_BestKNNModel)"
   ]
  },
  {
   "cell_type": "code",
   "execution_count": null,
   "id": "2b3ff7ea",
   "metadata": {},
   "outputs": [],
   "source": [
    "grafica_curva_roc(y_test,y_BestKNNModel)"
   ]
  },
  {
   "cell_type": "markdown",
   "id": "7fef126c",
   "metadata": {},
   "source": [
    "### Ensambles"
   ]
  },
  {
   "cell_type": "markdown",
   "id": "427ade80",
   "metadata": {
    "tags": []
   },
   "source": [
    "#### Ensamble de modelos default"
   ]
  },
  {
   "cell_type": "code",
   "execution_count": null,
   "id": "fbc87a4e",
   "metadata": {
    "scrolled": true
   },
   "outputs": [],
   "source": [
    "y_preds_def= pd.DataFrame(y_LogModel, columns=['Regresión logística'])\n",
    "y_preds_def['Random Forest']=y_RFModel\n",
    "y_preds_def['KNN']=y_KNNModel\n",
    "y_preds_def['Emsable modelos default']=y_preds_def.mode(axis=1)\n",
    "y_ensdefault=y_preds_def['Emsable modelos default']\n",
    "y_preds_def.head(10)"
   ]
  },
  {
   "cell_type": "code",
   "execution_count": null,
   "id": "2f56eace",
   "metadata": {},
   "outputs": [],
   "source": [
    "acc_ensdefault, prec_ensdefault, rec_ensdefault, roc_ensdefault = model_cf('Emsable:\\n modelos default',y_test,y_ensdefault)"
   ]
  },
  {
   "cell_type": "markdown",
   "id": "c5d6049d",
   "metadata": {
    "tags": []
   },
   "source": [
    "#### Ensamble de modelos seleccionados"
   ]
  },
  {
   "cell_type": "code",
   "execution_count": null,
   "id": "33e29f9e",
   "metadata": {
    "scrolled": true
   },
   "outputs": [],
   "source": [
    "y_preds_best= pd.DataFrame(y_BestLogModel, columns=['Regresión logística'])\n",
    "y_preds_best['Random Forest']=y_BestRFModel\n",
    "y_preds_best['KNN']=y_BestKNNModel\n",
    "y_preds_best['Emsable mejores modelos']=y_preds_best.mode(axis=1)\n",
    "y_ensbest=y_preds_best['Emsable mejores modelos']\n",
    "y_preds_best.head(10)"
   ]
  },
  {
   "cell_type": "code",
   "execution_count": null,
   "id": "bbba59e5",
   "metadata": {},
   "outputs": [],
   "source": [
    "acc_ensbest, prec_ensbest, rec_ensbest, roc_ensbest = model_cf('Emsable:\\n mejores modelos',y_test,y_ensbest)"
   ]
  },
  {
   "cell_type": "markdown",
   "id": "4549343e",
   "metadata": {},
   "source": [
    "### Comparación de modelos"
   ]
  },
  {
   "cell_type": "markdown",
   "id": "73742070",
   "metadata": {},
   "source": [
    "#### Métricas de modelos default"
   ]
  },
  {
   "cell_type": "code",
   "execution_count": null,
   "id": "dd204e8d",
   "metadata": {},
   "outputs": [],
   "source": [
    "ModelMetricsDef= pd.DataFrame([acc_LogModel,prec_LogModel,rec_LogModel,roc_LogModel],index=['Efectividad','Precision','Recall','ROC AUC - Score'],columns=['Regresión logística'])\n",
    "ModelMetricsDef['Random Forest']=[acc_RFModel,prec_RFmodel,rec_RFModel,roc_RFModel]\n",
    "ModelMetricsDef['KNN']=[acc_KNNModel,prec_KNNModel,rec_KNNModel,roc_KNNModel]\n",
    "ModelMetricsDef['Ensamble: Default']=[acc_ensdefault,prec_ensdefault,rec_ensdefault,roc_ensdefault]"
   ]
  },
  {
   "cell_type": "code",
   "execution_count": null,
   "id": "bb981b47",
   "metadata": {},
   "outputs": [],
   "source": [
    "ModelMetricsDef"
   ]
  },
  {
   "cell_type": "code",
   "execution_count": null,
   "id": "77541cbb",
   "metadata": {},
   "outputs": [],
   "source": [
    "# ModelMetricsDef_TFID=ModelMetricsDef\n",
    "# save_object(ModelMetricsDef_TFID,'ModelMetricsDef_TFID')"
   ]
  },
  {
   "cell_type": "code",
   "execution_count": null,
   "id": "3914f3bb",
   "metadata": {},
   "outputs": [],
   "source": [
    "# ModelMetricsDef = load_object('ModelMetricsDef_TFID.pkl')\n",
    "# ModelMetricsDef_TFID=ModelMetricsDef"
   ]
  },
  {
   "cell_type": "markdown",
   "id": "7274ed6c",
   "metadata": {},
   "source": [
    "#### Métricas de modelos seleccionados"
   ]
  },
  {
   "cell_type": "code",
   "execution_count": null,
   "id": "1b121329",
   "metadata": {},
   "outputs": [],
   "source": [
    "ModelMetrics= pd.DataFrame([acc_BestLogModel,prec_BestLogModel,rec_BestLogModel,roc_BestLogModel],index=['Efectividad','Precision','Recall','ROC AUC - Score'],columns=['Regresión logística'])\n",
    "ModelMetrics['Random Forest']=[acc_BestRFModel,prec_BestRFModel,rec_BestRFModel,roc_RFModel]\n",
    "ModelMetrics['KNN']=[acc_BestKNNModel,prec_BestKNNModel,rec_BestKNNModel,roc_BestKNNModel]\n",
    "ModelMetrics['Ensamble: Mejores modelos']=[acc_ensbest,prec_ensbest,rec_ensbest,roc_ensbest]"
   ]
  },
  {
   "cell_type": "code",
   "execution_count": null,
   "id": "b483dd40",
   "metadata": {},
   "outputs": [],
   "source": [
    "ModelMetrics"
   ]
  },
  {
   "cell_type": "code",
   "execution_count": null,
   "id": "e8f61654",
   "metadata": {},
   "outputs": [],
   "source": [
    "# ModelMetrics_TFID=ModelMetrics\n",
    "# save_object(ModelMetrics_TFID,'ModelMetrics_TFID')"
   ]
  },
  {
   "cell_type": "code",
   "execution_count": null,
   "id": "c7566754",
   "metadata": {},
   "outputs": [],
   "source": [
    "# ModelMetrics = load_object('ModelMetrics_TFID.pkl')\n",
    "# ModelMetrics_TFID=ModelMetrics"
   ]
  },
  {
   "cell_type": "markdown",
   "id": "30eb9e57",
   "metadata": {
    "tags": []
   },
   "source": [
    "### Resumen"
   ]
  },
  {
   "cell_type": "code",
   "execution_count": null,
   "id": "22396a60",
   "metadata": {},
   "outputs": [],
   "source": [
    "fig = plt.figure(figsize=(15,8))\n",
    "ax = fig.add_axes([0,0,1,1])\n",
    "\n",
    "xticks = np.arange(4)\n",
    "\n",
    "colors = ['b','r','g','y']\n",
    "\n",
    "ax.plot([],[],' ',label=\"$\\\\bf{Modelos\\ seleccionados}$\")\n",
    "\n",
    "for ind,i in enumerate(ModelMetrics.columns):\n",
    "    ax.bar(xticks + ind/5, ModelMetrics[i], color = colors[ind], width = 1/7,alpha=0.5,label=i)\n",
    "    \n",
    "plt.plot([],[],' ',label='Modelos default')\n",
    "\n",
    "for ind,i in enumerate(ModelMetricsDef.columns):\n",
    "    ax.bar(xticks + ind/5, ModelMetricsDef[i],edgecolor =colors[ind], width = 1/9,label=i,fill=False)\n",
    "    \n",
    "    \n",
    "handles, labels = plt.gca().get_legend_handles_labels()\n",
    "\n",
    "#specify order of items in legend\n",
    "order = [0,2,3,4,5,1,6,7,8,9]\n",
    "\n",
    "#add legend to plot\n",
    "plt.legend([handles[idx] for idx in order],[labels[idx] for idx in order],ncol=2) \n",
    "\n",
    "ax.set_xticks(xticks+0.3, ('Efectividad', 'Precision', 'Recall', 'ROC AUC'))\n",
    "\n",
    "fig.suptitle('Métricas de modelos entrenados', size=25,fontstyle='italic',fontweight='bold')"
   ]
  },
  {
   "cell_type": "code",
   "execution_count": null,
   "id": "9c6702ad",
   "metadata": {},
   "outputs": [],
   "source": [
    "iterables=[['Modelos seleccionados','Modelos default'],ModelMetrics.columns]"
   ]
  },
  {
   "cell_type": "code",
   "execution_count": null,
   "id": "2f716e6a",
   "metadata": {},
   "outputs": [],
   "source": [
    "Metrics = pd.concat([ModelMetrics,ModelMetricsDef],axis=1)"
   ]
  },
  {
   "cell_type": "code",
   "execution_count": null,
   "id": "7dd2dcb7",
   "metadata": {},
   "outputs": [],
   "source": [
    "Metrics.columns=pd.MultiIndex.from_product(iterables, names=[\"\", \"\"])"
   ]
  },
  {
   "cell_type": "code",
   "execution_count": null,
   "id": "6b1250ed",
   "metadata": {},
   "outputs": [],
   "source": [
    "Metrics"
   ]
  },
  {
   "cell_type": "markdown",
   "id": "e250c4e5",
   "metadata": {},
   "source": [
    "> De los modelos anterior expuestos, podemos observar que el que en general tiene mejor performance es la regresión logística.  Los demás modelos tienen métricas bastante malas en comparación y por esta razon es que el ensable no nos ayuda mucho a mejorar nuestra predicción. Este podría ser un caso donde un modelo indivual actúa mejor que el ensamble.\n",
    "\n",
    "> De momento, hasta no realizar el bootstrap, podemos decir que **nuestro mejor candidato es la regresión logística regularizada con el valor de C = 5.3556**"
   ]
  },
  {
   "cell_type": "markdown",
   "id": "c80a4859",
   "metadata": {},
   "source": [
    "## Modelos ocupando Doc2Vec"
   ]
  },
  {
   "cell_type": "code",
   "execution_count": null,
   "id": "371f3c78",
   "metadata": {},
   "outputs": [],
   "source": [
    "from gensim.models import Doc2Vec\n",
    "from gensim.models.doc2vec import TaggedDocument"
   ]
  },
  {
   "cell_type": "markdown",
   "id": "f91b23e9",
   "metadata": {},
   "source": [
    "> Como se había comentado, para la parte de Doc2Vec, nuestra variable independiente no debía someterse a un proceso de limpieza tan agresivo, por lo cual, para la parte de modelo debemos de cambiar esta variable para obtener mejores métricas."
   ]
  },
  {
   "cell_type": "code",
   "execution_count": null,
   "id": "896c1336",
   "metadata": {},
   "outputs": [],
   "source": [
    "# y = np.array(['topic'])\n",
    "y = np.array(movies['Rating'])\n",
    "y= np.where(y=='Bueno',1,0)\n",
    "\n",
    "X = movies['review_semiclean']"
   ]
  },
  {
   "cell_type": "code",
   "execution_count": null,
   "id": "3e594b99",
   "metadata": {},
   "outputs": [],
   "source": [
    "# Separamos nuestros datos de entrenamiento y validación\n",
    "\n",
    "X_train, X_test, y_train, y_test = train_test_split(X, y, test_size=0.3, random_state=12345)"
   ]
  },
  {
   "cell_type": "code",
   "execution_count": null,
   "id": "035caad6",
   "metadata": {},
   "outputs": [],
   "source": [
    "db = pd.DataFrame(np.array([X_train,y_train]).transpose(),columns=['X','y'])"
   ]
  },
  {
   "cell_type": "markdown",
   "id": "8e322c65",
   "metadata": {},
   "source": [
    "### Elección del número de features"
   ]
  },
  {
   "cell_type": "markdown",
   "id": "4af8bf5f",
   "metadata": {},
   "source": [
    "> Al igual que para los modelos ocupando TF-IDF, para Doc2Vec el número de parámetros debe ser optimizado.  \n",
    "\n",
    "> La idea es la misma que para TF-IDF, se generará un grid de número de features y elegiremos con base en las métricas de modelos default ocupando dichos valores de la grid."
   ]
  },
  {
   "cell_type": "code",
   "execution_count": null,
   "id": "6bd6f358",
   "metadata": {},
   "outputs": [],
   "source": [
    "def dv2_train_test(X_train,X_test,taggeds,n_features,epochs):\n",
    "    print('Entrenando modelo d2v')\n",
    "    d2v = Doc2Vec(vector_size=n_features, min_count=1, epochs=epochs)\n",
    "    d2v.build_vocab(taggeds)\n",
    "    d2v.train(taggeds, total_examples=d2v.corpus_count, epochs=d2v.epochs)\n",
    "    \n",
    "    print('Creando matriz de entrenamiento')\n",
    "    auxlist=list()\n",
    "\n",
    "    for t in taggeds:\n",
    "        v = d2v.infer_vector(t[0])\n",
    "        auxlist.append(v)\n",
    "    \n",
    "    X_train_d2v=pd.DataFrame(auxlist)\n",
    "\n",
    "    print('Creando matriz de validacion')\n",
    "    \n",
    "    auxlist=list()\n",
    "\n",
    "    for t in X_test:\n",
    "        v = d2v.infer_vector(t.split())\n",
    "        auxlist.append(v)\n",
    "        \n",
    "    X_test_d2v=pd.DataFrame(auxlist)\n",
    "    \n",
    "    return X_train_d2v,X_test_d2v"
   ]
  },
  {
   "cell_type": "code",
   "execution_count": null,
   "id": "ec740de7",
   "metadata": {
    "tags": []
   },
   "outputs": [],
   "source": [
    "def try_d2v(model,X_train,X_test,y_train,y_test):\n",
    "    \n",
    "    model.fit(X_train,y_train)\n",
    "    \n",
    "    return model.score(X_test,y_test)"
   ]
  },
  {
   "cell_type": "code",
   "execution_count": null,
   "id": "d9ba6d68",
   "metadata": {},
   "outputs": [],
   "source": [
    "train_tagged = db.apply(lambda r: TaggedDocument(words=r['X'].split(), tags=[r['y']]), axis=1)"
   ]
  },
  {
   "cell_type": "code",
   "execution_count": null,
   "id": "a3c21b83",
   "metadata": {},
   "outputs": [],
   "source": [
    "nfeat=[25,50,100,250,500,1000,2000,3000,4000]"
   ]
  },
  {
   "cell_type": "code",
   "execution_count": null,
   "id": "55275b84",
   "metadata": {},
   "outputs": [],
   "source": [
    "X_trainsets_d2v=list()\n",
    "X_testsets_d2v=list()\n",
    "for n in nfeat:\n",
    "    trainaux, testaux =dv2_train_test(X_train,X_test,train_tagged,n,10)\n",
    "    X_trainsets_d2v.append(trainaux)\n",
    "    X_testsets_d2v.append(testaux)\n",
    "    print('------------------')\n",
    "    print('\\n')"
   ]
  },
  {
   "cell_type": "code",
   "execution_count": null,
   "id": "834cea20",
   "metadata": {},
   "outputs": [],
   "source": [
    "save_object(X_trainsets_d2v,'d2v_trainsets')\n",
    "save_object(X_testsets_d2v,'d2v_testsets')"
   ]
  },
  {
   "cell_type": "markdown",
   "id": "257214d6",
   "metadata": {},
   "source": [
    "#### Regresión logística"
   ]
  },
  {
   "cell_type": "code",
   "execution_count": null,
   "id": "1d517a4b",
   "metadata": {
    "scrolled": true,
    "tags": []
   },
   "outputs": [],
   "source": [
    "LogitModel = LogisticRegression(random_state=12345, n_jobs=-1)\n",
    "\n",
    "logitscores=list()\n",
    "\n",
    "for ind, i in enumerate(X_trainsets_d2v):\n",
    "    print('--------------------')\n",
    "    score=try_d2v(LogitModel,X_trainsets_d2v[ind],X_testsets_d2v[ind],y_train,y_test)\n",
    "    logitscores.append(score)\n",
    "    print(f'Score con {nfeat[ind]} features: {score}')\n",
    "    print('--------------------')\n",
    "    \n",
    "    print('\\n')"
   ]
  },
  {
   "cell_type": "markdown",
   "id": "fb34cf84",
   "metadata": {},
   "source": [
    "#### Random Forest"
   ]
  },
  {
   "cell_type": "code",
   "execution_count": null,
   "id": "6c5ba8cc",
   "metadata": {
    "tags": []
   },
   "outputs": [],
   "source": [
    "RF = RandomForestClassifier(random_state=12345, n_jobs=-1)\n",
    "\n",
    "rfscores=list()\n",
    "\n",
    "for ind, i in enumerate(X_trainsets_d2v):\n",
    "    print('--------------------')\n",
    "    score=try_d2v(RF,X_trainsets_d2v[ind],X_testsets_d2v[ind],y_train,y_test)\n",
    "    rfscores.append(score)\n",
    "    print(f'Score con {nfeat[ind]} features: {score}')\n",
    "    print('--------------------')\n",
    "    \n",
    "    print('\\n')"
   ]
  },
  {
   "cell_type": "markdown",
   "id": "ce1a7466",
   "metadata": {},
   "source": [
    "#### KNN"
   ]
  },
  {
   "cell_type": "code",
   "execution_count": null,
   "id": "c53fc793",
   "metadata": {
    "tags": []
   },
   "outputs": [],
   "source": [
    "KNN = KNeighborsClassifier(n_jobs=-1)\n",
    "\n",
    "knnscores=list()\n",
    "\n",
    "for ind, i in enumerate(X_trainsets_d2v):\n",
    "    print('--------------------')\n",
    "    score=try_d2v(KNN,X_trainsets_d2v[ind],X_testsets_d2v[ind],y_train,y_test)\n",
    "    knnscores.append(score)\n",
    "    print(f'Score con {nfeat[ind]} features: {score}')\n",
    "    print('--------------------')\n",
    "    \n",
    "    print('\\n')"
   ]
  },
  {
   "cell_type": "markdown",
   "id": "18a8e445",
   "metadata": {},
   "source": [
    "#### Elección final del número de features"
   ]
  },
  {
   "cell_type": "code",
   "execution_count": null,
   "id": "86928837",
   "metadata": {},
   "outputs": [],
   "source": [
    "ntunning=pd.DataFrame(logitscores,index=nfeat,columns=['Regresión Logistica'])\n",
    "ntunning['Random Forest']=rfscores\n",
    "ntunning['KNN']=knnscores"
   ]
  },
  {
   "cell_type": "code",
   "execution_count": null,
   "id": "793e8606",
   "metadata": {},
   "outputs": [],
   "source": [
    "ntunning"
   ]
  },
  {
   "cell_type": "code",
   "execution_count": null,
   "id": "41d9e3a3",
   "metadata": {
    "scrolled": false
   },
   "outputs": [],
   "source": [
    "ntunning.plot(logx=True,figsize=(20,8))\n",
    "\n",
    "for ind,i in enumerate(nfeat):\n",
    "    plt.text(i,logitscores[ind]-0.0035,i)\n",
    "    \n",
    "plt.xticks([])\n",
    "plt.title('Score de modelos default con diferente número de features',size=20,fontweight='bold')"
   ]
  },
  {
   "cell_type": "markdown",
   "id": "2108fdaa",
   "metadata": {},
   "source": [
    "> Vemos que para el caso de la regresió logística, a mayor número de features, su score va incrementando, sin embargo, para los otros modelos es casi lo contrario.\n",
    "\n",
    ">> Por lo tanto, en virtud de dar un buen performance general a los tres modelos, **se optará por elegir 50 como número de features para los modelos con Doc2Vec**"
   ]
  },
  {
   "cell_type": "code",
   "execution_count": null,
   "id": "59f8686f",
   "metadata": {},
   "outputs": [],
   "source": [
    "train_tagged = db.apply(lambda r: TaggedDocument(words=r['X'].split(), tags=[r['y']]), axis=1)"
   ]
  },
  {
   "cell_type": "code",
   "execution_count": null,
   "id": "3d5eb235",
   "metadata": {},
   "outputs": [],
   "source": [
    "print('Entrenando modelo d2v')\n",
    "\n",
    "d2v = Doc2Vec(vector_size=50, min_count=1, epochs=10)\n",
    "d2v.build_vocab(train_tagged)\n",
    "d2v.train(train_tagged, total_examples=d2v.corpus_count, epochs=d2v.epochs)\n",
    "\n",
    "print('Creando matriz de entrenamiento')\n",
    "\n",
    "auxlist=list()\n",
    "\n",
    "for t in train_tagged:\n",
    "    v = d2v.infer_vector(t[0])\n",
    "    auxlist.append(v)\n",
    "    \n",
    "X_train_d2v=pd.DataFrame(auxlist)\n",
    "\n",
    "print('Creando matriz de validacion')\n",
    "    \n",
    "auxlist=list()\n",
    "\n",
    "for t in X_test:\n",
    "    v = d2v.infer_vector(t.split())\n",
    "    auxlist.append(v)\n",
    "        \n",
    "X_test_d2v=pd.DataFrame(auxlist)"
   ]
  },
  {
   "cell_type": "markdown",
   "id": "5d5e4c83",
   "metadata": {},
   "source": [
    "### Regresión logística"
   ]
  },
  {
   "cell_type": "markdown",
   "id": "511ced1c",
   "metadata": {},
   "source": [
    "#### Modelo default"
   ]
  },
  {
   "cell_type": "code",
   "execution_count": null,
   "id": "e4df6f1f",
   "metadata": {},
   "outputs": [],
   "source": [
    "LogModel = LogisticRegression(random_state=12345, n_jobs=-1)"
   ]
  },
  {
   "cell_type": "code",
   "execution_count": null,
   "id": "84c5334a",
   "metadata": {},
   "outputs": [],
   "source": [
    "LogModel.fit(X_train_d2v,y_train)"
   ]
  },
  {
   "cell_type": "code",
   "execution_count": null,
   "id": "7335389c",
   "metadata": {},
   "outputs": [],
   "source": [
    "y_LogModel=LogModel.predict(X_test_d2v)"
   ]
  },
  {
   "cell_type": "code",
   "execution_count": null,
   "id": "57510a98",
   "metadata": {
    "tags": []
   },
   "outputs": [],
   "source": [
    "acc_LogModel, prec_LogModel, rec_LogModel, roc_LogModel = model_cf('Regresión\\nlogística\\n(Default)',y_test,y_LogModel)"
   ]
  },
  {
   "cell_type": "code",
   "execution_count": null,
   "id": "92824115",
   "metadata": {},
   "outputs": [],
   "source": [
    "grafica_curva_roc(y_test,y_LogModel)"
   ]
  },
  {
   "cell_type": "markdown",
   "id": "1769c427",
   "metadata": {},
   "source": [
    "#### Tunning de parámetro C"
   ]
  },
  {
   "cell_type": "code",
   "execution_count": null,
   "id": "ba3cf591",
   "metadata": {},
   "outputs": [],
   "source": [
    "clist = np.logspace(-2,4,20,base=2)\n",
    "\n",
    "LogitTemp=LogisticRegression(random_state=12345, n_jobs=-1)\n",
    "\n",
    "train_scores, test_scores = validation_curve(\n",
    "    LogitTemp,\n",
    "    X_train_d2v,\n",
    "    y_train,\n",
    "    param_name='C',\n",
    "    param_range=clist,\n",
    "    cv=3,\n",
    "    n_jobs=-1,\n",
    "    scoring=\"accuracy\")\n",
    "    "
   ]
  },
  {
   "cell_type": "code",
   "execution_count": null,
   "id": "5a7a1ab3",
   "metadata": {},
   "outputs": [],
   "source": [
    "cscores=list(map(np.mean,test_scores))\n",
    "ctunning = pd.DataFrame(cscores,index=clist,columns=['Score en test'])"
   ]
  },
  {
   "cell_type": "code",
   "execution_count": null,
   "id": "1e0ff68c",
   "metadata": {},
   "outputs": [],
   "source": [
    "cbest=clist[np.argmax(cscores)]"
   ]
  },
  {
   "cell_type": "code",
   "execution_count": null,
   "id": "ed61af74",
   "metadata": {},
   "outputs": [],
   "source": [
    "ctunning.plot(logx=True,figsize=(20,8))\n",
    "plt.axvline(x=cbest,label='Valor óptimo',linestyle=':',color='green')\n",
    "plt.plot([], [],' ',label=f'$C={round(cbest,4)}$')\n",
    "\n",
    "plt.legend(fontsize = 'large')\n",
    "\n",
    "for ind,i in enumerate(clist):\n",
    "    plt.text(i,cscores[ind]-0.15*np.std(cscores),round(i,3))\n",
    "    \n",
    "plt.xticks([])\n",
    "plt.title('Efectividad media de una regresión logística con parámetro C',size=20,fontweight='bold')"
   ]
  },
  {
   "cell_type": "markdown",
   "id": "0e2f1fd4",
   "metadata": {},
   "source": [
    "#### Mejor regresión logística"
   ]
  },
  {
   "cell_type": "code",
   "execution_count": null,
   "id": "b972cd69",
   "metadata": {},
   "outputs": [],
   "source": [
    "BestLogModel = LogisticRegression(C=cbest,random_state=12345, n_jobs=-1)"
   ]
  },
  {
   "cell_type": "code",
   "execution_count": null,
   "id": "df6e5742",
   "metadata": {},
   "outputs": [],
   "source": [
    "BestLogModel.fit(X_train_d2v,y_train)"
   ]
  },
  {
   "cell_type": "code",
   "execution_count": null,
   "id": "bfb6fc5c",
   "metadata": {},
   "outputs": [],
   "source": [
    "y_BestLogModel = BestLogModel.predict(X_test_d2v)"
   ]
  },
  {
   "cell_type": "code",
   "execution_count": null,
   "id": "09dc4286",
   "metadata": {},
   "outputs": [],
   "source": [
    "acc_BestLogModel, prec_BestLogModel, rec_BestLogModel, roc_BestLogModel = model_cf('\\nRegresión\\nlogística\\n\\n(C=8.2972)',y_test,y_BestLogModel)"
   ]
  },
  {
   "cell_type": "code",
   "execution_count": null,
   "id": "680a394e",
   "metadata": {},
   "outputs": [],
   "source": [
    "grafica_curva_roc(y_test,y_BestLogModel)"
   ]
  },
  {
   "cell_type": "markdown",
   "id": "8de1574a",
   "metadata": {},
   "source": [
    "### Random Forest"
   ]
  },
  {
   "cell_type": "markdown",
   "id": "7e987fdd",
   "metadata": {},
   "source": [
    "#### Modelo default"
   ]
  },
  {
   "cell_type": "code",
   "execution_count": null,
   "id": "aaddc25d",
   "metadata": {},
   "outputs": [],
   "source": [
    "RFModel = RandomForestClassifier(random_state=12345, n_jobs=-1)"
   ]
  },
  {
   "cell_type": "code",
   "execution_count": null,
   "id": "c98a3df4",
   "metadata": {},
   "outputs": [],
   "source": [
    "RFModel.fit(X_train_d2v,y_train)"
   ]
  },
  {
   "cell_type": "code",
   "execution_count": null,
   "id": "2695b4d1",
   "metadata": {},
   "outputs": [],
   "source": [
    "y_RFModel = RFModel.predict(X_test_d2v)"
   ]
  },
  {
   "cell_type": "code",
   "execution_count": null,
   "id": "6d6b6b78",
   "metadata": {},
   "outputs": [],
   "source": [
    "acc_RFModel, prec_RFmodel, rec_RFModel, roc_RFModel = model_cf('Random Forest\\n(Default)',y_test,y_RFModel)"
   ]
  },
  {
   "cell_type": "code",
   "execution_count": null,
   "id": "fbccb695",
   "metadata": {},
   "outputs": [],
   "source": [
    "grafica_curva_roc(y_test,y_RFModel)"
   ]
  },
  {
   "cell_type": "markdown",
   "id": "60a5cfaa",
   "metadata": {},
   "source": [
    "#### Tunning de parámetros"
   ]
  },
  {
   "cell_type": "code",
   "execution_count": null,
   "id": "b315a540",
   "metadata": {},
   "outputs": [],
   "source": [
    "param_grid={'criterion' : ['gini','entropy'],\n",
    "            'min_samples_split' : [2,4,6,10],\n",
    "            'min_samples_leaf' : [1,2,3],\n",
    "           }"
   ]
  },
  {
   "cell_type": "code",
   "execution_count": null,
   "id": "5cc3f5ed",
   "metadata": {},
   "outputs": [],
   "source": [
    "RF = RandomForestClassifier(random_state=12345, n_jobs=-1)"
   ]
  },
  {
   "cell_type": "code",
   "execution_count": null,
   "id": "8fd9a906",
   "metadata": {
    "tags": []
   },
   "outputs": [],
   "source": [
    "search_RF = HalvingGridSearchCV(RF, resource='n_estimators', max_resources=200,cv=3, param_grid=param_grid,factor = 2,random_state=12345,verbose=np.inf,scoring=\"accuracy\").fit(X_train_d2v, y_train)"
   ]
  },
  {
   "cell_type": "code",
   "execution_count": null,
   "id": "dd30c45a",
   "metadata": {},
   "outputs": [],
   "source": [
    "rftunning=pd.DataFrame(search_RF.cv_results_)"
   ]
  },
  {
   "cell_type": "code",
   "execution_count": null,
   "id": "3fadba5a",
   "metadata": {},
   "outputs": [],
   "source": [
    "indrfmax=np.argmax(rftunning['mean_test_score'])\n",
    "rfbest=rftunning.iloc[indrfmax,:]"
   ]
  },
  {
   "cell_type": "code",
   "execution_count": null,
   "id": "261d2331",
   "metadata": {},
   "outputs": [],
   "source": [
    "plt.figure(figsize=(8, 6), dpi=80)\n",
    "    \n",
    "ax1 = plt.subplot2grid((1, 10), (0, 0),colspan=7)\n",
    "ax2 = plt.subplot2grid((1, 10), (0, 7),colspan=4)\n",
    "\n",
    "rftunning.plot(use_index=True, y='mean_test_score',figsize=(20,8),ax=ax1)\n",
    "\n",
    "for ind,i in enumerate(rftunning.index):\n",
    "    ax1.text(ind,rftunning['mean_test_score'][ind],str(ind),ha='center')\n",
    "\n",
    "ax1.set_xticks([])\n",
    "ax1.axvline(x=indrfmax,label='Modelo óptimo',linestyle=':',color='green')\n",
    "ax1.plot([],[],' ',label=f\"Score: {round(rftunning['mean_test_score'][indrfmax],4)}\")\n",
    "ax1.legend()\n",
    "\n",
    "auxrf=rftunning[[x for x in rftunning if 'param_' in x]]\n",
    "\n",
    "bbox=[0.25,0,1,1]\n",
    "\n",
    "table = ax2.table(cellText = auxrf.values, rowLabels = ['Modelo: ' + str(x) for x in auxrf.index],bbox=bbox,colLabels=[x.replace('param_','') for x in auxrf.columns])\n",
    "ax2.axis('off')\n",
    "\n",
    "plt.suptitle('Efectividad media usando diversos parámetros en un modelo Random Forest\\n(3K Fold CV)',size=20,fontweight='bold')"
   ]
  },
  {
   "cell_type": "markdown",
   "id": "6d4b2c42",
   "metadata": {
    "tags": []
   },
   "source": [
    "#### Mejor modelo Random Forest"
   ]
  },
  {
   "cell_type": "markdown",
   "id": "5942f2e2",
   "metadata": {},
   "source": [
    "> Nuestro mejor modelo Random Forest tiene los siguientes parámetros"
   ]
  },
  {
   "cell_type": "code",
   "execution_count": null,
   "id": "9a0d3f74",
   "metadata": {},
   "outputs": [],
   "source": [
    "auxrf.iloc[indrfmax,:]"
   ]
  },
  {
   "cell_type": "code",
   "execution_count": null,
   "id": "ec856147",
   "metadata": {},
   "outputs": [],
   "source": [
    "BestRFModel = RandomForestClassifier(criterion='entropy',min_samples_leaf=3,min_samples_split=10,n_estimators=192,random_state=12345, n_jobs=-1)"
   ]
  },
  {
   "cell_type": "code",
   "execution_count": null,
   "id": "abc57070",
   "metadata": {},
   "outputs": [],
   "source": [
    "BestRFModel.fit(X_train_d2v,y_train)"
   ]
  },
  {
   "cell_type": "code",
   "execution_count": null,
   "id": "537fdb74",
   "metadata": {},
   "outputs": [],
   "source": [
    "y_BestRFModel = BestRFModel.predict(X_test_d2v)"
   ]
  },
  {
   "cell_type": "code",
   "execution_count": null,
   "id": "f5b436df",
   "metadata": {},
   "outputs": [],
   "source": [
    "acc_BestRFModel, prec_BestRFModel, rec_BestRFModel, roc_BestRFModel = model_cf('\\nRandom Forest\\n (Mejor modelo)',y_test,y_BestRFModel)"
   ]
  },
  {
   "cell_type": "code",
   "execution_count": null,
   "id": "ba71b42e",
   "metadata": {},
   "outputs": [],
   "source": [
    "grafica_curva_roc(y_test,y_BestRFModel)"
   ]
  },
  {
   "cell_type": "markdown",
   "id": "a7db9665",
   "metadata": {},
   "source": [
    "### KNN"
   ]
  },
  {
   "cell_type": "markdown",
   "id": "b88ba250",
   "metadata": {},
   "source": [
    "#### Modelo default"
   ]
  },
  {
   "cell_type": "code",
   "execution_count": null,
   "id": "c8bf9d39",
   "metadata": {},
   "outputs": [],
   "source": [
    "KNNModel = KNeighborsClassifier(n_jobs=-1)"
   ]
  },
  {
   "cell_type": "code",
   "execution_count": null,
   "id": "ebbc3ba8",
   "metadata": {},
   "outputs": [],
   "source": [
    "KNNModel.fit(X_train_d2v,y_train)"
   ]
  },
  {
   "cell_type": "code",
   "execution_count": null,
   "id": "88ce66e8",
   "metadata": {},
   "outputs": [],
   "source": [
    "y_KNNModel = KNNModel.predict(X_test_d2v)"
   ]
  },
  {
   "cell_type": "code",
   "execution_count": null,
   "id": "01033de7",
   "metadata": {},
   "outputs": [],
   "source": [
    "acc_KNNModel, prec_KNNModel, rec_KNNModel, roc_KNNModel = model_cf('K Nearest Neighbors\\n(Default K=5)',y_test,y_KNNModel)"
   ]
  },
  {
   "cell_type": "code",
   "execution_count": null,
   "id": "48f48a00",
   "metadata": {},
   "outputs": [],
   "source": [
    "grafica_curva_roc(y_test,y_KNNModel)"
   ]
  },
  {
   "cell_type": "markdown",
   "id": "09dfe551",
   "metadata": {},
   "source": [
    "#### Tunning de parámetros"
   ]
  },
  {
   "cell_type": "code",
   "execution_count": null,
   "id": "b3e3d718",
   "metadata": {},
   "outputs": [],
   "source": [
    "param_grid={'n_neighbors':[5,10,100],\n",
    "            'weights' : ['uniform', 'distance'],\n",
    "            'leaf_size':[10,30,50,100],\n",
    "            'p':[1,2]\n",
    "           }"
   ]
  },
  {
   "cell_type": "code",
   "execution_count": null,
   "id": "9c5e1a30",
   "metadata": {},
   "outputs": [],
   "source": [
    "KNN = KNeighborsClassifier(n_jobs=-1)"
   ]
  },
  {
   "cell_type": "code",
   "execution_count": null,
   "id": "f974e03b",
   "metadata": {},
   "outputs": [],
   "source": [
    "search_KNN = HalvingGridSearchCV(KNN, cv=3, param_grid=param_grid,factor = 2,random_state=12345,verbose=np.inf,scoring=\"accuracy\").fit(X_train_d2v, y_train)"
   ]
  },
  {
   "cell_type": "code",
   "execution_count": null,
   "id": "40b27274",
   "metadata": {},
   "outputs": [],
   "source": [
    "knntunning=pd.DataFrame(search_KNN.cv_results_)"
   ]
  },
  {
   "cell_type": "code",
   "execution_count": null,
   "id": "7ee1d71d",
   "metadata": {},
   "outputs": [],
   "source": [
    "indknnmax=np.argmax(knntunning['mean_test_score'])\n",
    "knnbest=knntunning.iloc[indknnmax,:]"
   ]
  },
  {
   "cell_type": "code",
   "execution_count": null,
   "id": "1747db29",
   "metadata": {},
   "outputs": [],
   "source": [
    "plt.figure(figsize=(8, 6), dpi=80)\n",
    "    \n",
    "ax1 = plt.subplot2grid((1, 10), (0, 0),colspan=7)\n",
    "ax2 = plt.subplot2grid((1, 10), (0, 7),colspan=4)\n",
    "\n",
    "knntunning.plot(use_index=True, y='mean_test_score',figsize=(20,8),ax=ax1)\n",
    "\n",
    "for ind,i in enumerate(knntunning.index):\n",
    "    ax1.text(ind,knntunning['mean_test_score'][ind],str(ind),ha='center')\n",
    "\n",
    "ax1.set_xticks([])\n",
    "ax1.axvline(x=indknnmax,label='Modelo óptimo',linestyle=':',color='green')\n",
    "ax1.plot([],[],' ',label=f\"Score: {round(knntunning['mean_test_score'][indknnmax],4)}\")\n",
    "ax1.legend()\n",
    "\n",
    "auxknn=knntunning[[x for x in knntunning if 'param_' in x]]\n",
    "\n",
    "bbox=[0.25,0,1,1]\n",
    "\n",
    "table = ax2.table(cellText = auxknn.values, rowLabels = ['Modelo: ' + str(x) for x in auxknn.index],bbox=bbox,colLabels=[x.replace('param_','') for x in auxknn.columns])\n",
    "ax2.axis('off')\n",
    "\n",
    "plt.suptitle('Efectividad media usando diversos parámetros en un modelo KNN\\n(3K Fold CV)',size=20,fontweight='bold')"
   ]
  },
  {
   "cell_type": "markdown",
   "id": "8f602192",
   "metadata": {},
   "source": [
    "#### Mejor modelo KNN"
   ]
  },
  {
   "cell_type": "markdown",
   "id": "4bd4456b",
   "metadata": {},
   "source": [
    "> Los mejores parámetros para un modelo KNN son:"
   ]
  },
  {
   "cell_type": "code",
   "execution_count": null,
   "id": "3f25453c",
   "metadata": {},
   "outputs": [],
   "source": [
    "auxknn.iloc[indknnmax,:]"
   ]
  },
  {
   "cell_type": "code",
   "execution_count": null,
   "id": "854ca65a",
   "metadata": {},
   "outputs": [],
   "source": [
    "BestKNNModel = KNeighborsClassifier(n_neighbors=10,leaf_size=30,p=2,weights='distance',n_jobs=-1)"
   ]
  },
  {
   "cell_type": "code",
   "execution_count": null,
   "id": "2b4f4cca",
   "metadata": {},
   "outputs": [],
   "source": [
    "BestKNNModel.fit(X_train_d2v,y_train)"
   ]
  },
  {
   "cell_type": "code",
   "execution_count": null,
   "id": "7c23d709",
   "metadata": {},
   "outputs": [],
   "source": [
    "y_BestKNNModel = BestKNNModel.predict(X_test_d2v)"
   ]
  },
  {
   "cell_type": "code",
   "execution_count": null,
   "id": "cf0bf593",
   "metadata": {},
   "outputs": [],
   "source": [
    "acc_BestKNNModel, prec_BestKNNModel, rec_BestKNNModel, roc_BestKNNModel = model_cf('\\nKNN\\n (Mejor modelo)',y_test,y_BestKNNModel)"
   ]
  },
  {
   "cell_type": "code",
   "execution_count": null,
   "id": "5afa6725",
   "metadata": {},
   "outputs": [],
   "source": [
    "grafica_curva_roc(y_test,y_BestKNNModel)"
   ]
  },
  {
   "cell_type": "markdown",
   "id": "3d8e58e3",
   "metadata": {},
   "source": [
    "### Ensambles"
   ]
  },
  {
   "cell_type": "markdown",
   "id": "b4f66b55",
   "metadata": {},
   "source": [
    "#### Ensambles de modelos default"
   ]
  },
  {
   "cell_type": "code",
   "execution_count": null,
   "id": "9aeb504d",
   "metadata": {},
   "outputs": [],
   "source": [
    "y_preds_def= pd.DataFrame(y_LogModel, columns=['Regresión logística'])\n",
    "y_preds_def['Random Forest']=y_RFModel\n",
    "y_preds_def['KNN']=y_KNNModel\n",
    "y_preds_def['Emsable modelos default']=y_preds_def.mode(axis=1)\n",
    "y_ensdefault=y_preds_def['Emsable modelos default']\n",
    "y_preds_def.head(10)"
   ]
  },
  {
   "cell_type": "code",
   "execution_count": null,
   "id": "bcc15e1c",
   "metadata": {},
   "outputs": [],
   "source": [
    "acc_ensdefault, prec_ensdefault, rec_ensdefault, roc_ensdefault = model_cf('Emsable:\\n modelos default',y_test,y_ensdefault)"
   ]
  },
  {
   "cell_type": "markdown",
   "id": "f7bb49fa",
   "metadata": {},
   "source": [
    "#### Ensamble de modelos seleccionados"
   ]
  },
  {
   "cell_type": "code",
   "execution_count": null,
   "id": "84554e67",
   "metadata": {},
   "outputs": [],
   "source": [
    "y_preds_best= pd.DataFrame(y_BestLogModel, columns=['Regresión logística'])\n",
    "y_preds_best['Random Forest']=y_BestRFModel\n",
    "y_preds_best['KNN']=y_BestKNNModel\n",
    "y_preds_best['Emsable mejores modelos']=y_preds_best.mode(axis=1)\n",
    "y_ensbest=y_preds_best['Emsable mejores modelos']\n",
    "y_preds_best.head(10)"
   ]
  },
  {
   "cell_type": "code",
   "execution_count": null,
   "id": "598c9293",
   "metadata": {},
   "outputs": [],
   "source": [
    "acc_ensbest, prec_ensbest, rec_ensbest, roc_ensbest = model_cf('Emsable:\\n mejores modelos',y_test,y_ensbest)"
   ]
  },
  {
   "cell_type": "markdown",
   "id": "a6889015",
   "metadata": {},
   "source": [
    "### Comparación de modelos"
   ]
  },
  {
   "cell_type": "markdown",
   "id": "1dfd2578",
   "metadata": {},
   "source": [
    "#### Métricas de modelos default"
   ]
  },
  {
   "cell_type": "code",
   "execution_count": null,
   "id": "db8745a0",
   "metadata": {},
   "outputs": [],
   "source": [
    "ModelMetricsDef= pd.DataFrame([acc_LogModel,prec_LogModel,rec_LogModel,roc_LogModel],index=['Efectividad','Precision','Recall','ROC AUC - Score'],columns=['Regresión logística'])\n",
    "ModelMetricsDef['Random Forest']=[acc_RFModel,prec_RFmodel,rec_RFModel,roc_RFModel]\n",
    "ModelMetricsDef['KNN']=[acc_KNNModel,prec_KNNModel,rec_KNNModel,roc_KNNModel]\n",
    "ModelMetricsDef['Ensamble: Default']=[acc_ensdefault,prec_ensdefault,rec_ensdefault,roc_ensdefault]"
   ]
  },
  {
   "cell_type": "code",
   "execution_count": null,
   "id": "2f671bc3",
   "metadata": {},
   "outputs": [],
   "source": [
    "ModelMetricsDef"
   ]
  },
  {
   "cell_type": "code",
   "execution_count": null,
   "id": "4a2ae4e1",
   "metadata": {},
   "outputs": [],
   "source": [
    "ModelMetricsDef_d2v = ModelMetricsDef\n",
    "save_object(ModelMetricsDef_d2v,'ModelMetricsDef_d2v')"
   ]
  },
  {
   "cell_type": "markdown",
   "id": "a87fe6a4",
   "metadata": {},
   "source": [
    "#### Métricas de modelos seleccionados"
   ]
  },
  {
   "cell_type": "code",
   "execution_count": null,
   "id": "ffa8a50c",
   "metadata": {},
   "outputs": [],
   "source": [
    "ModelMetrics= pd.DataFrame([acc_BestLogModel,prec_BestLogModel,rec_BestLogModel,roc_BestLogModel],index=['Efectividad','Precision','Recall','ROC AUC - Score'],columns=['Regresión logística'])\n",
    "ModelMetrics['Random Forest']=[acc_BestRFModel,prec_BestRFModel,rec_BestRFModel,roc_RFModel]\n",
    "ModelMetrics['KNN']=[acc_BestKNNModel,prec_BestKNNModel,rec_BestKNNModel,roc_BestKNNModel]\n",
    "ModelMetrics['Ensamble: Mejores modelos']=[acc_ensbest,prec_ensbest,rec_ensbest,roc_ensbest]"
   ]
  },
  {
   "cell_type": "code",
   "execution_count": null,
   "id": "9fe225d7",
   "metadata": {},
   "outputs": [],
   "source": [
    "ModelMetrics"
   ]
  },
  {
   "cell_type": "code",
   "execution_count": null,
   "id": "827ab98b",
   "metadata": {},
   "outputs": [],
   "source": [
    "ModelMetrics_d2v = ModelMetrics\n",
    "save_object(ModelMetrics_d2v,'ModelMetrics_d2v')"
   ]
  },
  {
   "cell_type": "markdown",
   "id": "c8a96eda",
   "metadata": {},
   "source": [
    "### Resumen"
   ]
  },
  {
   "cell_type": "code",
   "execution_count": null,
   "id": "c51a564f",
   "metadata": {},
   "outputs": [],
   "source": [
    "fig = plt.figure(figsize=(15,8))\n",
    "ax = fig.add_axes([0,0,1,1])\n",
    "\n",
    "xticks = np.arange(4)\n",
    "\n",
    "colors = ['b','r','g','y']\n",
    "\n",
    "ax.plot([],[],' ',label=\"$\\\\bf{Modelos\\ seleccionados}$\")\n",
    "\n",
    "for ind,i in enumerate(ModelMetrics.columns):\n",
    "    ax.bar(xticks + ind/5, ModelMetrics[i], color = colors[ind], width = 1/7,alpha=0.5,label=i)\n",
    "    \n",
    "plt.plot([],[],' ',label='Modelos default')\n",
    "\n",
    "for ind,i in enumerate(ModelMetricsDef.columns):\n",
    "    ax.bar(xticks + ind/5, ModelMetricsDef[i],edgecolor =colors[ind], width = 1/9,label=i,fill=False)\n",
    "    \n",
    "    \n",
    "handles, labels = plt.gca().get_legend_handles_labels()\n",
    "\n",
    "#specify order of items in legend\n",
    "order = [0,2,3,4,5,1,6,7,8,9]\n",
    "\n",
    "#add legend to plot\n",
    "plt.legend([handles[idx] for idx in order],[labels[idx] for idx in order],ncol=2) \n",
    "\n",
    "ax.set_xticks(xticks+0.3, ('Efectividad', 'Precision', 'Recall', 'ROC AUC'))\n",
    "\n",
    "fig.suptitle('Métricas de modelos entrenados', size=25,fontstyle='italic',fontweight='bold')"
   ]
  },
  {
   "cell_type": "code",
   "execution_count": null,
   "id": "ff45348f",
   "metadata": {},
   "outputs": [],
   "source": [
    "iterables=[['Modelos seleccionados','Modelos default'],ModelMetrics.columns]"
   ]
  },
  {
   "cell_type": "code",
   "execution_count": null,
   "id": "20b7003b",
   "metadata": {},
   "outputs": [],
   "source": [
    "Metrics = pd.concat([ModelMetrics,ModelMetricsDef],axis=1)"
   ]
  },
  {
   "cell_type": "code",
   "execution_count": null,
   "id": "6d92247e",
   "metadata": {},
   "outputs": [],
   "source": [
    "Metrics.columns=pd.MultiIndex.from_product(iterables, names=[\"\", \"\"])"
   ]
  },
  {
   "cell_type": "code",
   "execution_count": null,
   "id": "2a401b4c",
   "metadata": {
    "scrolled": false
   },
   "outputs": [],
   "source": [
    "Metrics"
   ]
  },
  {
   "cell_type": "markdown",
   "id": "d2b45ae9",
   "metadata": {},
   "source": [
    "> De igual manera, **el mejor modelo entrenando con Doc2Vec resultó ser la regresión logística.**  De entre todos los candidatos, preservo la igualdad en las métricas.\n",
    ">\n",
    "> Lo realmente destacable de este método de word embedding es que **obtuvo métricas bastante similares al TF-IDF sin ocupar tanto tiempo en realizar la computación**, por lo cual, este método tiene una ventaja enorme contra TF-IDF. Además de que no fue necesario realizar tanto análisis para lograr incrementar nuestras métricas"
   ]
  },
  {
   "cell_type": "markdown",
   "id": "f70dd7eb",
   "metadata": {},
   "source": [
    "## TF-IDF vs Doc2Vec"
   ]
  },
  {
   "cell_type": "code",
   "execution_count": null,
   "id": "65be13ee",
   "metadata": {},
   "outputs": [],
   "source": [
    "fig = plt.figure(figsize=(15,8))\n",
    "ax = fig.add_axes([0,0,1,1])\n",
    "\n",
    "xticks = np.arange(4)\n",
    "\n",
    "colors = ['b','r','g','y']\n",
    "\n",
    "ax.plot([],[],' ',label=\"Modelos entrenados con TF-IDF\")\n",
    "\n",
    "for ind,i in enumerate(ModelMetricsDef_TFID.columns):\n",
    "    ax.bar(xticks + ind/5, ModelMetricsDef_TFID[i], color = colors[ind], width = 1/7,alpha=0.5,label=i)\n",
    "    \n",
    "plt.plot([],[],' ',label='Modelos entrenados con Doc2Vec')\n",
    "\n",
    "for ind,i in enumerate(ModelMetricsDef_d2v.columns):\n",
    "    ax.bar(xticks + ind/5, ModelMetricsDef_d2v[i],edgecolor =colors[ind], width = 1/9,label=i,fill=False)\n",
    "    \n",
    "    \n",
    "handles, labels = plt.gca().get_legend_handles_labels()\n",
    "\n",
    "#specify order of items in legend\n",
    "order = [0,2,3,4,5,1,6,7,8,9]\n",
    "\n",
    "#add legend to plot\n",
    "plt.legend([handles[idx] for idx in order],[labels[idx] for idx in order],ncol=2) \n",
    "\n",
    "ax.set_xticks(xticks+0.3, ('Efectividad', 'Precision', 'Recall', 'ROC AUC'))\n",
    "\n",
    "fig.suptitle('TF-IDF vs Doc2Vec\\n (Modelos default)', y=1.115,size=25,fontstyle='italic',fontweight='bold')"
   ]
  },
  {
   "cell_type": "code",
   "execution_count": null,
   "id": "9277eb95",
   "metadata": {},
   "outputs": [],
   "source": [
    "fig = plt.figure(figsize=(15,8))\n",
    "ax = fig.add_axes([0,0,1,1])\n",
    "\n",
    "xticks = np.arange(4)\n",
    "\n",
    "colors = ['b','r','g','y']\n",
    "\n",
    "ax.plot([],[],' ',label=\"Modelos entrenados con TF-IDF\")\n",
    "\n",
    "for ind,i in enumerate(ModelMetrics_TFID.columns):\n",
    "    ax.bar(xticks + ind/5, ModelMetrics_TFID[i], color = colors[ind], width = 1/7,alpha=0.5,label=i)\n",
    "    \n",
    "plt.plot([],[],' ',label='Modelos entrenados con Doc2Vec')\n",
    "\n",
    "for ind,i in enumerate(ModelMetrics_d2v.columns):\n",
    "    ax.bar(xticks + ind/5, ModelMetrics_d2v[i],edgecolor =colors[ind], width = 1/9,label=i,fill=False)\n",
    "    \n",
    "    \n",
    "handles, labels = plt.gca().get_legend_handles_labels()\n",
    "\n",
    "#specify order of items in legend\n",
    "order = [0,2,3,4,5,1,6,7,8,9]\n",
    "\n",
    "#add legend to plot\n",
    "plt.legend([handles[idx] for idx in order],[labels[idx] for idx in order],ncol=2) \n",
    "\n",
    "ax.set_xticks(xticks+0.3, ('Efectividad', 'Precision', 'Recall', 'ROC AUC'))\n",
    "\n",
    "fig.suptitle('TF-IDF vs Doc2Vec\\n (Mejores modelos)', y=1.115,size=25,fontstyle='italic',fontweight='bold')"
   ]
  },
  {
   "cell_type": "markdown",
   "id": "5a394f34",
   "metadata": {},
   "source": [
    "> Salvo bootstrap diga lo contrario, podemos afirmar que **nuestro mejor modelo**, independientemente del tipo de word embedding empleado, **es la regresión logística regularizada.**  \n",
    ">\n",
    "> Y referente a lo anterior, podemos realizar un par de observaciones:\n",
    ">\n",
    "> * Cuando se empezo a trabajar los modelos con TF-IDF, eran realmente malos sin considerar el análisis de varianza expuesto, por lo cual, Doc2Vec logró métricas excepcionales sin incurrir a tanto análisis.\n",
    "> * **La ventaja principal respecto a estos dos métodos es el tiempo de computación.** Claramente es notorio, mientras que para lograr unas métricas similares **con TF-IDF nos tómo casi 70 minutos, con Doc2Vec nos tomó 10 aproximadamente.**\n",
    "> * En general, podríamos decir que si se emplea un método de word embedding mas sofisticado es mas sencillo entrenar un modelo de clasificación de texto y obtener mejores métricas\n"
   ]
  },
  {
   "cell_type": "markdown",
   "id": "e7e6cb51",
   "metadata": {},
   "source": [
    "# Elección de modelo y bootstrap"
   ]
  },
  {
   "cell_type": "markdown",
   "id": "5a49c87f",
   "metadata": {},
   "source": [
    "## TF-IDF"
   ]
  },
  {
   "cell_type": "markdown",
   "id": "2f2412d0",
   "metadata": {},
   "source": [
    "> Como se menciono anteriormente en el análisis de varianza, el proceso para la reducción de dimensión fue efectivo pero tarda demasiado en ejecutarse (60 minutos aproximadamente), por lo cual, si queremos llevar a la aplicación este método a un proceso bootstrap, simple y sencillamente no terminaríamos, únicamente de reducir dimensiones esperariamos 60 minutos en cada iteración. Si hicieramos 1000 iteraciones, el proceso **tardaría 41 días siendo bastante optimistas**.\n"
   ]
  },
  {
   "cell_type": "markdown",
   "id": "4af0672d",
   "metadata": {},
   "source": [
    "> En consencuencia de lo anterior, se intentó realizar este proceso en reiteradas ocasiones intentando si quiera el mínimo de iteraciones (10), sin embargo, el método jamas terminaba (se moría el kernel, se acaba la memoria, la maquina se congelaba). **Por lo cual, realizar bootstrap con un modelo de reducción de dimensión tan ambicioso no es viable.**\n",
    ">\n",
    "> La implementación de bootstrap es la siguiente aunque no se haya concluido."
   ]
  },
  {
   "cell_type": "code",
   "execution_count": null,
   "id": "1ad9c820",
   "metadata": {},
   "outputs": [],
   "source": [
    "BestLogModel = LogisticRegression(C=8.297240355569535,random_state=12345, n_jobs=-1)\n",
    "BestRFModel = RandomForestClassifier(criterion='entropy',min_samples_leaf=3,min_samples_split=10,n_estimators=192,random_state=12345, n_jobs=-1)\n",
    "BestKNNModel = KNeighborsClassifier(n_neighbors=10,leaf_size=30,p=2,weights='distance',n_jobs=-1)"
   ]
  },
  {
   "cell_type": "markdown",
   "id": "a849ebdf",
   "metadata": {},
   "source": [
    "### Bootstrap"
   ]
  },
  {
   "cell_type": "code",
   "execution_count": null,
   "id": "31dec6b1",
   "metadata": {},
   "outputs": [],
   "source": [
    "t0 = time.time()\n",
    "\n",
    "num_records = y.shape[0]\n",
    "bootstrap_errors_logit = []\n",
    "bootstrap_errors_rf = []\n",
    "bootstrap_errors_knn = []\n",
    "bootstrap_errors_ens = []\n",
    "\n",
    "np.random.seed(0)\n",
    "\n",
    "for i in range(250):\n",
    "    train_indices = np.random.choice(range(num_records), num_records, replace=True)\n",
    "    test_indices = np.setdiff1d(range(num_records), train_indices)\n",
    "    \n",
    "    X_train_b, y_train_b = np.array(X)[train_indices], y[train_indices]\n",
    "    X_test_b, y_test_b = np.array(X)[test_indices], y[test_indices]\n",
    "    \n",
    "    db = pd.DataFrame(np.array([X_train_b,y_train_b]).transpose(),columns=['X','y'])\n",
    "    \n",
    "    train_tagged = db.apply(lambda r: TaggedDocument(words=r['X'].split(), tags=[r['y']]), axis=1)\n",
    "    \n",
    "    d2v = Doc2Vec(vector_size=50, min_count=1, epochs=10)\n",
    "    d2v.build_vocab(train_tagged)\n",
    "    d2v.train(train_tagged, total_examples=d2v.corpus_count, epochs=d2v.epochs)\n",
    "\n",
    "    auxlist=list()\n",
    "\n",
    "    for t in train_tagged:\n",
    "        v = d2v.infer_vector(t[0])\n",
    "        auxlist.append(v)\n",
    "    \n",
    "    X_train_b=pd.DataFrame(auxlist)\n",
    "    \n",
    "    auxlist=list()\n",
    "\n",
    "    for t in X_test_b:\n",
    "        v = d2v.infer_vector(t.split())\n",
    "        auxlist.append(v)\n",
    "        \n",
    "    X_test_b=pd.DataFrame(auxlist)\n",
    "\n",
    "    \n",
    "    # Logit model L2\n",
    "    BestLogModel.fit(X_train_b, y_train_b)\n",
    "    y_Log=BestLogModel.predict(X_test_b)\n",
    "    bootstrap_errors_logit.append(roc_auc_score(y_test_b, y_Log))\n",
    "    \n",
    "    # RF model\n",
    "    BestRFModel.fit(X_train_b, y_train_b)\n",
    "    y_RF=BestRFModel.predict(X_test_b)\n",
    "    bootstrap_errors_rf.append(roc_auc_score(y_test_b, y_RF))\n",
    "    \n",
    "    # KNN\n",
    "    BestKNNModel.fit(X_train_b, y_train_b)\n",
    "    y_KNN = BestKNNModel.predict(X_test_b)\n",
    "    bootstrap_errors_knn.append(roc_auc_score(y_test_b, y_KNN))\n",
    "    \n",
    "    # Ensamble\n",
    "    y_preds_best= pd.DataFrame(y_Log, columns=['Regresión logística'])\n",
    "    y_preds_best['Random Forest']=y_RF\n",
    "    y_preds_best['KNN']=y_KNN\n",
    "    y_preds_best['Emsable mejores modelos']=y_preds_best.mode(axis=1)\n",
    "    y_ens = y_preds_best['Emsable mejores modelos']\n",
    "    bootstrap_errors_ens.append(roc_auc_score(y_test_b, y_ens))\n",
    "    \n",
    "    print(i)\n",
    "\n",
    "t1 = time.time()"
   ]
  },
  {
   "cell_type": "code",
   "execution_count": null,
   "id": "8eea62b6",
   "metadata": {},
   "outputs": [],
   "source": [
    "print(f'El tiempo de ejecución del proceso bootstrap con 10 iteraciones fue de: {t1-t0} segundos')"
   ]
  },
  {
   "cell_type": "markdown",
   "id": "2239f660",
   "metadata": {},
   "source": [
    "## Doc2Vec"
   ]
  },
  {
   "cell_type": "markdown",
   "id": "203647c5",
   "metadata": {},
   "source": [
    "> Como se ha mencionado, Doc2Vec nos brindo resultados excepcionales sin ocupar tanto tiempo de computo.  \n",
    "> Para este método, si fue posible realizar el proceso bootstrap (250 iteraciones) que tomó aproximadamente 16 horas.\n",
    ">\n",
    "> Los resultados se exponen a continuación"
   ]
  },
  {
   "cell_type": "code",
   "execution_count": null,
   "id": "214b68c6",
   "metadata": {},
   "outputs": [],
   "source": [
    "BestLogModel = LogisticRegression(C=8.297240355569535,random_state=12345, n_jobs=-1)\n",
    "BestRFModel = RandomForestClassifier(criterion='entropy',min_samples_leaf=3,min_samples_split=10,n_estimators=192,random_state=12345, n_jobs=-1)\n",
    "BestKNNModel = KNeighborsClassifier(n_neighbors=10,leaf_size=30,p=2,weights='distance',n_jobs=-1)"
   ]
  },
  {
   "cell_type": "markdown",
   "id": "e5b29191",
   "metadata": {},
   "source": [
    "### Bootstrap"
   ]
  },
  {
   "cell_type": "code",
   "execution_count": null,
   "id": "91f1c6aa",
   "metadata": {},
   "outputs": [],
   "source": [
    "t0 = time.time()\n",
    "\n",
    "num_records = y.shape[0]\n",
    "bootstrap_errors_logit = []\n",
    "bootstrap_errors_rf = []\n",
    "bootstrap_errors_knn = []\n",
    "bootstrap_errors_ens = []\n",
    "\n",
    "np.random.seed(0)\n",
    "\n",
    "for i in range(250):\n",
    "    train_indices = np.random.choice(range(num_records), num_records, replace=True)\n",
    "    test_indices = np.setdiff1d(range(num_records), train_indices)\n",
    "    \n",
    "    X_train_b, y_train_b = np.array(X)[train_indices], y[train_indices]\n",
    "    X_test_b, y_test_b = np.array(X)[test_indices], y[test_indices]\n",
    "    \n",
    "    db = pd.DataFrame(np.array([X_train_b,y_train_b]).transpose(),columns=['X','y'])\n",
    "    \n",
    "    train_tagged = db.apply(lambda r: TaggedDocument(words=r['X'].split(), tags=[r['y']]), axis=1)\n",
    "    \n",
    "    d2v = Doc2Vec(vector_size=50, min_count=1, epochs=10)\n",
    "    d2v.build_vocab(train_tagged)\n",
    "    d2v.train(train_tagged, total_examples=d2v.corpus_count, epochs=d2v.epochs)\n",
    "\n",
    "    auxlist=list()\n",
    "\n",
    "    for t in train_tagged:\n",
    "        v = d2v.infer_vector(t[0])\n",
    "        auxlist.append(v)\n",
    "    \n",
    "    X_train_b=pd.DataFrame(auxlist)\n",
    "    \n",
    "    auxlist=list()\n",
    "\n",
    "    for t in X_test_b:\n",
    "        v = d2v.infer_vector(t.split())\n",
    "        auxlist.append(v)\n",
    "        \n",
    "    X_test_b=pd.DataFrame(auxlist)\n",
    "\n",
    "    \n",
    "    # Logit model L2\n",
    "    BestLogModel.fit(X_train_b, y_train_b)\n",
    "    y_Log=BestLogModel.predict(X_test_b)\n",
    "    bootstrap_errors_logit.append(roc_auc_score(y_test_b, y_Log))\n",
    "    \n",
    "    # RF model\n",
    "    BestRFModel.fit(X_train_b, y_train_b)\n",
    "    y_RF=BestRFModel.predict(X_test_b)\n",
    "    bootstrap_errors_rf.append(roc_auc_score(y_test_b, y_RF))\n",
    "    \n",
    "    # KNN\n",
    "    BestKNNModel.fit(X_train_b, y_train_b)\n",
    "    y_KNN = BestKNNModel.predict(X_test_b)\n",
    "    bootstrap_errors_knn.append(roc_auc_score(y_test_b, y_KNN))\n",
    "    \n",
    "    # Ensamble\n",
    "    y_preds_best= pd.DataFrame(y_Log, columns=['Regresión logística'])\n",
    "    y_preds_best['Random Forest']=y_RF\n",
    "    y_preds_best['KNN']=y_KNN\n",
    "    y_preds_best['Emsable mejores modelos']=y_preds_best.mode(axis=1)\n",
    "    y_ens = y_preds_best['Emsable mejores modelos']\n",
    "    bootstrap_errors_ens.append(roc_auc_score(y_test_b, y_ens))\n",
    "    \n",
    "    print(i)\n",
    "\n",
    "t1 = time.time()"
   ]
  },
  {
   "cell_type": "markdown",
   "id": "01e89987",
   "metadata": {},
   "source": [
    "### Estadísticas bootstrap"
   ]
  },
  {
   "cell_type": "code",
   "execution_count": null,
   "id": "9ef5573b",
   "metadata": {},
   "outputs": [],
   "source": [
    "bootstrapdb=pd.DataFrame(np.array([bootstrap_errors_logit,bootstrap_errors_rf,bootstrap_errors_knn,bootstrap_errors_ens]).transpose(),columns=['Regresión logistica','Random Forest','KNN','Ensamble: Mejores modelos'])"
   ]
  },
  {
   "cell_type": "code",
   "execution_count": null,
   "id": "ef7ce60c",
   "metadata": {},
   "outputs": [],
   "source": [
    "bootstrapdb=load_object('BTMetricsD2V.pkl')"
   ]
  },
  {
   "cell_type": "code",
   "execution_count": null,
   "id": "cd0ea48f",
   "metadata": {},
   "outputs": [],
   "source": [
    "bootstrap_metrics=bootstrapdb.describe(percentiles=[0.025,0.975])\n",
    "bootstrap_metrics"
   ]
  },
  {
   "cell_type": "code",
   "execution_count": null,
   "id": "365749a3",
   "metadata": {
    "scrolled": false
   },
   "outputs": [],
   "source": [
    "plt.figure(figsize=(15,8))\n",
    "sns.boxplot(data=bootstrapdb,palette='pastel',whis=(0.025,0.975),orient = 'h',fliersize=2,linewidth=2.5)\n",
    "plt.xlabel('ROC AUC')\n",
    "plt.title('Distribución de valores ROC AUC de nuestros modelos\\n (Usando bootstrap)',size=20,fontweight='bold')"
   ]
  },
  {
   "cell_type": "code",
   "execution_count": null,
   "id": "071c578a",
   "metadata": {},
   "outputs": [],
   "source": [
    "plt.figure(figsize=(15,8))\n",
    "g = sns.barplot(x=bootstrap_metrics.T.index,y=bootstrap_metrics.T['mean'],palette=\"Blues_d\")\n",
    "g.bar_label(g.containers[0])\n",
    "plt.title('Valor medio de los valores ROC AUC de nuestros modelos\\n(usando bootstrap)',size=20,fontweight='bold')"
   ]
  },
  {
   "cell_type": "code",
   "execution_count": null,
   "id": "cbf8d0f4",
   "metadata": {},
   "outputs": [],
   "source": [
    "fig, ax = plt.subplots(1,4,figsize=(20,7))\n",
    "\n",
    "sns.histplot(bootstrapdb,x='Regresión logistica',ax=ax[0],element=\"step\",alpha=0.5,color='red')\n",
    "sns.histplot(bootstrapdb,x='Random Forest',ax=ax[1],element=\"step\",alpha=0.5,color='blue')\n",
    "sns.histplot(bootstrapdb,x='KNN',ax=ax[2],element=\"step\",alpha=0.5,color='green')\n",
    "sns.histplot(bootstrapdb,x='Ensamble: Mejores modelos',ax=ax[3],element=\"step\",alpha=0.5,color='yellow')\n",
    "\n",
    "fig.suptitle('Distribución de valores ROC AUC de nuestros modelos\\n (Usando bootstrap)',size=20,fontweight='bold')"
   ]
  },
  {
   "cell_type": "markdown",
   "id": "30c279a0",
   "metadata": {},
   "source": [
    "## **Elección final**"
   ]
  },
  {
   "cell_type": "markdown",
   "id": "37fb591e",
   "metadata": {},
   "source": [
    "> Finalmente, tras todos los modelos entrenados y con base en el bootstrap, podemos decir que **el mejor modelo para atacar nuestro problema es la regresión logística regularizada**, brinda mejores métricas y mas estables.  \n",
    ">\n",
    "> Además, se puede tener dos variantes, entrenada con TF-IDF o Doc2Vec pero como se ha expuesto y recalcado, el método Doc2Vec es mucho mas eficaz y mas rápido.\n",
    "\n",
    ">> **Elección final: Regresión logística regularizada entrenada con word embedding Doc2Vec**"
   ]
  },
  {
   "cell_type": "markdown",
   "id": "92cbb086",
   "metadata": {},
   "source": [
    "# Redes Neuronales"
   ]
  },
  {
   "cell_type": "markdown",
   "id": "8da214d7",
   "metadata": {},
   "source": [
    "> A manera de comparativa, se va a entrenar una red neuronal que pretende competir con el modelo anterior seleccionado.\n",
    "\n",
    "> La principal motivación sobre como está conformada la red es con base en el siguiente artículo:  \n",
    ">\n",
    "\n",
    "<center><i><b> \"Deep Learning Techniques for Text Classification\" [1] </b></i></center>\n",
    "<center><i> - Diardano Raihan </i>\n",
    "\n",
    "> Por lo cual, se agracede a Diardano la inspiración y por el uso de algunas funciones útiles que desarrolló.\n",
    "\n",
    "> El tipo de red que se ocupará es la red convolucional temporal (TCN), que grosso modo es una combinación de una red neuronal convolucional (CNN) y una red neuronal recurrente (RNN).  \n",
    "> Este tipo de redes han resultado ser bastante eficientes para atacar problemas que involucran la evolución o análisis de problemas mas complejos y mas humanos. \n",
    ">\n",
    "> El proceso del entrenamiento de esta red es el siguiente:"
   ]
  },
  {
   "cell_type": "markdown",
   "id": "2bedaa1c",
   "metadata": {},
   "source": [
    "## Paquetería necesaria y funciones de utilidad"
   ]
  },
  {
   "cell_type": "code",
   "execution_count": null,
   "id": "2cee4059",
   "metadata": {},
   "outputs": [],
   "source": [
    "import tensorflow as tf\n",
    "\n",
    "from tensorflow.keras.preprocessing.text import Tokenizer\n",
    "from tensorflow.keras.preprocessing.sequence import pad_sequences\n",
    "\n",
    "\n",
    "from tcn import TCN, tcn_full_summary\n",
    "from tensorflow.keras.layers import Input, Embedding, Dense, Dropout, SpatialDropout1D\n",
    "from tensorflow.keras.layers import concatenate, GlobalAveragePooling1D, GlobalMaxPooling1D\n",
    "from tensorflow.keras.models import Model\n"
   ]
  },
  {
   "cell_type": "code",
   "execution_count": null,
   "id": "4f85a3b6",
   "metadata": {},
   "outputs": [],
   "source": [
    "# Define a function to compute the max length of sequence\n",
    "def max_length(sequences):\n",
    "    '''\n",
    "    input:\n",
    "        sequences: a 2D list of integer sequences\n",
    "    output:\n",
    "        max_length: the max length of the sequences\n",
    "    '''\n",
    "    max_length = 0\n",
    "    for i, seq in enumerate(sequences):\n",
    "        length = len(seq)\n",
    "        if max_length < length:\n",
    "            max_length = length\n",
    "    return max_length"
   ]
  },
  {
   "cell_type": "markdown",
   "id": "7ec3f6ae",
   "metadata": {},
   "source": [
    "> El input que vamos a ocupar para nuestra red será el de la variable que se ocupó para los modelos Doc2Vec, es decir, la que no tiene un proceso de limpieza tan rudo."
   ]
  },
  {
   "cell_type": "code",
   "execution_count": null,
   "id": "0c0a4b41",
   "metadata": {},
   "outputs": [],
   "source": [
    "# y = np.array(['topic'])\n",
    "y = np.array(movies['Rating'])\n",
    "y= np.where(y=='Bueno',1,0)\n",
    "\n",
    "X = movies['review_semiclean']"
   ]
  },
  {
   "cell_type": "code",
   "execution_count": null,
   "id": "50d4390d",
   "metadata": {},
   "outputs": [],
   "source": [
    "X_train, X_test, y_train, y_test = train_test_split(X, y, test_size=0.3, random_state=12345)"
   ]
  },
  {
   "cell_type": "markdown",
   "id": "eb28fb04",
   "metadata": {},
   "source": [
    "> A diferencia de los modelos anterior entrenados, para una red neuronal de clasificación de texto el método de embedding no debe ser tan complejo.  \n",
    ">\n",
    "> Se recomienda usar la tokenización y luego el método de padding (que grosso modo es un método que cuanta las veces que se repite cada palabra en el vocabulario, genera el vector de conteo y a ese vector le agrega tantos ceros como la cantidad de elementos le falten para llegar a la misma longitud del vector de la oración con mas palabras) para posterior hacer un embedding con keras."
   ]
  },
  {
   "cell_type": "code",
   "execution_count": null,
   "id": "1e7be61a",
   "metadata": {},
   "outputs": [],
   "source": [
    "\n",
    "tokenizer = Tokenizer()\n",
    "tokenizer.fit_on_texts(X_train)\n",
    "\n",
    "train_sequences = tokenizer.texts_to_sequences(X_train)\n",
    "max_len = max_length(train_sequences)\n",
    "\n",
    "X_train_pad = pad_sequences(train_sequences, maxlen=max_len, padding='post', truncating='post')\n",
    "\n",
    "test_sequences = tokenizer.texts_to_sequences(X_test)\n",
    "X_test_pad = pad_sequences(test_sequences, maxlen=max_len,  padding='post', truncating='post')\n",
    "\n",
    "n = len(tokenizer.word_index)+1\n"
   ]
  },
  {
   "cell_type": "markdown",
   "id": "f476026e",
   "metadata": {
    "tags": []
   },
   "source": [
    "### Estructuración de la red"
   ]
  },
  {
   "cell_type": "code",
   "execution_count": null,
   "id": "15c8e9c7",
   "metadata": {},
   "outputs": [],
   "source": [
    "inp = Input( shape=(max_len,))\n",
    "\n",
    "x = Embedding(input_dim=n, output_dim=300, input_length=max_len)(inp)\n",
    "x = SpatialDropout1D(0.1)(x)\n",
    "\n",
    "x = TCN(128,dilations = [1, 2, 4], return_sequences=True, activation = 'relu', name = 'tcn1')(x)\n",
    "x = TCN(64,dilations = [1, 2, 4], return_sequences=True, activation = 'relu', name = 'tcn2')(x)\n",
    "\n",
    "avg_pool = GlobalAveragePooling1D()(x)\n",
    "max_pool = GlobalMaxPooling1D()(x)\n",
    "\n",
    "conc = concatenate([avg_pool, max_pool])\n",
    "conc = Dense(16, activation=\"relu\")(conc)\n",
    "conc = Dropout(0.1)(conc)\n",
    "outp = Dense(1, activation=\"sigmoid\")(conc)    \n",
    "\n",
    "model = Model(inputs=inp, outputs=outp)\n"
   ]
  },
  {
   "cell_type": "code",
   "execution_count": null,
   "id": "f2e55d16",
   "metadata": {},
   "outputs": [],
   "source": [
    "model.summary()"
   ]
  },
  {
   "cell_type": "markdown",
   "id": "e04772e8",
   "metadata": {},
   "source": [
    "### Parámetros de optimización"
   ]
  },
  {
   "cell_type": "code",
   "execution_count": null,
   "id": "8782729c",
   "metadata": {},
   "outputs": [],
   "source": [
    "model.compile( loss = 'binary_crossentropy', optimizer = 'adam', metrics = ['accuracy'])"
   ]
  },
  {
   "cell_type": "markdown",
   "id": "6b1fb7ba",
   "metadata": {},
   "source": [
    "### Early call back"
   ]
  },
  {
   "cell_type": "markdown",
   "id": "7e27e327",
   "metadata": {},
   "source": [
    "> Una manera bastante útil para evitar entrenar una red durante mucho tiempo sin que en realidad haya un avance en su entrenamiento, es el uso de early callbacks. Estos son mecanismos que hacen el tracking de alguna métrica durante el entrenamiento y si se cumplen ciertas condiciones, nosotros le diremos a la red qué queremos que haga.  \n",
    "\n",
    "> La siguiente es un ejemplo de un early callback que especifica que **si la red no ha aprendido nada** (delta = 0) **pasadas 20 épocas** (patience = 20) -es decir, que el scores de validación no aumente- **haremos que la red pare el entrenamiento y restaure los pesos optimos de la última época que la red aprendió.**"
   ]
  },
  {
   "cell_type": "code",
   "execution_count": null,
   "id": "5dc58d2c",
   "metadata": {},
   "outputs": [],
   "source": [
    "callbacks = tf.keras.callbacks.EarlyStopping(monitor='val_accuracy', min_delta=0, \n",
    "                                             patience=20, verbose=2, \n",
    "                                             mode='auto', restore_best_weights=True)"
   ]
  },
  {
   "cell_type": "markdown",
   "id": "cdf83b25",
   "metadata": {
    "tags": []
   },
   "source": [
    "### Entrenamiento"
   ]
  },
  {
   "cell_type": "markdown",
   "id": "5d26602f",
   "metadata": {},
   "source": [
    "> Se entrenará la red con un total de 1000 épocas (salvo que termine antes por el early callback anterior) y un batch size de 50, que se refiere a cada cuantos registros en nuestra epoca va a modificar los pesos óptimos de la red"
   ]
  },
  {
   "cell_type": "code",
   "execution_count": null,
   "id": "01942761",
   "metadata": {},
   "outputs": [],
   "source": [
    "history = model.fit(X_train_pad, y_train, batch_size=50, epochs=100, verbose=1, callbacks=[callbacks], validation_data=(X_test_pad, y_test),workers=6,use_multiprocessing=True)"
   ]
  },
  {
   "cell_type": "code",
   "execution_count": null,
   "id": "bf62e92f",
   "metadata": {},
   "outputs": [],
   "source": []
  }
 ],
 "metadata": {
  "kernelspec": {
   "display_name": "Python 3.8.7 64-bit",
   "language": "python",
   "name": "python3"
  },
  "language_info": {
   "codemirror_mode": {
    "name": "ipython",
    "version": 3
   },
   "file_extension": ".py",
   "mimetype": "text/x-python",
   "name": "python",
   "nbconvert_exporter": "python",
   "pygments_lexer": "ipython3",
   "version": "3.8.7"
  },
  "toc": {
   "base_numbering": 1,
   "nav_menu": {},
   "number_sections": false,
   "sideBar": true,
   "skip_h1_title": false,
   "title_cell": "Tabla de contenido",
   "title_sidebar": "Contents",
   "toc_cell": true,
   "toc_position": {
    "height": "calc(100% - 180px)",
    "left": "10px",
    "top": "150px",
    "width": "250px"
   },
   "toc_section_display": true,
   "toc_window_display": true
  },
  "toc-autonumbering": false,
  "vscode": {
   "interpreter": {
    "hash": "95820e00f4c8a0c3c688681fe0568e2e474e06282c14a756cdf7b166dab781b8"
   }
  }
 },
 "nbformat": 4,
 "nbformat_minor": 5
}
